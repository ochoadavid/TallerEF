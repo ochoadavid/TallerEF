{
 "cells": [
  {
   "cell_type": "markdown",
   "metadata": {
    "slideshow": {
     "slide_type": "slide"
    }
   },
   "source": [
    "## Esfuerzos en tres dimensiones."
   ]
  },
  {
   "cell_type": "markdown",
   "metadata": {
    "slideshow": {
     "slide_type": "slide"
    },
    "tags": []
   },
   "source": [
    "En un caso general existen seis deformaciones en un diferencial de volumen:\n",
    "\n",
    "$$\\varepsilon = \\begin{bmatrix}\\varepsilon_x \\\\ \\varepsilon_y \\\\ \\varepsilon_z \\\\ \\gamma_{xy} \\\\ \\gamma_{xz} \\\\ \\gamma_{yz} \\end{bmatrix} = \\begin{bmatrix}\\dfrac{\\partial u}{\\partial x} \\\\ \\dfrac{\\partial v}{\\partial y}  \\\\ \\dfrac{\\partial w}{\\partial z} \\\\ \\dfrac{\\partial u}{\\partial y} + \\dfrac{\\partial v}{\\partial x} \\\\ \\dfrac{\\partial u}{\\partial z} + \\dfrac{\\partial w}{\\partial x} \\\\ \\dfrac{\\partial v}{\\partial z} + \\dfrac{\\partial w}{\\partial y} \\end{bmatrix}$$"
   ]
  },
  {
   "cell_type": "markdown",
   "metadata": {
    "slideshow": {
     "slide_type": "slide"
    },
    "tags": []
   },
   "source": [
    "De igual manera existen seis esfuerzos:\n",
    "\n",
    "$$\\sigma = \\begin{bmatrix}\\sigma_x \\\\ \\sigma_y \\\\ \\sigma_z \\\\ \\tau_{xy} \\\\ \\tau_{xz} \\\\ \\tau_{yz} \\end{bmatrix}$$"
   ]
  },
  {
   "cell_type": "markdown",
   "metadata": {
    "slideshow": {
     "slide_type": "slide"
    },
    "tags": []
   },
   "source": [
    "Estos están asociados según la ley de Hooke:\n",
    "\n",
    "$$\\sigma = D \\varepsilon$$"
   ]
  },
  {
   "cell_type": "markdown",
   "metadata": {
    "slideshow": {
     "slide_type": "slide"
    },
    "tags": []
   },
   "source": [
    "Donde $D$ es igual a:\n",
    "\n",
    "$$D = \\dfrac {E} {(1+\\nu)(1-2\\nu)} \\begin{bmatrix} 1-\\nu & \\nu & \\nu & 0 & 0 & 0 \\\\ \\nu & 1-\\nu & \\nu & 0 & 0 & 0 \\\\ \\nu & \\nu & 1-\\nu & 0 & 0 & 0 \\\\ 0 & 0 & 0 & \\dfrac {1-2\\nu} {2} & 0 & 0 \\\\ 0 & 0 & 0 & 0 & \\dfrac {1-2\\nu} {2} & 0  \\\\ 0 & 0 & 0 & 0 & 0 & \\dfrac {1-2\\nu} {2} \\end{bmatrix}$$"
   ]
  },
  {
   "cell_type": "markdown",
   "metadata": {
    "slideshow": {
     "slide_type": "slide"
    },
    "tags": []
   },
   "source": [
    "Los esfuerzos en las superficies son:\n",
    "\n",
    "$$\\sigma_x n_x + \\tau_{xy} n_y + \\tau_{xz} n_z = t_x$$\n",
    "$$\\tau_{xy} n_x + \\sigma_y n_y + \\tau_{yz} n_z = t_y$$\n",
    "$$\\tau_{xz} n_x + \\tau_{yz} n_y + \\sigma_z n_z = t_z$$"
   ]
  },
  {
   "cell_type": "markdown",
   "metadata": {
    "slideshow": {
     "slide_type": "slide"
    },
    "tags": []
   },
   "source": [
    "Las ecuaciones de equilibrio, incluyendo las fuerzas volumétricas ($f_x$, $f_y$, $f_z$):\n",
    "\n",
    "$$\\dfrac {\\partial \\sigma_x} {\\partial x} + \\dfrac {\\partial \\tau_{xy}} {\\partial y} + \\dfrac {\\partial \\tau_{xz}} {\\partial z} + f_x = 0$$\n",
    "$$\\dfrac {\\partial \\tau_{xy}} {\\partial x} + \\dfrac {\\partial \\sigma_y} {\\partial y} + \\dfrac {\\partial \\tau_{zy}} {\\partial z} + f_y = 0$$\n",
    "$$\\dfrac {\\partial \\tau_{xz}} {\\partial x} + \\dfrac {\\partial \\tau_{yz}} {\\partial y} + \\dfrac {\\partial \\sigma_z} {\\partial z} + f_z = 0$$"
   ]
  },
  {
   "cell_type": "markdown",
   "metadata": {
    "slideshow": {
     "slide_type": "slide"
    },
    "tags": []
   },
   "source": [
    "![Tetrahedro](Imagenes/ElementoTetrahedro.png)"
   ]
  },
  {
   "cell_type": "markdown",
   "metadata": {
    "slideshow": {
     "slide_type": "slide"
    },
    "tags": []
   },
   "source": [
    "Para asociar las doce deformaciones a las funciones de forma usammos la matriz $\\textbf{N}$:\n",
    "\n",
    "$$\\textbf{Na} = \\begin{bmatrix} N_1 & 0 & 0 & N_2 & 0 & 0 & N_3 & 0 & 0 & N_4 & 0 & 0 \\\\ 0 & N_1 & 0 & 0 & N_2 & 0 & 0 & N_3 & 0 & 0 & N_4 & 0 \\\\ 0 & 0 & N_1 & 0 & 0 & N_2 & 0 & 0 & N_3 & 0 & 0 & N_4 \\end{bmatrix}\\begin{bmatrix} a_1 \\\\ a_2 \\\\ a_3 \\\\ a_4 \\\\ a_5 \\\\ a_6 \\\\ a_7 \\\\ a_8 \\\\ a_9 \\\\ a_{10} \\\\ a_{11} \\\\ a_{12} \\end{bmatrix} $$"
   ]
  },
  {
   "cell_type": "markdown",
   "metadata": {
    "slideshow": {
     "slide_type": "slide"
    },
    "tags": []
   },
   "source": [
    "La matriz de transformación de esfuerzo y deformación $\\mathbf{B}$ se obtiene usando:\n",
    "\n",
    "$$\\mathbf{B} =\\begin{bmatrix} \\dfrac {\\partial N_1} {\\partial x} & 0 & 0 & \\dfrac {\\partial N_2} {\\partial x} & 0 & 0 & \\dfrac {\\partial N_3} {\\partial x} & 0 & 0 & \\dfrac {\\partial N_4} {\\partial x} & 0 & 0 \\\\ 0 & \\dfrac {\\partial N_1} {\\partial y} & 0 & 0 & \\dfrac {\\partial N_2} {\\partial y} & 0 & 0 & \\dfrac {\\partial N_3} {\\partial y} & 0 & 0 & \\dfrac {\\partial N_4} {\\partial y} & 0 \\\\ 0 & 0 & \\dfrac {\\partial N_1} {\\partial z} & 0 & 0 & \\dfrac {\\partial N_2} {\\partial z} & 0 & 0 & \\dfrac {\\partial N_3} {\\partial z} & 0 & 0 & \\dfrac {\\partial N_4} {\\partial z} \\\\ \\dfrac {\\partial N_1} {\\partial y} & \\dfrac {\\partial N_1} {\\partial x} & 0 & \\dfrac {\\partial N_2} {\\partial y} & \\dfrac {\\partial N_2} {\\partial x} & 0 & \\dfrac {\\partial N_3} {\\partial y} & \\dfrac {\\partial N_3} {\\partial x} & 0 & \\dfrac {\\partial N_4} {\\partial y} & \\dfrac {\\partial N_4} {\\partial x} & 0 \\\\ \\dfrac {\\partial N_1} {\\partial z} & 0 & \\dfrac {\\partial N_1} {\\partial x} & \\dfrac {\\partial N_2} {\\partial z} & 0 & \\dfrac {\\partial N_2} {\\partial x} & \\dfrac {\\partial N_3} {\\partial z} & 0 & \\dfrac {\\partial N_3} {\\partial x} & \\dfrac {\\partial N_4} {\\partial z} & 0 & \\dfrac {\\partial N_4} {\\partial x} \\\\ 0 & \\dfrac {\\partial N_1} {\\partial z} & \\dfrac {\\partial N_1} {\\partial y} & 0 & \\dfrac {\\partial N_2} {\\partial z} & \\dfrac {\\partial N_2} {\\partial y} & 0 & \\dfrac {\\partial N_3} {\\partial z} & \\dfrac {\\partial N_3} {\\partial y} & 0 & \\dfrac {\\partial N_4} {\\partial z} & \\dfrac {\\partial N_4} {\\partial y} \\end{bmatrix}$$"
   ]
  },
  {
   "cell_type": "markdown",
   "metadata": {
    "editable": true,
    "slideshow": {
     "slide_type": "slide"
    },
    "tags": []
   },
   "source": [
    "De manera similar al esfuerzo plano y la deformación plana, la matriz de rigidez del elemento resulta de:\n",
    "\n",
    "$$\\mathbf{K} =  \\int\\limits_V \\mathbf{B}^T\\mathbf{D}\\mathbf{B} dV$$"
   ]
  },
  {
   "cell_type": "markdown",
   "metadata": {
    "slideshow": {
     "slide_type": "slide"
    },
    "tags": []
   },
   "source": [
    "### Elemento lineal"
   ]
  },
  {
   "cell_type": "markdown",
   "metadata": {
    "slideshow": {
     "slide_type": "slide"
    },
    "tags": []
   },
   "source": [
    "Igual que para esfuerzo y deformación plana en elementos triangulares lineales, para un elemento lineal la matriz $\\mathbf{B}$ es igual a:\n",
    "\n",
    "$$\\mathbf{B} =\\dfrac {1} {6V} \\begin{bmatrix} b_1 & 0 & 0 & b_2 & 0 & 0 & b_3 & 0 & 0 & b_4 & 0 & 0 \\\\ 0 & c_1 & 0 & 0 & c_2 & 0 & 0 & c_3 & 0 & 0 & c_4 & 0 \\\\ 0 & 0 & d_1 & 0 & 0 & d_2 & 0 & 0 & d_3 & 0 & 0 & d_4 \\\\ c_1 & b_1 & 0 & c_2 & b_2 & 0 & c_3 & b_3 & 0 & c_4 & b_4 & 0 \\\\ d_1 & 0 & b_1 & d_2 & 0 & b_2 & d_3 & 0 & b_3 & d_4 & 0 & b_4 \\\\ 0 & d_1 & c_1 & 0 & d_2 & c_2 & 0 & d_3 & c_3 & 0 & d_4 & c_4 \\end{bmatrix}$$"
   ]
  },
  {
   "cell_type": "markdown",
   "metadata": {
    "slideshow": {
     "slide_type": "slide"
    },
    "tags": []
   },
   "source": [
    "Donde:\n",
    "\n",
    "$$b_1 = (y_2-y_4)(z_3-z_4)-(y_3-y_4)(z_2-z_4)$$\n",
    "$$b_2 = (y_3-y_4)(z_1-z_4)-(y_1-y_4)(z_3-z_4)$$\n",
    "$$b_3 = (y_1-y_4)(z_2-z_4)-(y_2-y_4)(z_3-z_4)$$\n",
    "$$b_4 = -(b_1+b_2+b_3)$$"
   ]
  },
  {
   "cell_type": "markdown",
   "metadata": {
    "slideshow": {
     "slide_type": "slide"
    },
    "tags": []
   },
   "source": [
    "$$c_1 = (x_3-x_4)(z_2-z_4)-(x_2-x_4)(z_3-z_4)$$\n",
    "$$c_2 = (x_1-x_4)(z_3-z_4)-(x_3-x_4)(z_1-z_4)$$\n",
    "$$c_3 = (x_2-x_4)(z_1-z_4)-(x_1-x_4)(z_2-z_4)$$\n",
    "$$c_4 = -(c_1+c_2+c_3)$$"
   ]
  },
  {
   "cell_type": "markdown",
   "metadata": {
    "slideshow": {
     "slide_type": "slide"
    },
    "tags": []
   },
   "source": [
    "$$d_1 = (x_2-x_4)(y_3-y_4)-(x_3-x_4)(y_2-y_4)$$\n",
    "$$d_2 = (x_3-x_4)(y_1-y_4)-(x_1-x_4)(y_3-y_4)$$\n",
    "$$d_3 = (x_1-x_4)(y_2-y_4)-(x_2-x_4)(y_1-y_4)$$\n",
    "$$d_4 = -(d_1+d_2+d_3)$$"
   ]
  },
  {
   "cell_type": "markdown",
   "metadata": {
    "slideshow": {
     "slide_type": "slide"
    },
    "tags": []
   },
   "source": [
    "Y el volumen $V$ es igual a:\n",
    "\n",
    "$$V=\\dfrac{1}{6}\\begin{vmatrix} 1 & x_1 & y_1 & z_1 \\\\ 1 & x_2 & y_2 & z_2 \\\\ 1 & x_3 & y_3 & z_3 \\\\ 1 & x_4 & y_4 & z_4 \\end{vmatrix}$$"
   ]
  }
 ],
 "metadata": {
  "julynter-results": {
   "filteredId": [],
   "filteredIndividual": [],
   "filteredRestart": [],
   "filteredType": [],
   "hash": "9f1ce2da579c27efb393a58d5d5d3cd03abdbce6",
   "visible": []
  },
  "kernelspec": {
   "display_name": "Python 3 (ipykernel)",
   "language": "python",
   "name": "python3"
  },
  "language_info": {
   "codemirror_mode": {
    "name": "ipython",
    "version": 3
   },
   "file_extension": ".py",
   "mimetype": "text/x-python",
   "name": "python",
   "nbconvert_exporter": "python",
   "pygments_lexer": "ipython3",
   "version": "3.11.3"
  }
 },
 "nbformat": 4,
 "nbformat_minor": 4
}
