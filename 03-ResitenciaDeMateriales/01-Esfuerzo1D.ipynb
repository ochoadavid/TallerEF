{
 "cells": [
  {
   "cell_type": "markdown",
   "metadata": {
    "slideshow": {
     "slide_type": "slide"
    }
   },
   "source": [
    "## Esfuerzos unidireccionales"
   ]
  },
  {
   "cell_type": "markdown",
   "metadata": {
    "slideshow": {
     "slide_type": "slide"
    }
   },
   "source": [
    "Para estudiar la aplicación del MEF para mecánica de sólidos empezaremos por el modelo más sencillo. Este modelo tiene las siguientes hipótesis:"
   ]
  },
  {
   "cell_type": "markdown",
   "metadata": {
    "slideshow": {
     "slide_type": "slide"
    }
   },
   "source": [
    "__Hipótesis geométrica__:\n",
    "\n",
    "En este modelo se parte de un elemento prismático (sección de forma arbitraria, pero constante) y las fuerzas se aplican en una linea que coincide con el centroide del área (eje $x$)."
   ]
  },
  {
   "cell_type": "markdown",
   "metadata": {
    "slideshow": {
     "slide_type": "slide"
    }
   },
   "source": [
    "![Solidos](Imagenes/Solidos-01.png)"
   ]
  },
  {
   "cell_type": "markdown",
   "metadata": {
    "slideshow": {
     "slide_type": "slide"
    }
   },
   "source": [
    "__Hipótesis sobre las tensiones__:\n",
    "\n",
    "Suponemos que en cualquier punto del sólido el esfuerzo existe sólo en dirección $x$, y por lo tanto lo podemos representar por el siguiente tensor:\n",
    "\n",
    "$$\\sigma(x)=\\begin{bmatrix} \\sigma_x(x) & 0 & 0 \\\\ 0 & 0 & 0 \\\\ 0 & 0 & 0 \\end{bmatrix}$$\n",
    "\n",
    "Esto es un estado uniaxial de tensiones: la componente normal $\\sigma_x$ depende únicamente de la coordenada axial $x$ del punto __x__. En otras palabras, la tensión es constante para todos los puntos de una misma sección transversal."
   ]
  },
  {
   "cell_type": "markdown",
   "metadata": {
    "editable": true,
    "slideshow": {
     "slide_type": "slide"
    },
    "tags": []
   },
   "source": [
    "Las fuerzas externas compatibles con un estado uniaxial de tensiones tienen la forma:\n",
    "\n",
    "$$t(L) = \\begin{bmatrix} f(L) \\\\ 0 \\\\ 0 \\end{bmatrix}$$"
   ]
  },
  {
   "cell_type": "markdown",
   "metadata": {
    "slideshow": {
     "slide_type": "slide"
    }
   },
   "source": [
    "$$t(0) = \\begin{bmatrix} f(0) \\\\ 0 \\\\ 0 \\end{bmatrix}$$"
   ]
  },
  {
   "cell_type": "markdown",
   "metadata": {
    "slideshow": {
     "slide_type": "slide"
    }
   },
   "source": [
    "$$b(x) = \\begin{bmatrix} b(x) \\\\ 0 \\\\ 0 \\end{bmatrix}$$"
   ]
  },
  {
   "cell_type": "markdown",
   "metadata": {
    "slideshow": {
     "slide_type": "slide"
    }
   },
   "source": [
    "Esto es, actúan exclusivamente en la dirección axial de la barra, $t$ es una fuerza por unidad de área que actúa en los extremos de la barra y $b(x)$ es una fuerza volumétrica (por unidad de volumen)."
   ]
  },
  {
   "cell_type": "markdown",
   "metadata": {
    "slideshow": {
     "slide_type": "slide"
    }
   },
   "source": [
    "## Hipótesis sobre el comportamiento del material\n",
    "\n",
    "Suponemos que el material es __isotrópico__ y tiene un comportamiento __linealmente elástico__. Así, podemos usar la ley de Hooke para obtener las deformaciones a partir de las tensiones.\n",
    "\n",
    "$$\\varepsilon_x = \\dfrac {1} {E} [ \\sigma_x - \\nu (\\sigma_y + \\sigma_z) ]$$\n",
    "\n",
    "$$\\varepsilon_y = \\dfrac {1} {E} [ \\sigma_y - \\nu (\\sigma_x + \\sigma_z) ]$$\n",
    "\n",
    "$$\\varepsilon_z = \\dfrac {1} {E} [ \\sigma_z - \\nu (\\sigma_x + \\sigma_y) ]$$"
   ]
  },
  {
   "cell_type": "markdown",
   "metadata": {
    "slideshow": {
     "slide_type": "slide"
    }
   },
   "source": [
    "Tomando en cuenta nuestra hipótesis anterior tenemos:\n",
    "\n",
    "$$\\varepsilon(x) = \\dfrac {1} {E}\\begin{bmatrix} \\sigma_x(x) & 0 & 0 \\\\ 0 & -\\nu \\sigma_x(x) & 0 \\\\ 0 & 0 & -\\nu \\sigma_x(x) \\\\  \\end{bmatrix}$$"
   ]
  },
  {
   "cell_type": "markdown",
   "metadata": {
    "slideshow": {
     "slide_type": "slide"
    }
   },
   "source": [
    "A partir de estas hipótesis resolveremos el balance de fuerzas sobre un diferencial del elemento.\n",
    "\n",
    "![Solidos-01](Imagenes/Solidos-02.png)"
   ]
  },
  {
   "cell_type": "markdown",
   "metadata": {
    "slideshow": {
     "slide_type": "slide"
    }
   },
   "source": [
    "$$-A \\sigma_x (x) + A \\left( \\sigma_x(x) + \\dfrac {d\\sigma_x(x)} {dx} dx \\right) + A b_x(x)dx =0$$"
   ]
  },
  {
   "cell_type": "markdown",
   "metadata": {
    "slideshow": {
     "slide_type": "slide"
    }
   },
   "source": [
    "Que se puede simplificar a:\n",
    "\n",
    "$$A \\dfrac {d\\sigma_X} {dx} +A b(x) = 0$$"
   ]
  },
  {
   "cell_type": "markdown",
   "metadata": {
    "slideshow": {
     "slide_type": "slide"
    }
   },
   "source": [
    "Relacionando esto con la Ley de Hooke (1D):\n",
    "\n",
    "$$\\sigma_x = E \\varepsilon_x$$\n",
    "\n",
    "obtenemos:\n",
    "\n",
    "$$AE \\dfrac {d\\varepsilon_x(x)} {dx} + Ab(x) = 0 $$"
   ]
  },
  {
   "cell_type": "markdown",
   "metadata": {
    "slideshow": {
     "slide_type": "slide"
    }
   },
   "source": [
    "Además, sabemos que:\n",
    "\n",
    "$$\\varepsilon_x (x) = \\dfrac {du(x)} {dx}$$\n",
    "\n",
    "por lo que:\n",
    "\n",
    "$$AE \\dfrac {d^2u_x(x)} {dx^2} + Ab(x) = 0 $$"
   ]
  },
  {
   "cell_type": "markdown",
   "metadata": {
    "slideshow": {
     "slide_type": "slide"
    }
   },
   "source": [
    "Condiciones en la frontera:\n",
    "\n",
    "__Neumann__:\n",
    "\n",
    "$$AE\\dfrac {du} {dx}(x=0) = Af(x=0)$$\n",
    "\n",
    "$$AE\\dfrac {du} {dx}(x=L) = Af(x=L)$$"
   ]
  },
  {
   "cell_type": "markdown",
   "metadata": {
    "slideshow": {
     "slide_type": "slide"
    }
   },
   "source": [
    "__Dirichlet__:\n",
    "\n",
    "$$u(0) =  \\overline{u}_0$$\n",
    "\n",
    "$$u(L) =  \\overline{u}_L$$"
   ]
  },
  {
   "cell_type": "markdown",
   "metadata": {
    "slideshow": {
     "slide_type": "slide"
    }
   },
   "source": [
    "Nótese la correspondencia de esta ecuación con la ecuación de transferencia de calor desarrollada, por lo que podemos establecer la matriz de rigidez (correspondiente a la de conductividad) para un **elemento unidimensional lineal** como:\n",
    "\n",
    "$$\\mathbf{K} = \\dfrac{A^{(e)} E^{(e)}} {L^{(e)}} \\begin{bmatrix} 1 & -1 \\\\ -1 & 1 \\end{bmatrix}$$"
   ]
  },
  {
   "cell_type": "markdown",
   "metadata": {
    "slideshow": {
     "slide_type": "slide"
    }
   },
   "source": [
    "El término de fuerzas volumétricas (uniformes) como:\n",
    "\n",
    "$$\\mathbf{F}_b = \\dfrac{A_ebL_e}{2} \\begin{bmatrix} 1 \\\\ 1 \\end{bmatrix}$$"
   ]
  },
  {
   "cell_type": "markdown",
   "metadata": {
    "slideshow": {
     "slide_type": "slide"
    }
   },
   "source": [
    "## Solución usando la energía potencial"
   ]
  },
  {
   "cell_type": "markdown",
   "metadata": {
    "slideshow": {
     "slide_type": "slide"
    }
   },
   "source": [
    "Para todos los ejercicios hasta ahora hemos utilizado la formulación de funciones ponderadas de Galerkin para aproximar las ecuaciones diferenciales. Para mecánica de sólidos, en especial para materiales linealmente elásticos, este no es el método más utilizado. Lo más común es resolver estos sistemas usando el principio de __mínima energía potencial__ en conjunto con el __método de Rayleigh-Ritz__."
   ]
  },
  {
   "cell_type": "markdown",
   "metadata": {
    "slideshow": {
     "slide_type": "slide"
    }
   },
   "source": [
    "El principio de mínima energía potencial establece que de todos los posibles campos de desplazamiento que un sistema puede tener con la presencia de ciertas cargas externas aquella que cumple las ecuaciones de comportamiento:\n",
    "\n",
    "\n",
    "$$-\\dfrac{\\partial} {\\partial x}\\left(d_{11} \\dfrac {\\partial u} {\\partial x} + d_{12} \\dfrac {\\partial v} {\\partial y} \\right) - d_{33} \\dfrac{\\partial} {\\partial y} \\left(\\dfrac {\\partial u} {\\partial y} + \\dfrac {\\partial v} {\\partial x} \\right) = f_x$$\n",
    "\n",
    "$$- d_{33} \\dfrac{\\partial} {\\partial x} \\left(\\dfrac {\\partial u} {\\partial y} + \\dfrac {\\partial v} {\\partial x} \\right) -\\dfrac{\\partial} {\\partial y}\\left(d_{21} \\dfrac {\\partial u} {\\partial x} + d_{22} \\dfrac {\\partial v} {\\partial y} \\right)  = f_y$$\n",
    "\n",
    "es en la que el sistema tiene la __mínima energía potencial__."
   ]
  },
  {
   "cell_type": "markdown",
   "metadata": {
    "slideshow": {
     "slide_type": "slide"
    }
   },
   "source": [
    "La ventaja de formular el problema de esta manera es que la energía potencial de un sistema es fácil obtener y que el método de Rayleigh-Ritz garantiza que si minimizamos la energía potencial sobre funciones aproximadas definidas en una malla, cuando refinemos la malla la solución converge a la solución exacta. Además, plantear el problema como una función a minimizar nos permite obtener diversos resultados útiles."
   ]
  },
  {
   "cell_type": "markdown",
   "metadata": {
    "slideshow": {
     "slide_type": "slide"
    }
   },
   "source": [
    "Para un sólido elástico la energía potencial total está dada por:\n",
    "\n",
    "$$U=\\dfrac {1} {2} \\int\\limits_V \\varepsilon^T \\sigma dV - \\int\\limits_{S_1}\\mathbf{u}^T\\mathbf{t}ds - \\int\\limits_{V}\\mathbf{u}^T\\mathbf{f}dV - \\sum_k \\mathbf{u}^T_k\\mathbf{P}_k$$\n",
    "\n",
    "Donde:\n",
    "\n",
    "* $\\mathbf{P}_k$ es una fuerza puntual aplicada en el nodo $k$\n",
    "* $\\mathbf{u}$ es el desplazamiento en dicho nodo."
   ]
  },
  {
   "cell_type": "markdown",
   "metadata": {
    "slideshow": {
     "slide_type": "slide"
    }
   },
   "source": [
    "Integrando las expresiones matriciales obtenidas anteriormente, la ecuación se puede reescribir como:\n",
    "\n",
    "$$U=\\dfrac {1} {2} \\int\\limits_V \\mathbf{a}^T \\mathbf{B}^T \\mathbf{D} \\mathbf{B} \\mathbf{a} dV - \\int\\limits_{S_1}\\mathbf{a}^T \\mathbf{N}^T \\mathbf{t}ds - \\int\\limits_{V}\\mathbf{a}^T \\mathbf{N}^T\\mathbf{f}dV - \\sum_k \\mathbf{a}^T_k\\mathbf{P}_k$$\n",
    "\n",
    "Aquí $\\mathbf{a}_k = \\begin{bmatrix} u_k & v_k \\end{bmatrix}^T$ son los dos componentes del desplazamiento en el nodo $k$ y $\\mathbf{P}_k = \\begin{bmatrix} P_{xk} & P_{yk} \\end{bmatrix}^T$ son los componentes de la carga aplicada en el nodo."
   ]
  },
  {
   "cell_type": "markdown",
   "metadata": {
    "slideshow": {
     "slide_type": "slide"
    }
   },
   "source": [
    "La minimización de $U$ en una malla de elemento finito que define los grados de libertad en $\\mathbf{a}$ es conocida como la aproximación de Rayleigh-Ritz. Para encontrar las coordenadas del mínimo (respecto a dicho vector $\\mathbf{a}$) se encuentran resolviendo:\n",
    "\n",
    "$$\\dfrac {\\partial U} {\\partial a_i} = 0$$\n",
    "\n",
    "Para $i=1,...,N$; donde $N$ es el número total de grados de libertad en la discretización."
   ]
  },
  {
   "cell_type": "markdown",
   "metadata": {
    "slideshow": {
     "slide_type": "slide"
    }
   },
   "source": [
    "El resultado final es el sistema de ecuaciones:\n",
    "\n",
    "$$\\left[ \\int\\limits_V \\mathbf{B}^T \\mathbf{D} \\mathbf{B} dV\\right]\\mathbf{a} = \\int\\limits_{S_1} \\mathbf{N}^T \\mathbf{t}ds + \\int\\limits_{V} \\mathbf{N}^T\\mathbf{f}dV + \\mathbf{P}$$\n",
    "\n",
    "Observese que esta solución corresponde a la encontrada anteriormente, excepto por la inclusión del vector $\\mathbf{P}$ que corresponde a las cargas puntuales en los nodos."
   ]
  },
  {
   "cell_type": "markdown",
   "metadata": {
    "slideshow": {
     "slide_type": "slide"
    }
   },
   "source": [
    "## Esfuerzo unidireccional en el plano"
   ]
  },
  {
   "cell_type": "markdown",
   "metadata": {
    "slideshow": {
     "slide_type": "slide"
    }
   },
   "source": [
    "### Planteamiento para un elemento a tensión en el plano (armaduras):\n",
    "\n",
    "En un caso general, el elemento estudiado no estará alineado con el eje de las *x*, por lo que, para asociar su deformación con el desplazamiento de los nodos (que en este caso tiene dos componentes: _x_ y _y_) tenemos que estudiar la relación de estas variables."
   ]
  },
  {
   "cell_type": "markdown",
   "metadata": {
    "slideshow": {
     "slide_type": "slide"
    }
   },
   "source": [
    "Para esto utilizaremos las siguientes definiciones:\n",
    "\n",
    "$$ \\lambda_x = \\frac{ x_{2} - x_{1}}{\\sqrt{\\left(x_{2}- x_{1} \\right)^{2} + \\left( y_{2}- y_{1} \\right)^{2}}} = \\frac{x_{2}- x_{1}  }{L_e} = cos(\\theta_x)$$"
   ]
  },
  {
   "cell_type": "markdown",
   "metadata": {
    "slideshow": {
     "slide_type": "slide"
    }
   },
   "source": [
    "$$ \\lambda_y = \\frac{ y_{2} - y_{1}}{\\sqrt{\\left(x_{2}- x_{1} \\right)^{2} + \\left( y_{2}- y_{1} \\right)^{2}}} = \\frac{y_{2}- y_{1}  }{L_e} = cos(\\theta_y)$$"
   ]
  },
  {
   "cell_type": "markdown",
   "metadata": {
    "slideshow": {
     "slide_type": "slide"
    }
   },
   "source": [
    "Los desplazamientos pueden ser estudiados de la siguiente manera:\n",
    "\n",
    "* Para el nodo $1$ tenemos que un desplazamiento en la dirección $x$ producirá, en el elemento un desplazamiento: $d_{1x} \\lambda_x$\n",
    "\n",
    "* Para el mismo nodo un desplazamiento en la dirección $y$ producirá, en el elemento un desplazamiento: $d_{1y} \\lambda_y$"
   ]
  },
  {
   "cell_type": "markdown",
   "metadata": {
    "slideshow": {
     "slide_type": "slide"
    }
   },
   "source": [
    "Así, el desplazamiento total será:\n",
    "\n",
    "$$d_1 = d_{1x} \\lambda_x + d_{1y} \\lambda_y$$"
   ]
  },
  {
   "cell_type": "markdown",
   "metadata": {
    "slideshow": {
     "slide_type": "slide"
    }
   },
   "source": [
    "Para el nodo $2$, con la misma lógica, obtenemos:\n",
    "\n",
    "$$d_2 = d_{2x} \\lambda_x + d_{2y} \\lambda_y$$"
   ]
  },
  {
   "cell_type": "markdown",
   "metadata": {
    "slideshow": {
     "slide_type": "slide"
    }
   },
   "source": [
    "En forma matricial:\n",
    "\n",
    "$$\\begin{bmatrix} d_1 \\\\ d_2 \\end{bmatrix} = \\begin{bmatrix} \\lambda_x & \\lambda_y & 0 & 0 \\\\ 0 & 0 & \\lambda_x & \\lambda_y \\end{bmatrix}\\begin{bmatrix} d_{1x} \\\\ d_{1y} \\\\ d_{2x} \\\\ d_{2y} \\end{bmatrix}$$"
   ]
  },
  {
   "cell_type": "markdown",
   "metadata": {
    "slideshow": {
     "slide_type": "slide"
    }
   },
   "source": [
    "Esta matriz, llamada __Matriz de transformación de fuerza y desplazamiento__ la usaremos entonces para cambiar el desplazamiento de los nodos del elemento en su propias coordenadas a las coordenadas del dominio.\n",
    "\n",
    "$$ B = \\begin{bmatrix} \\lambda_x & \\lambda_y & 0 & 0 \\\\ 0 & 0 & \\lambda_x & \\lambda_y \\end{bmatrix}$$"
   ]
  },
  {
   "cell_type": "markdown",
   "metadata": {
    "slideshow": {
     "slide_type": "slide"
    }
   },
   "source": [
    "Para obtener la matriz $\\mathbf{K}$, respecto al sistema de coordenadas global, utilizamos:\n",
    "\n",
    "$$B \\cdot K \\cdot B^T = \\dfrac{A^{(e)} E^{(e)}} {L^{(e)}}\\begin{bmatrix}\\lambda_{x}^{2} & \\lambda_{x} \\lambda_{y} & - \\lambda_{x}^{2} & - \\lambda_{x} \\lambda_{y}\\\\\\lambda_{x} \\lambda_{y} & \\lambda_{y}^{2} & - \\lambda_{x} \\lambda_{y} & - \\lambda_{y}^{2}\\\\- \\lambda_{x}^{2} & - \\lambda_{x} \\lambda_{y} & \\lambda_{x}^{2} & \\lambda_{x} \\lambda_{y}\\\\- \\lambda_{x} \\lambda_{y} & - \\lambda_{y}^{2} & \\lambda_{x} \\lambda_{y} & \\lambda_{y}^{2}\\end{bmatrix}$$"
   ]
  }
 ],
 "metadata": {
  "celltoolbar": "Slideshow",
  "julynter-results": {
   "filteredId": [],
   "filteredIndividual": [],
   "filteredRestart": [],
   "filteredType": [],
   "hash": "e111bdcdfc47e9c457ce8095aa096a061bce4997",
   "visible": []
  },
  "kernelspec": {
   "display_name": "Python 3 (ipykernel)",
   "language": "python",
   "name": "python3"
  },
  "language_info": {
   "codemirror_mode": {
    "name": "ipython",
    "version": 3
   },
   "file_extension": ".py",
   "mimetype": "text/x-python",
   "name": "python",
   "nbconvert_exporter": "python",
   "pygments_lexer": "ipython3",
   "version": "3.11.3"
  }
 },
 "nbformat": 4,
 "nbformat_minor": 4
}
