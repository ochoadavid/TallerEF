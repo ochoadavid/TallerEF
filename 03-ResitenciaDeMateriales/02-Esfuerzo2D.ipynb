{
 "cells": [
  {
   "cell_type": "markdown",
   "metadata": {
    "slideshow": {
     "slide_type": "slide"
    }
   },
   "source": [
    "# Elemento plano"
   ]
  },
  {
   "cell_type": "markdown",
   "metadata": {
    "slideshow": {
     "slide_type": "slide"
    }
   },
   "source": [
    "Como fue mencionado en el capítulo 1, el método de los elementos finitos fue desarrollado originalmente para ayudar a resolver problemas de diseño en estructuras aeroespaciales y después fue extendido a otros campos. En los capítulos anteriores trabajamos con problemas de transferencia de calor, donde teníamos únicamente una incógnita para cada nodo."
   ]
  },
  {
   "cell_type": "markdown",
   "metadata": {
    "slideshow": {
     "slide_type": "slide"
    }
   },
   "source": [
    "En mecánica de sólidos, que incluye el análisis de esfuerzo ($\\sigma$), deformación unitaria ($\\varepsilon$), diseño estructural, fatiga, falla, deformación, carga cíclica entre otras, debemos de tratar con por lo menos una incógnita por dirección espacial. Así, por ejemplo, un problema de elasticidad lineal en dos dimensiones incluye dos incógnitas por nodo."
   ]
  },
  {
   "cell_type": "markdown",
   "metadata": {
    "slideshow": {
     "slide_type": "slide"
    }
   },
   "source": [
    "### Esfuerzo triaxial - Ley de Hooke"
   ]
  },
  {
   "cell_type": "markdown",
   "metadata": {
    "slideshow": {
     "slide_type": "slide"
    }
   },
   "source": [
    "El tensor general de esfuerzos en tres dimensiones tiene la forma:\n",
    "\n",
    "$$\\sigma = \\begin{bmatrix} \\sigma_x & \\tau_{xy} & \\tau_{xz} \\\\ \\tau_{yx} & \\sigma_y & \\tau_{yz} \\\\ \\tau_{zx} & \\tau_{zy} & \\sigma_z \\end{bmatrix}$$"
   ]
  },
  {
   "cell_type": "markdown",
   "metadata": {
    "slideshow": {
     "slide_type": "slide"
    }
   },
   "source": [
    "De manera general la deformación en un caso de esfuerzo triaxial se puede calcular utilizando las siguientes expresiones:\n",
    "\n",
    "$$\\varepsilon_x = \\dfrac {\\sigma_x} {E} - \\dfrac {\\nu} {E} (\\sigma_y + \\sigma_z) $$\n",
    "\n",
    "$$\\varepsilon_y = \\dfrac {\\sigma_y} {E} - \\dfrac {\\nu} {E} (\\sigma_z + \\sigma_x) $$\n",
    "\n",
    "$$\\varepsilon_z = \\dfrac {\\sigma_z} {E} - \\dfrac {\\nu} {E} (\\sigma_x + \\sigma_y) $$"
   ]
  },
  {
   "cell_type": "markdown",
   "metadata": {
    "slideshow": {
     "slide_type": "slide"
    }
   },
   "source": [
    "Si resolvemos de manera simultanea estas tres ecuaciones podemos obtener las expresiones para el esfuerzos en términos de las deformaciones:\n",
    "\n",
    "$$\\sigma_x = \\dfrac {E} {(1+\\nu)(1-2\\nu)} \\left[(1-\\nu)\\varepsilon_x + \\nu (\\varepsilon_y + \\varepsilon_z) \\right]$$\n",
    "\n",
    "$$\\sigma_y = \\dfrac {E} {(1+\\nu)(1-2\\nu)} \\left[(1-\\nu)\\varepsilon_y + \\nu (\\varepsilon_z + \\varepsilon_y) \\right]$$\n",
    "\n",
    "$$\\sigma_z = \\dfrac {E} {(1+\\nu)(1-2\\nu)} \\left[(1-\\nu)\\varepsilon_z + \\nu (\\varepsilon_x + \\varepsilon_y) \\right]$$"
   ]
  },
  {
   "cell_type": "markdown",
   "metadata": {
    "slideshow": {
     "slide_type": "slide"
    }
   },
   "source": [
    "Además, debemos incluir el comportamiento correspondiente a los esfuerzos cortantes. Por ejemplo en el caso de $\\tau_{xy}$:\n",
    "\n",
    "$$\\tau_{xy} = G \\gamma_{xy}$$\n",
    "\n",
    "Sabemos que $G$ esta relacionada a $E$ y $\\nu$, mediante:\n",
    "\n",
    "$$G = \\dfrac {E} {2(1+\\nu)}$$\n",
    "\n",
    "De tal forma que:\n",
    "\n",
    "$$\\tau_{xy} = \\dfrac {E} {2(1+\\nu)} \\gamma_{xy}$$"
   ]
  },
  {
   "cell_type": "markdown",
   "metadata": {
    "slideshow": {
     "slide_type": "slide"
    }
   },
   "source": [
    "## Esfuerzo-deformación elástica en dos dimensiones"
   ]
  },
  {
   "cell_type": "markdown",
   "metadata": {
    "slideshow": {
     "slide_type": "slide"
    }
   },
   "source": [
    "El comportamiento elástico en dos dimensiones (2D) se clasifica normalmente en dos modos: __esfuerzo plano__ y __deformación plana__. Los dos son casos particulares de los problemas de elasticidad en tres dimensiones."
   ]
  },
  {
   "cell_type": "markdown",
   "metadata": {
    "slideshow": {
     "slide_type": "slide"
    }
   },
   "source": [
    "__Esfuerzo plano__: Esta condición se da cuando el espesor es pequeño comparado con las dimensiones del elemento ($x$, $y$). En este caso se asume que no existe un esfuerzo en la dirección $z$ y que la dimensión en este sentido es constante (el espesor). Así, este condición admite esfuerzos $\\sigma_x$, $\\sigma_y$ y $\\tau_{xy}$, mientras que los componentes $\\sigma_z$, $\\tau_{xz}$ y $\\tau_{yz}$ son iguales a cero. \n",
    "\n",
    "Así, del estado general de esfuerzos, el modelo de esfuerzo plano solo incluye:\n",
    "$$\\sigma = \\begin{bmatrix} \\sigma_x & \\tau_{xy} & 0 \\\\ \\tau_{yx} & \\sigma_y & 0 \\\\ 0 & 0 & 0 \\end{bmatrix}$$\n",
    "\n",
    "Por su parte, las deformaciones $\\varepsilon_x$, $\\varepsilon_y$, $\\varepsilon_z$ y $\\gamma_{xy}$ pueden ser diferentes a cero, mientras que $\\gamma_{xz}$ y $\\gamma_{yz}$ son iguales a cero.\n",
    "\n",
    "Más información en [artículo de wikipedia](https://en.wikipedia.org/wiki/Plane_stress)."
   ]
  },
  {
   "cell_type": "markdown",
   "metadata": {
    "slideshow": {
     "slide_type": "slide"
    }
   },
   "source": [
    "__Deformación plana__: Esta condición se da cuando el espesor comparable con las dimensiones del elemento ($x$, $y$). En este caso se asume que no existe deformación en la dirección $z$, y que por lo tanto tienen que existir un esfuerzo para que, a pesar de los esfuerzos en $x$ y $y$ aplicados el elemento no se deforme en esta dirección (que sería la consecuencia de la relación de Poisson). Así, este condición admite esfuerzos $\\sigma_x$, $\\sigma_y$, $\\sigma_z$ y $\\tau_{xy}$, mientras que los componentes $\\tau_{xz}$ y $\\tau_{yz}$ son iguales a cero. \n",
    "\n",
    "Así, del estado general de esfuerzos, el modelo de esfuerzo plano solo incluye:\n",
    "$$\\sigma = \\begin{bmatrix} \\sigma_x & \\tau_{xy} & 0 \\\\ \\tau_{yx} & \\sigma_y & 0 \\\\ 0 & 0 & \\sigma_z \\end{bmatrix}$$\n",
    "\n",
    "En cuanto a las deformaciones $\\varepsilon_x$, $\\varepsilon_y$ y $\\gamma_{xy}$ pueden ser diferentes a cero, mientras que $\\varepsilon_z$, $\\gamma_{xz}$ y $\\gamma_{yz}$ son iguales a cero.\n",
    "\n",
    "Más información en [artículo de wikipedia](https://en.wikipedia.org/wiki/Plane_strain)."
   ]
  },
  {
   "cell_type": "markdown",
   "metadata": {
    "slideshow": {
     "slide_type": "slide"
    }
   },
   "source": [
    "Las ecuaciones que describen el comportamiento elástico en dos dimensiones son:\n",
    "\n",
    "$$\\dfrac {\\partial \\sigma_x} {\\partial x} + \\dfrac {\\partial \\tau_{xy}} {\\partial y} + f_x = 0 $$\n",
    "\n",
    "$$\\dfrac {\\partial \\tau_{xy}} {\\partial x} + \\dfrac {\\partial \\sigma_y} {\\partial y} + f_y = 0 $$\n",
    "\n",
    "Donde:\n",
    "* $\\sigma_x$ y $\\sigma_y$ son los componentes de los esfuerzos normales en las direcciones $x$ y $y$ respectivamente.\n",
    "* $\\tau_{xy}$ es el esfuerzo de corte, que actúa en el plano $x-y$\n",
    "* $f_x$ y $f_y$ corresponden a las fuerzas volumétricas en cada una de las direcciones."
   ]
  },
  {
   "cell_type": "markdown",
   "metadata": {
    "slideshow": {
     "slide_type": "slide"
    }
   },
   "source": [
    "Las relaciones de esfuerzo deformación están definidas con las expresiones:\n",
    "\n",
    "$$\\varepsilon_x = \\dfrac {\\partial u} {\\partial x}$$\n",
    "\n",
    "$$\\varepsilon_y = \\dfrac {\\partial v} {\\partial y}$$\n",
    "\n",
    "$$\\gamma_{xy} = \\dfrac {\\partial u} {\\partial y} + \\dfrac {\\partial v} {\\partial x}$$\n",
    "\n",
    "Donde:\n",
    "\n",
    "* $u$ es el desplazamiento en la dirección $x$\n",
    "\n",
    "* $v$ es el desplazamiento en la dirección $y$"
   ]
  },
  {
   "cell_type": "markdown",
   "metadata": {
    "slideshow": {
     "slide_type": "slide"
    }
   },
   "source": [
    "Estos están relacionados por la __Ley de Hooke__:\n",
    "\n",
    "$$\\mathbf{\\sigma}= \\mathbf{D}\\mathbf{\\varepsilon}$$\n",
    "\n",
    "donde:\n",
    "\n",
    "$$\\sigma_x = d_{11}\\varepsilon_x + d_{12}\\varepsilon_y$$\n",
    "\n",
    "$$\\sigma_y = d_{21}\\varepsilon_x + d_{22}\\varepsilon_y$$\n",
    "\n",
    "$$\\tau_{xy} = d_{33}\\gamma_{xy}$$"
   ]
  },
  {
   "cell_type": "markdown",
   "metadata": {
    "editable": true,
    "slideshow": {
     "slide_type": ""
    },
    "tags": []
   },
   "source": [
    "Donde $\\mathbf{D}$ es la matriz de rigidez del material, que para un material isotrópico esta definida, según el tipo de esfuerzo como ($E$ es el módulo de elasticidad y $\\nu$ es la relación de Poisson):\n",
    "\n",
    "__Esfuerzo plano__:\n",
    "$$d_{11} = d_{22} = \\dfrac {E} {1-\\nu^2}$$\n",
    "\n",
    "$$d_{12} = d_{21} = \\dfrac {\\nu E} {1-\\nu^2}$$\n",
    "\n",
    "$$d_{33} = \\dfrac {E} {2(1+\\nu)}$$"
   ]
  },
  {
   "cell_type": "markdown",
   "metadata": {
    "editable": true,
    "slideshow": {
     "slide_type": ""
    },
    "tags": []
   },
   "source": [
    "__Deformación plana__:\n",
    "$$d_{11} = d_{22} = \\dfrac {E(1-\\nu)} {(1+\\nu)(1-2\\nu)}$$\n",
    "\n",
    "$$d_{12} = d_{21} = \\dfrac {E\\nu} {(1+\\nu)(1-2\\nu)}$$\n",
    "\n",
    "$$d_{33} = \\dfrac {E} {2(1+\\nu)}$$"
   ]
  },
  {
   "cell_type": "markdown",
   "metadata": {
    "slideshow": {
     "slide_type": "slide"
    }
   },
   "source": [
    "Así, en general:\n",
    "\n",
    "$$\\mathbf{D} = \\begin{bmatrix} d_{11} & d_{12} & 0 \\\\ d_{21} & d_{22} & 0 \\\\ 0 & 0 & d_{33} \\end{bmatrix}$$\n",
    "\n",
    "y \n",
    "\n",
    "$$\\mathbf{\\varepsilon}= \\mathbf{D}^{-1}\\mathbf{\\sigma}$$"
   ]
  },
  {
   "cell_type": "markdown",
   "metadata": {
    "slideshow": {
     "slide_type": "slide"
    }
   },
   "source": [
    "Las __condiciones de frontera__ asociadas con estas expresiones son:\n",
    "\n",
    "Superficies en las que existe un esfuerzo externo ($S_1$):\n",
    "$$\\sigma_x n_x + \\tau_{xy} n_y = t_x$$\n",
    "\n",
    "$$\\tau_{xy} n_x + \\sigma_y n_y = t_y$$\n",
    "\n",
    "Donde:\n",
    "* $n_x$ y $n_y$ son las componentes del vector unitario normal a la superficie.\n",
    "* $t_x$ y $t_y$ son los esfuerzos de tensión conocidos en la frontera."
   ]
  },
  {
   "cell_type": "markdown",
   "metadata": {
    "slideshow": {
     "slide_type": "slide"
    }
   },
   "source": [
    "Superficies donde se conoce el desplazamiento ($S_2$):\n",
    "$$u=\\overline{u}$$\n",
    "\n",
    "$$v=\\overline{v}$$\n",
    "\n",
    "Donde:\n",
    "* $\\overline{u}$ y $\\overline{v}$ son los desplazamientos conocidos."
   ]
  },
  {
   "cell_type": "markdown",
   "metadata": {
    "slideshow": {
     "slide_type": "slide"
    }
   },
   "source": [
    "Las ecuaciones anteriores se pueden combinar para obtener:\n",
    "\n",
    "\n",
    "$$-\\dfrac{\\partial} {\\partial x}\\left(d_{11} \\dfrac {\\partial u} {\\partial x} + d_{12} \\dfrac {\\partial v} {\\partial y} \\right) - d_{33} \\dfrac{\\partial} {\\partial y} \\left(\\dfrac {\\partial u} {\\partial y} + \\dfrac {\\partial v} {\\partial x} \\right) = f_x$$\n",
    "\n",
    "$$- d_{33} \\dfrac{\\partial} {\\partial x} \\left(\\dfrac {\\partial u} {\\partial y} + \\dfrac {\\partial v} {\\partial x} \\right) -\\dfrac{\\partial} {\\partial y}\\left(d_{21} \\dfrac {\\partial u} {\\partial x} + d_{22} \\dfrac {\\partial v} {\\partial y} \\right)  = f_y$$"
   ]
  },
  {
   "cell_type": "markdown",
   "metadata": {
    "slideshow": {
     "slide_type": "slide"
    }
   },
   "source": [
    "Las condiciones de tensión en la frontera:\n",
    "\n",
    "$$t_x = \\left(d_{11} \\dfrac {\\partial u} {\\partial x} + d_{12} \\dfrac {\\partial v} {\\partial y} \\right) n_x + d_{33}  \\left(\\dfrac {\\partial u} {\\partial y} + \\dfrac {\\partial v} {\\partial x} \\right) n_y$$\n",
    "\n",
    "$$t_y = d_{33}  \\left(\\dfrac {\\partial u} {\\partial y} + \\dfrac {\\partial v} {\\partial x} \\right) n_x + \\left(d_{21} \\dfrac {\\partial u} {\\partial x} + d_{22} \\dfrac {\\partial v} {\\partial y} \\right) n_y $$"
   ]
  },
  {
   "cell_type": "markdown",
   "metadata": {
    "slideshow": {
     "slide_type": "slide"
    }
   },
   "source": [
    "Aplicando el método de Galerkin, los desplazamientos $u$ y $v$ se aproximan dentro un elemento usando:\n",
    "\n",
    "$$u^{(e)} = \\sum_{i=1}^n N_i u_i = \\eta\\mathbf{u}^{(e)}$$\n",
    "\n",
    "$$v^{(e)} = \\sum_{i=1}^n N_i v_i = \\eta\\mathbf{v}^{(e)}$$\n",
    "\n",
    "Donde:\n",
    "* $\\eta = \\begin{bmatrix} N_1 & N_2 & \\dots & N_n \\end{bmatrix}$\n",
    "\n",
    "* $\\mathbf{u}^{(e)} = \\begin{bmatrix} u_1 & u_2 & \\dots & u_n \\end{bmatrix}$\n",
    "\n",
    "* $\\mathbf{v}^{(e)} = \\begin{bmatrix} v_1 & v_2 & \\dots & v_n \\end{bmatrix}$"
   ]
  },
  {
   "cell_type": "markdown",
   "metadata": {
    "slideshow": {
     "slide_type": "slide"
    }
   },
   "source": [
    "Para el elemento triangular de tres nodos:\n",
    "\n",
    "![Elemento triangular linear](Imagenes/ElementoTriangular.png)"
   ]
  },
  {
   "cell_type": "markdown",
   "metadata": {
    "slideshow": {
     "slide_type": "slide"
    }
   },
   "source": [
    "$$u^{(e)} = N_1 u_1 + N_2 u_2 + N_3 u_3$$\n",
    "\n",
    "$$v^{(e)} = N_1 v_1 + N_2 v_2 + N_3 v_3$$"
   ]
  },
  {
   "cell_type": "markdown",
   "metadata": {
    "slideshow": {
     "slide_type": "slide"
    }
   },
   "source": [
    "Definimos un vector $\\mathbf{a}$ que incluye los desplazamientos de los tres nodos en las dos direcciones:\n",
    "\n",
    "$$\\mathbf{a}^{(e)} = \\begin{bmatrix} a_1 & a_2 & a_3 & a_4 & a_5 & a_6 \\end{bmatrix}^T = \\begin{bmatrix} u_1 & v_1 & u_2 & v_2 & u_3 & v_3 \\end{bmatrix}^T$$"
   ]
  },
  {
   "cell_type": "markdown",
   "metadata": {
    "slideshow": {
     "slide_type": "slide"
    }
   },
   "source": [
    "En notación matricial el vector de desplazamientos $\\mathbf{u}$ se puede calcular usando:\n",
    "\n",
    "\n",
    "$$\\mathbf{u} = \\begin{bmatrix} N_1 & 0 & N_2 & 0 & N_3 & 0 \\\\ 0 & N_1 & 0 & N_2 & 0 & N_3 \\end{bmatrix}\\begin{bmatrix} a_1 \\\\ a_2 \\\\ a_3 \\\\ a_4 \\\\ a_5 \\\\ a_6 \\end{bmatrix}$$"
   ]
  },
  {
   "cell_type": "markdown",
   "metadata": {
    "slideshow": {
     "slide_type": "slide"
    }
   },
   "source": [
    "Que puede ser expresado también usando:\n",
    "\n",
    "$$\\mathbf{u} = \\mathbf{N} \\mathbf{a}$$\n",
    "\n",
    "Donde:\n",
    "* $\\mathbf{N}$ es la matriz $2 \\times 6$ formada por las funciones de forma lineales\n",
    "* $\\mathbf{a}$ es el vector de los desplazamientos"
   ]
  },
  {
   "cell_type": "markdown",
   "metadata": {
    "slideshow": {
     "slide_type": "slide"
    }
   },
   "source": [
    "Aplicando el método de los residuos ponderados e integrando usando el teorema de Green obtenemos:\n",
    "\n",
    "$$\\int\\limits_A\\left[\\dfrac{\\partial N_i} {\\partial x}\\left(d_{11} \\dfrac {\\partial u} {\\partial x} + d_{12} \\dfrac {\\partial v} {\\partial y} \\right) + d_{33} \\dfrac{\\partial N_i} {\\partial y} \\left(\\dfrac {\\partial u} {\\partial y} + \\dfrac {\\partial v} {\\partial x} \\right) - N_i f_x\\right] dxdy - \\int\\limits_{S_1}N_i t_x dS = 0$$\n",
    "\n",
    "$$\\int\\limits_A\\left[ d_{33} \\dfrac{\\partial N_i} {\\partial x} \\left(\\dfrac {\\partial u} {\\partial y} + \\dfrac {\\partial v} {\\partial x} \\right) + \\dfrac{\\partial N_i} {\\partial y}\\left(d_{21} \\dfrac {\\partial u} {\\partial x} + d_{22} \\dfrac {\\partial v} {\\partial y} \\right) - N_i f_y \\right] dxdy - \\int\\limits_{S_1}N_i t_y dS = 0$$"
   ]
  },
  {
   "cell_type": "markdown",
   "metadata": {
    "slideshow": {
     "slide_type": "slide"
    }
   },
   "source": [
    "Utilizando las aproximaciones\n",
    "\n",
    "$$u^{(e)} = \\sum_{i=1}^n N_i u_i $$\n",
    "\n",
    "$$v^{(e)} = \\sum_{i=1}^n N_i v_i $$\n",
    "\n",
    "podemos reescribir estas ecuaciones en forma matricial como:\n",
    "\n",
    "$$\\mathbf{K}_{11}\\mathbf{u}^{(e)} + \\mathbf{K}_{12}\\mathbf{v}^{(e)} = \\mathbf{F}_1 $$\n",
    "\n",
    "$$\\mathbf{K}_{21}\\mathbf{u}^{(e)} + \\mathbf{K}_{22}\\mathbf{v}^{(e)} = \\mathbf{F}_2 $$"
   ]
  },
  {
   "cell_type": "markdown",
   "metadata": {
    "slideshow": {
     "slide_type": "slide"
    }
   },
   "source": [
    "Donde:\n",
    "\n",
    "$$(\\mathbf{K}_{11})_{ij} = \\int \\limits_A \\left(d_{11}\\dfrac {\\partial N_i} {\\partial x}\\dfrac {\\partial N_j} {\\partial x} + d_{33}\\dfrac {\\partial N_i} {\\partial y}\\dfrac {\\partial N_j} {\\partial y}\\right) dxdy$$\n",
    "\n",
    "$$(\\mathbf{K}_{12})_{ij} = (\\mathbf{K}_{21}^T)_{ij}  = \\int \\limits_A \\left(d_{12}\\dfrac {\\partial N_i} {\\partial x}\\dfrac {\\partial N_j} {\\partial y} + d_{33}\\dfrac {\\partial N_i} {\\partial y}\\dfrac {\\partial N_j} {\\partial x}\\right) dxdy$$\n",
    "\n",
    "$$(\\mathbf{K}_{22})_{ij} = \\int \\limits_A \\left(d_{33}\\dfrac {\\partial N_i} {\\partial x}\\dfrac {\\partial N_j} {\\partial x} + d_{22}\\dfrac {\\partial N_i} {\\partial y}\\dfrac {\\partial N_j} {\\partial y}\\right) dxdy$$"
   ]
  },
  {
   "cell_type": "markdown",
   "metadata": {
    "slideshow": {
     "slide_type": "slide"
    }
   },
   "source": [
    "Los vectores fuerza:\n",
    "\n",
    "$$(\\mathbf{F}_1)_i = \\int \\limits_A N_i f_x dxdy + \\int \\limits_{S_1} N_i t_x dS$$\n",
    "\n",
    "$$(\\mathbf{F}_2)_i = \\int \\limits_A N_i f_y dxdy + \\int \\limits_{S_1} N_i t_y dS$$\n",
    "\n",
    "Estas ecuaciones matriciales son válidas para elementos de cualquier forma."
   ]
  },
  {
   "cell_type": "markdown",
   "metadata": {
    "slideshow": {
     "slide_type": "slide"
    }
   },
   "source": [
    "Para cualquier nodo en la frontera hay cuatro combinaciones de condiciones que determinen el comportamiento:\n",
    "\n",
    "1. $u$ y $v$ conocidos\n",
    "2. $u$ y $t_y$ conocidos\n",
    "3. $t_x$ y $v$ conocidos\n",
    "4. $t_x$ y $t_y$ conocidos"
   ]
  },
  {
   "cell_type": "markdown",
   "metadata": {
    "slideshow": {
     "slide_type": "slide"
    }
   },
   "source": [
    "Las relaciones de esfuerzo deformación pueden ser reescritas como:\n",
    "\n",
    "$$\\begin{bmatrix} \\varepsilon_x \\\\ \\varepsilon_y \\\\ \\gamma_{xy} \\end{bmatrix} = \\begin{bmatrix} \\dfrac {\\partial} {\\partial x} & 0 \\\\ 0 & \\dfrac {\\partial} {\\partial y} \\\\ \\dfrac {\\partial} {\\partial y} &\\dfrac {\\partial} {\\partial x}\\end{bmatrix}\\begin{bmatrix} u \\\\ v \\end{bmatrix}$$"
   ]
  },
  {
   "cell_type": "markdown",
   "metadata": {
    "slideshow": {
     "slide_type": "slide"
    }
   },
   "source": [
    "$$\\begin{bmatrix} \\sigma_x \\\\ \\sigma_y \\\\ \\tau_{xy} \\end{bmatrix} = \\begin{bmatrix} d_{11} & d_{12} & 0 \\\\ d_{21} & d_{22} & 0 \\\\ 0 & 0 & d_{33} \\end{bmatrix} \\begin{bmatrix} \\varepsilon_x \\\\ \\varepsilon_y \\\\ \\gamma_{xy} \\end{bmatrix} $$"
   ]
  },
  {
   "cell_type": "markdown",
   "metadata": {
    "slideshow": {
     "slide_type": "slide"
    }
   },
   "source": [
    "$$\\begin{bmatrix} t_x \\\\ t_y \\end{bmatrix} = \\begin{bmatrix} \\sigma_x n_x + \\tau_{xy} n_y \\\\ \\tau_{xy} n_x + \\sigma_y n_y \\end{bmatrix} $$"
   ]
  },
  {
   "cell_type": "markdown",
   "metadata": {
    "slideshow": {
     "slide_type": "slide"
    }
   },
   "source": [
    "Una expresión simple se puede obtener para el elemento linear triangular:\n",
    "\n",
    "$$\\mathbf{K}\\mathbf{a} = \\mathbf{F}$$\n",
    "\n",
    "Donde:\n",
    "\n",
    "$$\\mathbf{K} =  \\int\\limits_A \\mathbf{B}^T\\mathbf{D}\\mathbf{B} dA$$"
   ]
  },
  {
   "cell_type": "markdown",
   "metadata": {
    "slideshow": {
     "slide_type": "slide"
    }
   },
   "source": [
    "$$ \\mathbf{B} = \\begin{bmatrix} \\dfrac {\\partial N_1} {\\partial x} & 0 & \\dfrac {\\partial N_2} {\\partial x} & 0 & \\dfrac {\\partial N_3} {\\partial x} & 0 \\\\ 0 & \\dfrac {\\partial N_1} {\\partial y} & 0 & \\dfrac {\\partial N_2} {\\partial y} & 0 & \\dfrac {\\partial N_3} {\\partial y} \\\\ \\dfrac {\\partial N_1} {\\partial y} &\\dfrac {\\partial N_1} {\\partial x} & \\dfrac {\\partial N_2} {\\partial y} &\\dfrac {\\partial N_2} {\\partial x} & \\dfrac {\\partial N_3} {\\partial y} &\\dfrac {\\partial N_3} {\\partial x}\\end{bmatrix} $$"
   ]
  },
  {
   "cell_type": "markdown",
   "metadata": {
    "editable": true,
    "slideshow": {
     "slide_type": ""
    },
    "tags": []
   },
   "source": [
    "Que, según lo visto anteriormente y **para elementos lineales** coincide con:\n",
    "\n",
    "$$ \\mathbf{B} = \\dfrac {1} {2A} \\begin{bmatrix} b_1 & 0 & b_2 & 0 & b_3 & 0 \\\\ 0 & c_1 & 0 & c_2 & 0 & c_3 \\\\ c_1 & b_1 & c_2 & b_2 & c_3 & b_3 \\end{bmatrix} $$"
   ]
  },
  {
   "cell_type": "markdown",
   "metadata": {
    "slideshow": {
     "slide_type": "slide"
    }
   },
   "source": [
    "Donde los coeficientes $b_i$ y $c_i$ corresponden a los coeficientes usados en el capítulo 4:\n",
    "\n",
    "|$i$|$b_i$|$c_i$|\n",
    "|:---:|:-----:|:-----:|\n",
    "|$1$|$y_2-y_3$|$x_3-x_2$|\n",
    "|$2$|$y_3-y_1$|$x_1-x_3$|\n",
    "|$3$|$y_1-y_2$|$x_2-x_1$|"
   ]
  },
  {
   "cell_type": "markdown",
   "metadata": {
    "slideshow": {
     "slide_type": "slide"
    }
   },
   "source": [
    "El vector de carga esta dado por:\n",
    "\n",
    "$$\\mathbf{F} = \\int\\limits_A \\mathbf{N}^T \\mathbf{f} dx dy + \\int\\limits_S \\mathbf{N}^T \\mathbf{t} dS$$\n",
    "\n",
    "Con:\n",
    "\n",
    "$$\\mathbf{f} = \\begin{bmatrix} f_x \\\\ f_ y\\end{bmatrix}$$\n",
    "\n",
    "$$\\mathbf{t} = \\begin{bmatrix} t_x \\\\ t_ y\\end{bmatrix}$$"
   ]
  },
  {
   "cell_type": "markdown",
   "metadata": {
    "slideshow": {
     "slide_type": "slide"
    }
   },
   "source": [
    "Por ejemplo, para una carga constante $f_x = f_0$ y $f_y = 0$:\n",
    "\n",
    "$$\\int\\limits_A \\mathbf{N}^T \\mathbf{f} dx dy = \\dfrac {Af_0} {3} \\begin{bmatrix} 1 \\\\ 0 \\\\ 1 \\\\ 0 \\\\ 1 \\\\ 0 \\end{bmatrix}$$"
   ]
  },
  {
   "cell_type": "markdown",
   "metadata": {
    "slideshow": {
     "slide_type": "slide"
    }
   },
   "source": [
    "Nótese que las deformaciones se pueden calcular fácilmente usando $\\varepsilon = \\mathbf{B}\\mathbf{a}$:\n",
    "\n",
    "$$\\begin{bmatrix} \\varepsilon_x \\\\ \\varepsilon_y \\\\ \\gamma_{xy} \\end{bmatrix} = \\dfrac {1} {2A} \\begin{bmatrix} b_1 & 0 & b_2 & 0 & b_3 & 0 \\\\ 0 & c_1 & 0 & c_2 & 0 & c_3 \\\\ c_1 & b_1 & c_2 & b_2 & c_3 & b_3 \\end{bmatrix}\\begin{bmatrix} a_1 \\\\ a_2 \\\\ a_3 \\\\ a_4 \\\\ a_5 \\\\ a_6 \\end{bmatrix}$$"
   ]
  }
 ],
 "metadata": {
  "celltoolbar": "Slideshow",
  "julynter-results": {
   "filteredId": [],
   "filteredIndividual": [],
   "filteredRestart": [],
   "filteredType": [],
   "hash": "21720d2eb45fbb36d293f8f72028a9675ddff3c2",
   "visible": []
  },
  "kernelspec": {
   "display_name": "Python 3 (ipykernel)",
   "language": "python",
   "name": "python3"
  },
  "language_info": {
   "codemirror_mode": {
    "name": "ipython",
    "version": 3
   },
   "file_extension": ".py",
   "mimetype": "text/x-python",
   "name": "python",
   "nbconvert_exporter": "python",
   "pygments_lexer": "ipython3",
   "version": "3.11.3"
  }
 },
 "nbformat": 4,
 "nbformat_minor": 4
}
