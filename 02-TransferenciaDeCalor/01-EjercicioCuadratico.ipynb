{
 "cells": [
  {
   "cell_type": "markdown",
   "metadata": {
    "slideshow": {
     "slide_type": "slide"
    }
   },
   "source": [
    "# Solución utilizando un elemento cuadrático"
   ]
  },
  {
   "cell_type": "markdown",
   "metadata": {
    "slideshow": {
     "slide_type": "slide"
    }
   },
   "source": [
    "Solución del problema con los siguientes valores:\n",
    "\n",
    "$$ L = 3\\,m $$\n",
    "\n",
    "$$ K = 50\\,\\left(\\frac {W} {m\\cdot K}\\right) $$\n",
    "\n",
    "$$ q = 25\\,\\frac{W}{m^2} $$\n",
    "\n",
    "$$ Q = 40\\,\\frac{W}{m^3} $$\n",
    "\n",
    "$$ T_L = 300\\,K $$"
   ]
  },
  {
   "cell_type": "markdown",
   "metadata": {},
   "source": [
    "Importamos la librería `sp` y la función para imprimir las ecuaciones."
   ]
  },
  {
   "cell_type": "code",
   "execution_count": 1,
   "metadata": {},
   "outputs": [],
   "source": [
    "import sympy as sp\n",
    "from IPython.display import display as pp"
   ]
  },
  {
   "cell_type": "markdown",
   "metadata": {},
   "source": [
    "Declaramos los símbolos que utilizaremos."
   ]
  },
  {
   "cell_type": "code",
   "execution_count": 2,
   "metadata": {},
   "outputs": [],
   "source": [
    "L, x, q, qL = sp.symbols('L, x, q, q_L')\n",
    "T_1, T_2, T_3 = sp.symbols('T_1, T_2, T_3')"
   ]
  },
  {
   "cell_type": "markdown",
   "metadata": {},
   "source": [
    "Declaramos el vector de las temperaturas en los nodos."
   ]
  },
  {
   "cell_type": "code",
   "execution_count": 3,
   "metadata": {},
   "outputs": [
    {
     "data": {
      "text/latex": [
       "$\\displaystyle \\left[\\begin{matrix}T_{1}\\\\T_{2}\\\\T_{3}\\end{matrix}\\right]$"
      ],
      "text/plain": [
       "Matrix([\n",
       "[T_1],\n",
       "[T_2],\n",
       "[T_3]])"
      ]
     },
     "metadata": {},
     "output_type": "display_data"
    }
   ],
   "source": [
    "T = sp.Matrix([T_1, T_2, T_3])\n",
    "pp(T)"
   ]
  },
  {
   "cell_type": "markdown",
   "metadata": {},
   "source": [
    "Declaramos las funciones de forma y las almacenamos en un vector $VN$."
   ]
  },
  {
   "cell_type": "code",
   "execution_count": 4,
   "metadata": {},
   "outputs": [
    {
     "data": {
      "text/latex": [
       "$\\displaystyle \\left[\\begin{matrix}1 - \\frac{3 x}{L} + \\frac{2 x^{2}}{L^{2}}\\\\\\frac{4 x}{L} - \\frac{4 x^{2}}{L^{2}}\\\\- \\frac{x}{L} + \\frac{2 x^{2}}{L^{2}}\\end{matrix}\\right]$"
      ],
      "text/plain": [
       "Matrix([\n",
       "[1 - 3*x/L + 2*x**2/L**2],\n",
       "[    4*x/L - 4*x**2/L**2],\n",
       "[     -x/L + 2*x**2/L**2]])"
      ]
     },
     "metadata": {},
     "output_type": "display_data"
    }
   ],
   "source": [
    "N_1 = 1 - 3*x/L + 2*(x/L)**2\n",
    "N_2 = 4*x/L -4*(x/L)**2\n",
    "N_3 = - x/L + 2*(x/L)**2\n",
    "\n",
    "VN = sp.Matrix([N_1, N_2, N_3])\n",
    "pp(VN)"
   ]
  },
  {
   "cell_type": "markdown",
   "metadata": {},
   "source": [
    "Para verificar las funciones las graficamos substituyendo $L = 3$ (el dato del problema)."
   ]
  },
  {
   "cell_type": "code",
   "execution_count": 5,
   "metadata": {},
   "outputs": [
    {
     "data": {
      "image/png": "[encoded data removed]",
      "text/plain": [
       "<Figure size 432x288 with 1 Axes>"
      ]
     },
     "metadata": {
      "needs_background": "light"
     },
     "output_type": "display_data"
    }
   ],
   "source": [
    "graph = sp.plot(N_1.subs(L,3), N_2.subs(L,3), N_3.subs(L,3), xlim=[0,3],ylim=[-0.5,1.5])"
   ]
  },
  {
   "cell_type": "markdown",
   "metadata": {},
   "source": [
    "Calculamos las deriviadas de las tres funciones de forma y las almacenamos en un vector."
   ]
  },
  {
   "cell_type": "code",
   "execution_count": 6,
   "metadata": {},
   "outputs": [
    {
     "data": {
      "text/latex": [
       "$\\displaystyle \\left[\\begin{matrix}- \\frac{3}{L} + \\frac{4 x}{L^{2}}\\\\\\frac{4}{L} - \\frac{8 x}{L^{2}}\\\\- \\frac{1}{L} + \\frac{4 x}{L^{2}}\\end{matrix}\\right]$"
      ],
      "text/plain": [
       "Matrix([\n",
       "[-3/L + 4*x/L**2],\n",
       "[ 4/L - 8*x/L**2],\n",
       "[-1/L + 4*x/L**2]])"
      ]
     },
     "metadata": {},
     "output_type": "display_data"
    }
   ],
   "source": [
    "dN_1 = sp.diff(N_1,x).expand()\n",
    "dN_2 = sp.diff(N_2,x).expand()\n",
    "dN_3 = sp.diff(N_3,x).expand()\n",
    "\n",
    "VdN = sp.Matrix([dN_1, dN_2, dN_3])\n",
    "pp(VdN)"
   ]
  },
  {
   "cell_type": "markdown",
   "metadata": {},
   "source": [
    "Multiplicamos el vector de las derivadas por si mismo para construir una matriz."
   ]
  },
  {
   "cell_type": "code",
   "execution_count": 7,
   "metadata": {},
   "outputs": [
    {
     "data": {
      "text/latex": [
       "$\\displaystyle \\left[\\begin{matrix}\\left(- \\frac{3}{L} + \\frac{4 x}{L^{2}}\\right)^{2} & \\left(- \\frac{3}{L} + \\frac{4 x}{L^{2}}\\right) \\left(\\frac{4}{L} - \\frac{8 x}{L^{2}}\\right) & \\left(- \\frac{3}{L} + \\frac{4 x}{L^{2}}\\right) \\left(- \\frac{1}{L} + \\frac{4 x}{L^{2}}\\right)\\\\\\left(- \\frac{3}{L} + \\frac{4 x}{L^{2}}\\right) \\left(\\frac{4}{L} - \\frac{8 x}{L^{2}}\\right) & \\left(\\frac{4}{L} - \\frac{8 x}{L^{2}}\\right)^{2} & \\left(- \\frac{1}{L} + \\frac{4 x}{L^{2}}\\right) \\left(\\frac{4}{L} - \\frac{8 x}{L^{2}}\\right)\\\\\\left(- \\frac{3}{L} + \\frac{4 x}{L^{2}}\\right) \\left(- \\frac{1}{L} + \\frac{4 x}{L^{2}}\\right) & \\left(- \\frac{1}{L} + \\frac{4 x}{L^{2}}\\right) \\left(\\frac{4}{L} - \\frac{8 x}{L^{2}}\\right) & \\left(- \\frac{1}{L} + \\frac{4 x}{L^{2}}\\right)^{2}\\end{matrix}\\right]$"
      ],
      "text/plain": [
       "Matrix([\n",
       "[               (-3/L + 4*x/L**2)**2, (-3/L + 4*x/L**2)*(4/L - 8*x/L**2), (-3/L + 4*x/L**2)*(-1/L + 4*x/L**2)],\n",
       "[ (-3/L + 4*x/L**2)*(4/L - 8*x/L**2),                (4/L - 8*x/L**2)**2,  (-1/L + 4*x/L**2)*(4/L - 8*x/L**2)],\n",
       "[(-3/L + 4*x/L**2)*(-1/L + 4*x/L**2), (-1/L + 4*x/L**2)*(4/L - 8*x/L**2),                (-1/L + 4*x/L**2)**2]])"
      ]
     },
     "metadata": {},
     "output_type": "display_data"
    }
   ],
   "source": [
    "MdN = VdN * VdN.T\n",
    "pp(MdN)"
   ]
  },
  {
   "cell_type": "markdown",
   "metadata": {},
   "source": [
    "Integramos la matriz con respecto a $x$. En este caso, para demostrar los pasos, se utiliza la integral indefinida."
   ]
  },
  {
   "cell_type": "code",
   "execution_count": 8,
   "metadata": {},
   "outputs": [
    {
     "data": {
      "text/latex": [
       "$\\displaystyle \\left[\\begin{matrix}\\frac{9 x}{L^{2}} - \\frac{12 x^{2}}{L^{3}} + \\frac{16 x^{3}}{3 L^{4}} & - \\frac{12 x}{L^{2}} + \\frac{20 x^{2}}{L^{3}} - \\frac{32 x^{3}}{3 L^{4}} & \\frac{3 x}{L^{2}} - \\frac{8 x^{2}}{L^{3}} + \\frac{16 x^{3}}{3 L^{4}}\\\\- \\frac{12 x}{L^{2}} + \\frac{20 x^{2}}{L^{3}} - \\frac{32 x^{3}}{3 L^{4}} & \\frac{16 x}{L^{2}} - \\frac{32 x^{2}}{L^{3}} + \\frac{64 x^{3}}{3 L^{4}} & - \\frac{4 x}{L^{2}} + \\frac{12 x^{2}}{L^{3}} - \\frac{32 x^{3}}{3 L^{4}}\\\\\\frac{3 x}{L^{2}} - \\frac{8 x^{2}}{L^{3}} + \\frac{16 x^{3}}{3 L^{4}} & - \\frac{4 x}{L^{2}} + \\frac{12 x^{2}}{L^{3}} - \\frac{32 x^{3}}{3 L^{4}} & \\frac{x}{L^{2}} - \\frac{4 x^{2}}{L^{3}} + \\frac{16 x^{3}}{3 L^{4}}\\end{matrix}\\right]$"
      ],
      "text/plain": [
       "Matrix([\n",
       "[  9*x/L**2 - 12*x**2/L**3 + 16*x**3/(3*L**4), -12*x/L**2 + 20*x**2/L**3 - 32*x**3/(3*L**4),   3*x/L**2 - 8*x**2/L**3 + 16*x**3/(3*L**4)],\n",
       "[-12*x/L**2 + 20*x**2/L**3 - 32*x**3/(3*L**4),  16*x/L**2 - 32*x**2/L**3 + 64*x**3/(3*L**4), -4*x/L**2 + 12*x**2/L**3 - 32*x**3/(3*L**4)],\n",
       "[   3*x/L**2 - 8*x**2/L**3 + 16*x**3/(3*L**4),  -4*x/L**2 + 12*x**2/L**3 - 32*x**3/(3*L**4),     x/L**2 - 4*x**2/L**3 + 16*x**3/(3*L**4)]])"
      ]
     },
     "metadata": {},
     "output_type": "display_data"
    }
   ],
   "source": [
    "integral = sp.integrate(MdN, x)\n",
    "pp(integral)"
   ]
  },
  {
   "cell_type": "markdown",
   "metadata": {},
   "source": [
    "Substituimos los límites de integración y multiplicamos por $k = 50$ (según los datos del problema)."
   ]
  },
  {
   "cell_type": "code",
   "execution_count": 9,
   "metadata": {},
   "outputs": [
    {
     "data": {
      "text/latex": [
       "$\\displaystyle \\left[\\begin{matrix}\\frac{350}{9} & - \\frac{400}{9} & \\frac{50}{9}\\\\- \\frac{400}{9} & \\frac{800}{9} & - \\frac{400}{9}\\\\\\frac{50}{9} & - \\frac{400}{9} & \\frac{350}{9}\\end{matrix}\\right]$"
      ],
      "text/plain": [
       "Matrix([\n",
       "[ 350/9, -400/9,   50/9],\n",
       "[-400/9,  800/9, -400/9],\n",
       "[  50/9, -400/9,  350/9]])"
      ]
     },
     "metadata": {},
     "output_type": "display_data"
    }
   ],
   "source": [
    "K = 50 * integral.subs({x:L}).subs({L:3})\n",
    "pp(K)"
   ]
  },
  {
   "cell_type": "markdown",
   "metadata": {},
   "source": [
    "Integramos el vector de las funciones de forma $VN$ y, para conformar el vector de generación, lo multiplicamos por $Q = 40$."
   ]
  },
  {
   "cell_type": "code",
   "execution_count": 10,
   "metadata": {},
   "outputs": [
    {
     "data": {
      "text/latex": [
       "$\\displaystyle \\left[\\begin{matrix}20\\\\80\\\\20\\end{matrix}\\right]$"
      ],
      "text/plain": [
       "Matrix([\n",
       "[20],\n",
       "[80],\n",
       "[20]])"
      ]
     },
     "metadata": {},
     "output_type": "display_data"
    }
   ],
   "source": [
    "FQ = 40 * sp.integrate(VN, x).subs({x:L}).subs({L:3})\n",
    "pp(FQ)"
   ]
  },
  {
   "cell_type": "markdown",
   "metadata": {},
   "source": [
    "En este caso conocemos la $T_3 = 300$, pero desconocemos el flujo a la salida. Podemos incluirlo como incógnita $q_L$ en el vector de flujo. Incluimos en este mismo vector el flujo $q = 25$ que es un dato del problema."
   ]
  },
  {
   "cell_type": "code",
   "execution_count": 11,
   "metadata": {},
   "outputs": [
    {
     "data": {
      "text/latex": [
       "$\\displaystyle \\left[\\begin{matrix}25\\\\0\\\\- q_{L}\\end{matrix}\\right]$"
      ],
      "text/plain": [
       "Matrix([\n",
       "[  25],\n",
       "[   0],\n",
       "[-q_L]])"
      ]
     },
     "metadata": {},
     "output_type": "display_data"
    }
   ],
   "source": [
    "Fq = sp.Matrix([25,0,-qL])\n",
    "pp(Fq)"
   ]
  },
  {
   "cell_type": "markdown",
   "metadata": {},
   "source": [
    "Realizamos la operación $KT = F_Q + F_q$ para obtener el sistema de ecuaciones, substituyendo la temperatura conocida $T_3 = 300$."
   ]
  },
  {
   "cell_type": "code",
   "execution_count": 12,
   "metadata": {},
   "outputs": [
    {
     "data": {
      "text/latex": [
       "$\\displaystyle \\left[\\begin{matrix}\\frac{350 T_{1}}{9} - \\frac{400 T_{2}}{9} + \\frac{4865}{3}\\\\- \\frac{400 T_{1}}{9} + \\frac{800 T_{2}}{9} - \\frac{40240}{3}\\\\\\frac{50 T_{1}}{9} - \\frac{400 T_{2}}{9} + q_{L} + \\frac{34940}{3}\\end{matrix}\\right]$"
      ],
      "text/plain": [
       "Matrix([\n",
       "[      350*T_1/9 - 400*T_2/9 + 4865/3],\n",
       "[    -400*T_1/9 + 800*T_2/9 - 40240/3],\n",
       "[50*T_1/9 - 400*T_2/9 + q_L + 34940/3]])"
      ]
     },
     "metadata": {},
     "output_type": "display_data"
    }
   ],
   "source": [
    "ecuaciones = (K * T - FQ - Fq).subs(T_3,300)\n",
    "pp(ecuaciones)"
   ]
  },
  {
   "cell_type": "markdown",
   "metadata": {},
   "source": [
    "Resolvemos el sistema de ecuaciones."
   ]
  },
  {
   "cell_type": "code",
   "execution_count": 13,
   "metadata": {},
   "outputs": [
    {
     "data": {
      "text/plain": [
       "{T_1: 3051/10, T_2: 6069/20, q_L: 145}"
      ]
     },
     "metadata": {},
     "output_type": "display_data"
    }
   ],
   "source": [
    "solucion = sp.solve(ecuaciones)\n",
    "pp(solucion)"
   ]
  },
  {
   "cell_type": "markdown",
   "metadata": {},
   "source": [
    "Para graficar los resultados construimos un vector con los valores de $T$ obtenidos."
   ]
  },
  {
   "cell_type": "code",
   "execution_count": 14,
   "metadata": {},
   "outputs": [
    {
     "data": {
      "text/latex": [
       "$\\displaystyle \\left[\\begin{matrix}\\frac{3051}{10}\\\\\\frac{6069}{20}\\\\300\\end{matrix}\\right]$"
      ],
      "text/plain": [
       "Matrix([\n",
       "[3051/10],\n",
       "[6069/20],\n",
       "[    300]])"
      ]
     },
     "metadata": {},
     "output_type": "display_data"
    }
   ],
   "source": [
    "VTsol = sp.Matrix([solucion[T_1], solucion[T_2], 300])\n",
    "pp(VTsol)"
   ]
  },
  {
   "cell_type": "markdown",
   "metadata": {},
   "source": [
    "Sabemos que la solución está formada por $\\sum T_i \\cdot N_i$ lo que corresponde a un producto punto."
   ]
  },
  {
   "cell_type": "code",
   "execution_count": 15,
   "metadata": {},
   "outputs": [
    {
     "data": {
      "text/latex": [
       "$\\displaystyle - \\frac{2 x^{2}}{5} - \\frac{x}{2} + \\frac{3051}{10}$"
      ],
      "text/plain": [
       "-2*x**2/5 - x/2 + 3051/10"
      ]
     },
     "metadata": {},
     "output_type": "display_data"
    }
   ],
   "source": [
    "T_solucion = VTsol.dot(VN).subs(L,3)\n",
    "pp(T_solucion)"
   ]
  },
  {
   "cell_type": "markdown",
   "metadata": {},
   "source": [
    "Finalmente la graficamos."
   ]
  },
  {
   "cell_type": "code",
   "execution_count": 16,
   "metadata": {},
   "outputs": [
    {
     "data": {
      "image/png": "[encoded data removed]",
      "text/plain": [
       "<Figure size 432x288 with 1 Axes>"
      ]
     },
     "metadata": {
      "needs_background": "light"
     },
     "output_type": "display_data"
    },
    {
     "data": {
      "text/plain": [
       "<sympy.plotting.plot.Plot at 0x7f2016c5ca90>"
      ]
     },
     "execution_count": 16,
     "metadata": {},
     "output_type": "execute_result"
    }
   ],
   "source": [
    "sp.plot(T_solucion,(x,0,3))"
   ]
  },
  {
   "cell_type": "markdown",
   "metadata": {
    "slideshow": {
     "slide_type": "slide"
    }
   },
   "source": [
    "__Ejercicio:__\n",
    "\n",
    "Modificar el código para resolver el problema utilizando, en lugar de las funciones cuadráticas, las siguientes funciones cúbicas. __Nota__: será necesario cambiar la posición de los nodos de $(0, \\frac{L}{2}, L)$ a $(0, \\frac{L}{3},\\frac{2L}{3}, L)$\n",
    "\n",
    "$$N_1^{(e)}(x) = \\left(1 - \\dfrac {3x} {h^{(e)}} \\right) \\left(1 - \\dfrac {3x} {2h^{(e)}} \\right) \\left(1 - \\dfrac {x} {h^{(e)}} \\right)$$\n",
    "\n",
    "$$N_2^{(e)}(x) = \\dfrac {9x} {h^{(e)}}  \\left(1 - \\dfrac {3x} {2h^{(e)}} \\right) \\left(1 - \\dfrac {x} {h^{(e)}} \\right)$$\n",
    "\n",
    "$$N_3^{(e)}(x) = - \\dfrac {9x} {2h^{(e)}}  \\left(1 - \\dfrac {3x} {h^{(e)}} \\right) \\left(1 - \\dfrac {x} {h^{(e)}} \\right)$$\n",
    "\n",
    "$$N_4^{(e)}(x) = \\dfrac {x} {h^{(e)}}  \\left(1 - \\dfrac {3x} {h^{(e)}} \\right) \\left(1 - \\dfrac {3x} {2h^{(e)}} \\right)$$"
   ]
  }
 ],
 "metadata": {
  "julynter-results": {
   "filteredId": [],
   "filteredIndividual": [],
   "filteredRestart": [],
   "filteredType": [],
   "hash": "f24ba97468df98fb49afdb353750e949bf8f4922",
   "visible": [
    {
     "cellId": "group",
     "hash": "c0de46ba034d710c2b2406a37ee6816be9634aa0",
     "reason": "This groups other lint messages",
     "reportId": "group",
     "reportType": "hiddenstate",
     "suggestion": null,
     "text": "Hidden State"
    },
    {
     "cellId": 2,
     "hash": "c73d8883cf7fb322340e5b30cfc963b544b5e658",
     "reason": "A cell with results of a previous session may fail to execute or produce different results in this one, hampering the reproducibility.",
     "reportId": "h1",
     "reportType": "hiddenstate",
     "suggestion": "Please consider executing it to guarantee the reproducibility.",
     "text": "Cell 2 has execution results, but it wasn't executed on this session"
    },
    {
     "cellId": 3,
     "hash": "1f28f13c76a8862c30120c87a854a6165759a2a0",
     "reason": "A cell with results of a previous session may fail to execute or produce different results in this one, hampering the reproducibility.",
     "reportId": "h1",
     "reportType": "hiddenstate",
     "suggestion": "Please consider executing it to guarantee the reproducibility.",
     "text": "Cell 3 has execution results, but it wasn't executed on this session"
    },
    {
     "cellId": 4,
     "hash": "c2096a4d51b6ade4117c908a887991a50edc693a",
     "reason": "A cell with results of a previous session may fail to execute or produce different results in this one, hampering the reproducibility.",
     "reportId": "h1",
     "reportType": "hiddenstate",
     "suggestion": "Please consider executing it to guarantee the reproducibility.",
     "text": "Cell 4 has execution results, but it wasn't executed on this session"
    },
    {
     "cellId": 5,
     "hash": "2c3a2085d11ae0c9a24f346652f143b097950ab6",
     "reason": "A cell with results of a previous session may fail to execute or produce different results in this one, hampering the reproducibility.",
     "reportId": "h1",
     "reportType": "hiddenstate",
     "suggestion": "Please consider executing it to guarantee the reproducibility.",
     "text": "Cell 5 has execution results, but it wasn't executed on this session"
    },
    {
     "cellId": 6,
     "hash": "c172392cb22725a4dfd13de682430febfa124bab",
     "reason": "A cell with results of a previous session may fail to execute or produce different results in this one, hampering the reproducibility.",
     "reportId": "h1",
     "reportType": "hiddenstate",
     "suggestion": "Please consider executing it to guarantee the reproducibility.",
     "text": "Cell 6 has execution results, but it wasn't executed on this session"
    },
    {
     "cellId": 7,
     "hash": "7b49c32da97eff2cb6639741a4b3ce11dbb745c1",
     "reason": "A cell with results of a previous session may fail to execute or produce different results in this one, hampering the reproducibility.",
     "reportId": "h1",
     "reportType": "hiddenstate",
     "suggestion": "Please consider executing it to guarantee the reproducibility.",
     "text": "Cell 7 has execution results, but it wasn't executed on this session"
    },
    {
     "cellId": 8,
     "hash": "38f7e722e98a7e20e9bfc169cb1273c1292a35ac",
     "reason": "A cell with results of a previous session may fail to execute or produce different results in this one, hampering the reproducibility.",
     "reportId": "h1",
     "reportType": "hiddenstate",
     "suggestion": "Please consider executing it to guarantee the reproducibility.",
     "text": "Cell 8 has execution results, but it wasn't executed on this session"
    },
    {
     "cellId": 9,
     "hash": "50d62067ef223edd852f87d643e9834741c3aced",
     "reason": "A cell with results of a previous session may fail to execute or produce different results in this one, hampering the reproducibility.",
     "reportId": "h1",
     "reportType": "hiddenstate",
     "suggestion": "Please consider executing it to guarantee the reproducibility.",
     "text": "Cell 9 has execution results, but it wasn't executed on this session"
    },
    {
     "cellId": 10,
     "hash": "6881cc3c4eb4e7649b7a4e2a26f2d8e9d5b45322",
     "reason": "A cell with results of a previous session may fail to execute or produce different results in this one, hampering the reproducibility.",
     "reportId": "h1",
     "reportType": "hiddenstate",
     "suggestion": "Please consider executing it to guarantee the reproducibility.",
     "text": "Cell 10 has execution results, but it wasn't executed on this session"
    },
    {
     "cellId": 11,
     "hash": "cbf27825fdebc96ceafcc6554a7e5d3c3db3c3c6",
     "reason": "A cell with results of a previous session may fail to execute or produce different results in this one, hampering the reproducibility.",
     "reportId": "h1",
     "reportType": "hiddenstate",
     "suggestion": "Please consider executing it to guarantee the reproducibility.",
     "text": "Cell 11 has execution results, but it wasn't executed on this session"
    },
    {
     "cellId": 12,
     "hash": "1a6d107854f737c9cba436b1ac306c34969d5741",
     "reason": "A cell with results of a previous session may fail to execute or produce different results in this one, hampering the reproducibility.",
     "reportId": "h1",
     "reportType": "hiddenstate",
     "suggestion": "Please consider executing it to guarantee the reproducibility.",
     "text": "Cell 12 has execution results, but it wasn't executed on this session"
    },
    {
     "cellId": 13,
     "hash": "3ccdb48e9d7839ffd036b947427f078956e9019d",
     "reason": "A cell with results of a previous session may fail to execute or produce different results in this one, hampering the reproducibility.",
     "reportId": "h1",
     "reportType": "hiddenstate",
     "suggestion": "Please consider executing it to guarantee the reproducibility.",
     "text": "Cell 13 has execution results, but it wasn't executed on this session"
    },
    {
     "cellId": 14,
     "hash": "4eec536fb3b02533d3d7b26df5ee5ce014508668",
     "reason": "A cell with results of a previous session may fail to execute or produce different results in this one, hampering the reproducibility.",
     "reportId": "h1",
     "reportType": "hiddenstate",
     "suggestion": "Please consider executing it to guarantee the reproducibility.",
     "text": "Cell 14 has execution results, but it wasn't executed on this session"
    },
    {
     "cellId": 15,
     "hash": "651ee5e534523e613e6e4f60748760291ea32023",
     "reason": "A cell with results of a previous session may fail to execute or produce different results in this one, hampering the reproducibility.",
     "reportId": "h1",
     "reportType": "hiddenstate",
     "suggestion": "Please consider executing it to guarantee the reproducibility.",
     "text": "Cell 15 has execution results, but it wasn't executed on this session"
    },
    {
     "cellId": 16,
     "hash": "cdff81f17e5c535b391c0bf9d7baf5eda5073206",
     "reason": "A cell with results of a previous session may fail to execute or produce different results in this one, hampering the reproducibility.",
     "reportId": "h1",
     "reportType": "hiddenstate",
     "suggestion": "Please consider executing it to guarantee the reproducibility.",
     "text": "Cell 16 has execution results, but it wasn't executed on this session"
    },
    {
     "cellId": 17,
     "hash": "ea06f6b94af227f64a59a0b2b2bbcf34ac1a46e2",
     "reason": "A cell with results of a previous session may fail to execute or produce different results in this one, hampering the reproducibility.",
     "reportId": "h1",
     "reportType": "hiddenstate",
     "suggestion": "Please consider executing it to guarantee the reproducibility.",
     "text": "Cell 17 has execution results, but it wasn't executed on this session"
    },
    {
     "cellId": "group",
     "hash": "19d3d3d153f22e318cbe061df9e685ba5165b0aa",
     "reason": "This groups other lint messages",
     "reportId": "group",
     "reportType": "confusenotebook",
     "suggestion": null,
     "text": "Confuse Notebook"
    },
    {
     "cellId": 17,
     "hash": "8cede7903d6c93f34434cc9b11ff7e4afccd3920",
     "reason": "A markdown cell at the end of the notebook can conclude it, presenting a summary of the obtained results.",
     "reportId": "c5",
     "reportType": "confusenotebook",
     "suggestion": "Please consider adding a markdown cell to conclude the notebook.",
     "text": "The last cell of the notebook is not a markdown cell"
    }
   ]
  },
  "kernelspec": {
   "display_name": "Python 3 (ipykernel)",
   "language": "python",
   "name": "python3"
  },
  "language_info": {
   "codemirror_mode": {
    "name": "ipython",
    "version": 3
   },
   "file_extension": ".py",
   "mimetype": "text/x-python",
   "name": "python",
   "nbconvert_exporter": "python",
   "pygments_lexer": "ipython3",
   "version": "3.11.3"
  }
 },
 "nbformat": 4,
 "nbformat_minor": 4
}
