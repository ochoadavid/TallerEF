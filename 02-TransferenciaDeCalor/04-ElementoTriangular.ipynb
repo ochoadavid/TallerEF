{
 "cells": [
  {
   "cell_type": "markdown",
   "id": "156bc811-6bf7-44dd-8d3c-5e45548283d0",
   "metadata": {
    "slideshow": {
     "slide_type": "slide"
    }
   },
   "source": [
    "## Elementos triangulares"
   ]
  },
  {
   "cell_type": "markdown",
   "id": "ed4c2d19-0900-4aa5-af32-6cc843a35dfa",
   "metadata": {
    "slideshow": {
     "slide_type": "slide"
    }
   },
   "source": [
    "### Funciones de forma lineales\n",
    "\n",
    "Lo primero que haremos para establecer las funciones de forma lineales para el elemento triangular. "
   ]
  },
  {
   "cell_type": "markdown",
   "id": "7c4f3a9d-00d9-402e-9321-36a885a47eb5",
   "metadata": {
    "slideshow": {
     "slide_type": "slide"
    }
   },
   "source": [
    "Dado un triangulo con los vértices en los puntos $(x_1, y_1)$, $(x_2, y_2)$, $(x_3, y_3)$:"
   ]
  },
  {
   "cell_type": "markdown",
   "id": "283e124c-c707-40dc-af69-46fb3cba53e4",
   "metadata": {
    "slideshow": {
     "slide_type": "slide"
    }
   },
   "source": [
    "Estamos buscando 3 funciones $N_1$, $N_2$ y $N_3$ que cumplan, la primera $N_1$: \n",
    "\n",
    "\n",
    "$$a_{1} + a_{2} x_{1} + a_{3} y_{1} = 1$$\n",
    "$$a_{1} + a_{2} x_{2} + a_{3} y_{2} = 0$$ \n",
    "$$a_{1} + a_{2} x_{3} + a_{3} y_{3} = 0$$"
   ]
  },
  {
   "cell_type": "markdown",
   "id": "26046934-767f-497e-b7b5-36002ab0c7ae",
   "metadata": {
    "slideshow": {
     "slide_type": "slide"
    }
   },
   "source": [
    "La segunda $N_2$: \n",
    "\n",
    "\n",
    "$$a_{1} + a_{2} x_{1} + a_{3} y_{1} = 0$$\n",
    "$$a_{1} + a_{2} x_{2} + a_{3} y_{2} = 1$$ \n",
    "$$a_{1} + a_{2} x_{3} + a_{3} y_{3} = 0$$"
   ]
  },
  {
   "cell_type": "markdown",
   "id": "2318d29f-af57-41a9-8e7a-1a14b73f9ef1",
   "metadata": {
    "slideshow": {
     "slide_type": "slide"
    }
   },
   "source": [
    "La tercera $N_3$: \n",
    "\n",
    "\n",
    "$$a_{1} + a_{2} x_{1} + a_{3} y_{1} = 0$$\n",
    "$$a_{1} + a_{2} x_{2} + a_{3} y_{2} = 0$$ \n",
    "$$a_{1} + a_{2} x_{3} + a_{3} y_{3} = 1$$"
   ]
  },
  {
   "cell_type": "markdown",
   "id": "99a5f109-fae3-40e3-aa2b-3854811ff215",
   "metadata": {
    "slideshow": {
     "slide_type": "slide"
    }
   },
   "source": [
    "Si resolvemos cada una de estas ecuaciones de manera simultanea, obtenemos las tres funciones de forma $N_1^{(e)}, N_2^{(e)}, N_3^{(e)}$:\n",
    "\n",
    "$$N_1^{(e)}(x,y) = \\dfrac {1} {2A^{(e)}} \\left[ (x_2y_3-x_3y_2)+(y_2-y_3)x+(x_3-x_2)y\\right]$$\n",
    "\n",
    "$$N_2^{(e)}(x,y) = \\dfrac {1} {2A^{(e)}} \\left[ (x_3y_1-x_1y_3)+(y_3-y_1)x+(x_1-x_3)y\\right]$$\n",
    "\n",
    "$$N_3^{(e)}(x,y) = \\dfrac {1} {2A^{(e)}} \\left[ (x_1y_2-x_2y_1)+(y_1-y_2)x+(x_2-x_1)y\\right]$$"
   ]
  },
  {
   "cell_type": "markdown",
   "id": "44f257ef-1b3d-4f34-9e00-c1865129a2e8",
   "metadata": {
    "slideshow": {
     "slide_type": "slide"
    }
   },
   "source": [
    "Donde $2A^{(e)}$ es igual a 2 veces el área del elemento $^{(e)}$, que puede ser calculada usado:\n",
    "\n",
    "$$2A^{(e)} = (x_1y_2-x_2y_1)+(x_3y_1-x_1y_3)+(x_2y_3-x_3y_2)$$"
   ]
  },
  {
   "cell_type": "markdown",
   "id": "68f682a7-4229-49d5-a196-9d73432b3036",
   "metadata": {
    "slideshow": {
     "slide_type": "slide"
    }
   },
   "source": [
    "Igual que con los elementos unidimensionales, estas funciones de forma podremos utilizarlas para calcular el valor de nuestra función dependiente $\\Phi$ en el interior del elemento usando:\n",
    "\n",
    "$$\\Phi = N_1(x,y)\\Phi_1 + N_2(x,y)\\Phi_2 +N_3(x,y)\\Phi_3$$"
   ]
  },
  {
   "cell_type": "markdown",
   "id": "4b45dac3-2450-4c42-ad50-b20a209e912b",
   "metadata": {
    "slideshow": {
     "slide_type": "slide"
    }
   },
   "source": [
    "### Funciones de forma cuadráticas y cúbicas\n",
    "\n",
    "Si colocamos nodos extra en las aristas podemos hacer una interpolación de la forma:\n",
    "\n",
    "$$\\Phi= a_1+a_2x+a_3y+a_4x^2+a_5xy+a_6y^2$$\n",
    "\n",
    "Con estas es posible resolver seis ecuaciones simultaneas con seis incógnitas (¡por nodo!)."
   ]
  },
  {
   "cell_type": "markdown",
   "id": "f54c2e2e-2eb7-465c-8d7f-54c5d0f23d90",
   "metadata": {
    "slideshow": {
     "slide_type": "slide"
    }
   },
   "source": [
    "De manera similar, las ecuaciones cúbicas serían:\n",
    "\n",
    "$$\\Phi= a_1+a_2x+a_3y+a_4x^2+a_5xy+a_6y^2+a_7x^3+a_8x^2y+a_9xy^2+a_{10}y^3$$"
   ]
  },
  {
   "cell_type": "markdown",
   "id": "0f262eb8-0c84-4437-a337-25aa20fcecf9",
   "metadata": {
    "slideshow": {
     "slide_type": "slide"
    }
   },
   "source": [
    "La solución de estas ecuaciones no solo es implica mucho trabajo, sino que además su resultado es extremadamente extenso."
   ]
  },
  {
   "cell_type": "markdown",
   "id": "e5e90232-0d2e-430e-934e-c858bfe66fcf",
   "metadata": {
    "slideshow": {
     "slide_type": "slide"
    }
   },
   "source": [
    "## Elementos triangulares - Coordenadas de Área"
   ]
  },
  {
   "cell_type": "markdown",
   "id": "ffaf1ef8-2e19-4128-93a3-f99f3316f426",
   "metadata": {
    "slideshow": {
     "slide_type": "slide"
    }
   },
   "source": [
    "Para poder trabajar con las funciones de forma en elementos triangulares de una manera relativamente más sencilla se utilizan las __coordenadas de área__. Estas nos permiten identificar cualquier punto _dentro_ del elemento usando tres variables: $L_1$, $L_2$, $L_3$, que definimos de la siguiente manera:\n",
    "\n",
    "$L_1 = \\dfrac {A_1} {A}$\n",
    "\n",
    "$L_2 = \\dfrac {A_2} {A}$\n",
    "\n",
    "$L_3 = \\dfrac {A_3} {A}$\n",
    "\n",
    "Donde $A_1$, $A_2$ y $A_3$ son las áreas parciales definidas juntando el punto $P$ en triangulo con los nodos de las esquinas, de tal manera que $A_i$ es el área opuesta a el nodo $i$."
   ]
  },
  {
   "cell_type": "markdown",
   "id": "ffdf8839-c4c0-4549-acad-bff18345817d",
   "metadata": {
    "slideshow": {
     "slide_type": "slide"
    }
   },
   "source": [
    "![Coordenadas área](Imagenes/CoordenadasArea.png)"
   ]
  },
  {
   "cell_type": "markdown",
   "id": "69acb8c1-8d32-46f2-94f5-eafac375269e",
   "metadata": {
    "slideshow": {
     "slide_type": "slide"
    }
   },
   "source": [
    "Estas variables tienen varias características que resultan interesantes:\n",
    "\n",
    "* $L_i$ es constante en el lado opuesto al nodo $i$\n",
    "* $L_1+L_2+L_3 = 1$ para cualquier punto en el elemento.\n",
    "* El valor de $L_i$ varía linealmente cuando nos acercamos en línea recta al nodo $i$."
   ]
  },
  {
   "cell_type": "markdown",
   "id": "7861681e-898d-496d-a11d-a275475dced8",
   "metadata": {
    "slideshow": {
     "slide_type": "slide"
    }
   },
   "source": [
    "Para un elemento triangular lineal podemos definir las funciones de forma como las variables de coordenada. Esto es:\n",
    "\n",
    "$$N_1=L_1$$\n",
    "\n",
    "$$N_2=L_2$$\n",
    "\n",
    "$$N_3=L_3$$"
   ]
  },
  {
   "cell_type": "markdown",
   "id": "e75a24bd-843c-46e9-aa9f-73dfa9272a2b",
   "metadata": {
    "slideshow": {
     "slide_type": "slide"
    }
   },
   "source": [
    "Y, por lo tanto, las coordenadas del punto $(x,y)$ están relacionadas con las coordenadas $(L_1, L_2, L_3)$ mediante las expresiones:\n",
    "\n",
    "$$x = L_1x_1+L_2x_2+L_3x_3$$\n",
    "$$y = L_1y_1+L_2y_2+L_3y_3$$\n",
    "$$1 = L_1+L_2+L_3$$"
   ]
  },
  {
   "cell_type": "markdown",
   "id": "c0249142-fe63-42a1-87ef-d1ea3b069713",
   "metadata": {
    "slideshow": {
     "slide_type": "slide"
    }
   },
   "source": [
    "### Funciones cuadráticas usando coordenadas de área\n",
    "\n",
    "Usando coordenadas de área, las funciones de forma cuadráticas son:\n",
    "\n",
    "$$N_1=L_1(2L_1-1)$$\n",
    "\n",
    "$$N_2=L_2(2L_2-1)$$\n",
    "\n",
    "$$N_3=L_3(2L_3-1)$$\n",
    "\n",
    "$$N_4=4L_2L_3$$\n",
    "\n",
    "$$N_5=4L_1L_3$$\n",
    "\n",
    "$$N_6=4L_1L_2$$"
   ]
  },
  {
   "cell_type": "markdown",
   "id": "e96e4517-c3a8-40b4-96b2-50be67f26b6b",
   "metadata": {
    "slideshow": {
     "slide_type": "slide"
    }
   },
   "source": [
    "Para obtener las derivadas de estas funciones tenemos que tomar en cuenta que las variables no son independientes, pues como hemos visto:\n",
    "$$L_1+L_2+L_3=1$$\n",
    "\n",
    "Se acostumbra tomar como coordenadas independientes $L_1$ y $L_2$ y dejar $L_3$ como dependiente."
   ]
  },
  {
   "cell_type": "markdown",
   "id": "4d672279-9509-4635-940f-840126c9e214",
   "metadata": {
    "slideshow": {
     "slide_type": "slide"
    }
   },
   "source": [
    "Para calcular las derivadas con respecto a $L_1$ y $L_2$, tenemos que:\n",
    "\n",
    "$$\\dfrac {\\partial N_i} {\\partial L_1}= \\dfrac {\\partial N_i}{\\partial x} \\dfrac {\\partial x}{\\partial L_1}+\\dfrac {\\partial N_i}{\\partial y} \\dfrac {\\partial y}{\\partial L_1}$$\n",
    "\n",
    "\n",
    "$$\\dfrac {\\partial N_i} {\\partial L_2}= \\dfrac {\\partial N_i}{\\partial x} \\dfrac {\\partial x}{\\partial L_2}+\\dfrac {\\partial N_i}{\\partial y} \\dfrac {\\partial y}{\\partial L_2}$$"
   ]
  },
  {
   "cell_type": "markdown",
   "id": "04480e4d-2fdc-448d-a30e-85dc24cc30e0",
   "metadata": {
    "slideshow": {
     "slide_type": "slide"
    }
   },
   "source": [
    "Que se puede escribir como:\n",
    "$$\\begin{bmatrix} \\dfrac {\\partial N_i} {\\partial L_1} \\\\ \\dfrac {\\partial N_i} {\\partial L_2}\\end{bmatrix} =\\begin{bmatrix} \\dfrac {\\partial x}{\\partial L_1}&\\dfrac {\\partial y}{\\partial L_1} \\\\ \\dfrac {\\partial x}{\\partial L_2}&\\dfrac {\\partial y}{\\partial L_2} \\end{bmatrix}\\begin{bmatrix} \\dfrac {\\partial N_i} {\\partial x} \\\\ \\dfrac {\\partial N_i} {\\partial y}\\end{bmatrix} = \\mathbf{J}\\begin{bmatrix} \\dfrac {\\partial N_i} {\\partial x} \\\\ \\dfrac {\\partial N_i} {\\partial y}\\end{bmatrix}$$"
   ]
  },
  {
   "cell_type": "markdown",
   "id": "caae831b-00a6-4f26-9124-0edd5c2a4fed",
   "metadata": {
    "slideshow": {
     "slide_type": "slide"
    }
   },
   "source": [
    "Donde la matriz $\\mathbf{J}$  (con dimensiones $2\\times2$) es el Jacobiano."
   ]
  },
  {
   "cell_type": "markdown",
   "id": "00cda0fd-86b7-4bcf-89d1-7493a8102643",
   "metadata": {
    "slideshow": {
     "slide_type": "slide"
    }
   },
   "source": [
    "Sin embargo, para tomar en cuenta $L_3$, podemos ver que para cualquier función de $\\Phi$:\n",
    "\n",
    "$$\\dfrac {\\partial \\Phi} {\\partial L_1} = \\dfrac {\\partial \\Phi} {\\partial L_1} \\dfrac {\\partial L_1} {\\partial L_1} + \\dfrac {\\partial \\Phi} {\\partial L_2} \\dfrac {\\partial L_2} {\\partial L_1} + \\dfrac {\\partial \\Phi} {\\partial L_3} \\dfrac {\\partial L_3} {\\partial L_1}$$"
   ]
  },
  {
   "cell_type": "markdown",
   "id": "b9440533-5a42-4649-b6e2-4588c4e2d12b",
   "metadata": {
    "slideshow": {
     "slide_type": "slide"
    }
   },
   "source": [
    "Sin embargo, como asumimos $L_1$ y $L_2$ independientes, y $L_3=1-L_1-L_2$:\n",
    "\n",
    "$$\\dfrac {\\partial L_3} {\\partial L_1} = -1$$"
   ]
  },
  {
   "cell_type": "markdown",
   "id": "2846e0a1-776c-46f8-b1ea-6e26378e465b",
   "metadata": {
    "slideshow": {
     "slide_type": "slide"
    }
   },
   "source": [
    "En consecuencia las derivadas de $\\Phi$ con respecto a las coordenadas naturales son:\n",
    "\n",
    "$$\\dfrac {\\partial \\Phi} {\\partial L_1} = \\dfrac {\\partial \\Phi} {\\partial L_1} -\\dfrac {\\partial \\Phi} {\\partial L_3}$$\n",
    "\n",
    "$$\\dfrac {\\partial \\Phi} {\\partial L_2} = \\dfrac {\\partial \\Phi} {\\partial L_2} -\\dfrac {\\partial \\Phi} {\\partial L_3}$$\n",
    "\n",
    "__Nota__: estas expresiones se plantean como una _definición_ para poder calcular el Jacobiano, de un elemento donde una coordenada es dependiente de las otras."
   ]
  },
  {
   "cell_type": "markdown",
   "id": "37644988-7bfb-4875-9573-3bb9352676d4",
   "metadata": {
    "slideshow": {
     "slide_type": "slide"
    }
   },
   "source": [
    "## Conducción en un elemento triangular"
   ]
  },
  {
   "cell_type": "markdown",
   "id": "ad52f04e-1c4d-4122-bb64-052d23777d68",
   "metadata": {
    "slideshow": {
     "slide_type": "slide"
    }
   },
   "source": [
    "Consideramos el problema de conducción en un dominio isotrópico en __2D__ $\\Omega$ con una frontera $\\Gamma$.\n"
   ]
  },
  {
   "cell_type": "markdown",
   "id": "5d1bc492-3f16-4a4d-8c1d-0ff982617c97",
   "metadata": {
    "slideshow": {
     "slide_type": "slide"
    }
   },
   "source": [
    "La ecuación que describe el comportamiento es:\n",
    "\n",
    "$$-K\\left( \\dfrac {\\partial^2 T} {\\partial x^2} + \\dfrac {\\partial^2 T} {\\partial y^2} \\right) = Q$$\n",
    "\n",
    "Donde:\n",
    "* $K$ es la conductividad térmica, que se asume constante (respecto a $x$, $y$ y $T$).\n",
    "* $Q$ es el término de generación de calor."
   ]
  },
  {
   "cell_type": "markdown",
   "id": "cf5944ce-0a4c-430c-a9f2-38f8351e8ee7",
   "metadata": {
    "slideshow": {
     "slide_type": "slide"
    }
   },
   "source": [
    "Queremos formular las expresiones de elemento finito para un elemento triangular lineal."
   ]
  },
  {
   "cell_type": "markdown",
   "id": "5c340689-6977-4895-9f50-9c09b58b6e16",
   "metadata": {},
   "source": [
    "Las condiciones de frontera son:\n",
    "\n",
    "* $-K\\dfrac {\\partial T} {\\partial n} = q$ (para $\\Gamma_B$)\n",
    "\n",
    "* $T=T_A$ (para $\\Gamma_A$)\n",
    "\n",
    "Donde $\\Gamma_A$ y $\\Gamma_B$ son las porciones de la frontera $\\Gamma$."
   ]
  },
  {
   "cell_type": "markdown",
   "id": "fa9118b5-181d-4669-8f01-79cc11da346d",
   "metadata": {
    "slideshow": {
     "slide_type": "slide"
    }
   },
   "source": [
    "La derivada normal está definida como:\n",
    "\n",
    "$$\\dfrac {\\partial T} {\\partial n} \\equiv \\dfrac {\\partial T} {\\partial x}n_x + \\dfrac {\\partial T} {\\partial y}n_y$$\n",
    "\n",
    "Donde $n_x$ y $n_y$ son los componentes o los cosenos directores del vector normal unitario a la frontera $\\Gamma$."
   ]
  },
  {
   "cell_type": "markdown",
   "id": "33cc3442-5bab-43c9-9a2d-610ed15b9323",
   "metadata": {
    "slideshow": {
     "slide_type": "slide"
    }
   },
   "source": [
    "Usando residuos ponderados:\n",
    "\n",
    "$$\\int\\limits_{\\Omega}WRd\\Omega = 0$$\n",
    "\n",
    "Donde:\n",
    "\n",
    "* $R = -K\\left( \\dfrac {\\partial^2 T} {\\partial x^2} + \\dfrac {\\partial^2 T} {\\partial y^2} \\right) - Q$\n",
    "* Y $W$ es la función de peso"
   ]
  },
  {
   "cell_type": "markdown",
   "id": "66658729-31d7-4c66-949d-08be7e7cb83e",
   "metadata": {
    "slideshow": {
     "slide_type": "slide"
    }
   },
   "source": [
    "$$\\int\\limits_{\\Omega}W\\left[ -K\\left( \\dfrac {\\partial^2 T} {\\partial x^2} + \\dfrac {\\partial^2 T} {\\partial y^2} \\right) - Q\\right] d\\Omega = 0$$"
   ]
  },
  {
   "cell_type": "markdown",
   "id": "a6e78dcc-64ee-458e-a04c-d40b7f37a7f7",
   "metadata": {
    "slideshow": {
     "slide_type": "slide"
    }
   },
   "source": [
    "Sabemos que podemos calcular la derivada de un producto usando:\n",
    "\n",
    "$$\\dfrac {\\partial} {\\partial \\alpha} \\left( F \\dfrac {\\partial G} {\\partial \\alpha} \\right) = \\dfrac {\\partial F} {\\partial \\alpha} \\dfrac {\\partial G} {\\partial \\alpha}+ F \\dfrac {\\partial^2 G} {\\partial \\alpha^2}$$"
   ]
  },
  {
   "cell_type": "markdown",
   "id": "faf186cf-d777-4597-8aef-40fbff1697be",
   "metadata": {
    "slideshow": {
     "slide_type": "slide"
    }
   },
   "source": [
    "De tal manera que:\n",
    "\n",
    "$$W \\dfrac {\\partial^2 T} {\\partial x^2} = - \\dfrac {\\partial W} {\\partial x} \\dfrac {\\partial T} {\\partial x} + \\dfrac {\\partial} {\\partial x} \\left( W \\dfrac {\\partial T} {\\partial x} \\right)  $$\n",
    "\n",
    "$$W \\dfrac {\\partial^2 T} {\\partial y^2} = - \\dfrac {\\partial W} {\\partial y} \\dfrac {\\partial T} {\\partial y} + \\dfrac {\\partial} {\\partial y} \\left( W \\dfrac {\\partial T} {\\partial y} \\right)  $$"
   ]
  },
  {
   "cell_type": "markdown",
   "id": "d279a98d-c699-4b6f-9498-24675726a28e",
   "metadata": {
    "slideshow": {
     "slide_type": "slide"
    }
   },
   "source": [
    "$$\\int\\limits_{\\Omega}\\left[ -K\\left( - \\dfrac {\\partial W} {\\partial x} \\dfrac {\\partial T} {\\partial x} + \\dfrac {\\partial} {\\partial x} \\left( W \\dfrac {\\partial T} {\\partial x} \\right)   - \\dfrac {\\partial W} {\\partial y} \\dfrac {\\partial T} {\\partial y} + \\dfrac {\\partial} {\\partial y} \\left( W \\dfrac {\\partial T} {\\partial y} \\right) \\right) - WQ\\right] d\\Omega = 0$$"
   ]
  },
  {
   "cell_type": "markdown",
   "id": "0912587f-62c5-4ef9-830f-fa40972faea0",
   "metadata": {
    "slideshow": {
     "slide_type": "slide"
    }
   },
   "source": [
    "Reacomodando:\n",
    "\n",
    "$$\\int\\limits_{\\Omega} \\left[ K\\left( \\dfrac {\\partial W} {\\partial x} \\dfrac {\\partial T} {\\partial x} + \\dfrac {\\partial W} {\\partial y} \\dfrac {\\partial T} {\\partial y}\\right) + WQ \\right] d\\Omega  - \\int\\limits_{\\Omega}  \\dfrac {\\partial} {\\partial x} \\left( WK \\dfrac {\\partial T} {\\partial x} \\right) +\\dfrac {\\partial} {\\partial y} \\left( WK \\dfrac {\\partial T} {\\partial y} \\right) dx dy = 0$$"
   ]
  },
  {
   "cell_type": "markdown",
   "id": "32882b9a-c0d2-4c3b-ba43-341fb8145a43",
   "metadata": {
    "slideshow": {
     "slide_type": "slide"
    }
   },
   "source": [
    "El teorema de Green establece que:\n",
    "\n",
    "$$\\int\\limits_{\\Omega} \\left( \\dfrac {\\partial F} {\\partial x} + \\dfrac {\\partial G} {\\partial y} \\right) dx dy = \\int\\limits_{\\Gamma} Fdy- Gdx$$"
   ]
  },
  {
   "cell_type": "markdown",
   "id": "ca821185-3f32-4b8c-aefc-a454fc50dc09",
   "metadata": {
    "slideshow": {
     "slide_type": "slide"
    }
   },
   "source": [
    "Aplicando este teorema a la última integral:\n",
    "\n",
    "$$\\int\\limits_{\\Omega} \\left[ K\\left( \\dfrac {\\partial W} {\\partial x} \\dfrac {\\partial T} {\\partial x} + \\dfrac {\\partial W} {\\partial y} \\dfrac {\\partial T} {\\partial y}\\right) + WQ \\right] d\\Omega  + \\int\\limits_{\\Gamma}  W\\left( -K \\frac {\\partial T}{\\partial n}\\right) d\\Gamma = 0$$"
   ]
  },
  {
   "cell_type": "markdown",
   "id": "d5ca3707-c571-4b47-bd9a-9f6333ebea69",
   "metadata": {
    "slideshow": {
     "slide_type": "slide"
    }
   },
   "source": [
    "Estos últimos pasos corresponden a la integración por partes en el elemento unidimensional y nos permiten también tener una expresión sin las segundas derivadas que incluyen naturalmente las condiciones de frontera."
   ]
  },
  {
   "cell_type": "markdown",
   "id": "3baee100-1005-480c-adf0-bdddd838f79f",
   "metadata": {
    "slideshow": {
     "slide_type": "slide"
    }
   },
   "source": [
    "Aproximaremos la temperatura usando\n",
    "\n",
    "\n",
    "$$T(x,y)=\\sum_{i=1}^M N_i(x,y) T_i$$"
   ]
  },
  {
   "cell_type": "markdown",
   "id": "0b54a1aa-c370-417d-bbd2-5065475c22f1",
   "metadata": {
    "slideshow": {
     "slide_type": "slide"
    }
   },
   "source": [
    "Usando la formulación de Galerkin ($W_i=N_i$) y el flujo cero en $\\Gamma_A$.\n",
    "\n",
    "$$\\sum_{j=1}^M \\left[ \\int\\limits_{\\Omega} K \\left( \\dfrac {\\partial N_i} {\\partial x} \\dfrac {\\partial N_j} {\\partial x} + \\dfrac {\\partial N_i} {\\partial y} \\dfrac {\\partial N_j} {\\partial y}\\right) d\\Omega \\right] T_j = \\int\\limits_{\\Omega} N_i Q d\\Omega - \\int\\limits_{\\Gamma_B} N_i q d\\Gamma$$\n",
    "\n",
    "Donde $i = 1,...,M$"
   ]
  },
  {
   "cell_type": "markdown",
   "id": "7a5faaa2-c98f-4572-bc1e-9243bb75a02d",
   "metadata": {
    "slideshow": {
     "slide_type": "slide"
    }
   },
   "source": [
    "Esta ecuación puede ser reescrita de forma matricial:\n",
    "\n",
    "$$\\mathbf{K}\\mathbf{T} = \\mathbf{F}$$"
   ]
  },
  {
   "cell_type": "markdown",
   "id": "6d0b1e52-2285-457b-8d5a-1000ca767c30",
   "metadata": {
    "slideshow": {
     "slide_type": "slide"
    }
   },
   "source": [
    "Donde el termino de conductividad o rigidez $\\mathbf{K}$ es:\n",
    "\n",
    "$$\\mathbf{K} = \\left[ k_{ij} \\right] = \\left[ \\int\\limits_{\\Omega} K \\left( \\dfrac {\\partial N_i} {\\partial x} \\dfrac {\\partial N_j} {\\partial x} + \\dfrac {\\partial N_i} {\\partial y} \\dfrac {\\partial N_j} {\\partial y}\\right) d\\Omega \\right]$$"
   ]
  },
  {
   "cell_type": "markdown",
   "id": "956b9fb3-fdbf-41e2-8c32-11258ad587ec",
   "metadata": {
    "slideshow": {
     "slide_type": "slide"
    }
   },
   "source": [
    "Y el vector de carga $\\mathbf{F}$:\n",
    "\n",
    "$$\\mathbf{F} = \\left[ f_i \\right] = \\left\\{ \\int\\limits_{\\Omega} N_i Q d\\Omega - \\int\\limits_{\\Gamma_B} N_i q d\\Gamma \\right\\}$$"
   ]
  },
  {
   "cell_type": "markdown",
   "id": "1dbb8533-8ad5-4865-95c4-bcbcc93edc0e",
   "metadata": {
    "slideshow": {
     "slide_type": "slide"
    }
   },
   "source": [
    "Para resolver estos sistemas de una manera más sencilla reescribiremos las ecuaciones de forma como:\n",
    "\n",
    "$$N_1^{(e)}=\\dfrac {1} {2A} \\left( a_1 +b_1 x + c_1 y\\right)$$\n",
    "\n",
    "$$N_2^{(e)}=\\dfrac {1} {2A} \\left( a_2 +b_2 x + c_2 y\\right)$$\n",
    "\n",
    "$$N_3^{(e)}=\\dfrac {1} {2A} \\left( a_3 +b_3 x + c_3 y\\right)$$"
   ]
  },
  {
   "cell_type": "markdown",
   "id": "7e584e40-ce67-44c9-a492-c6670ae0c016",
   "metadata": {
    "slideshow": {
     "slide_type": "slide"
    }
   },
   "source": [
    "Los coeficientes los podemos calcular con la siguiente tabla:\n",
    "\n",
    "|$i$|$a_i$|$b_i$|$c_i$|\n",
    "|:---:|:----:|:-----:|:-----:|\n",
    "|$1$|$x_2y_3-x_3y_2$|$y_2-y_3$|$x_3-x_2$|\n",
    "|$2$|$x_3y_1-x_1y_3$|$y_3-y_1$|$x_1-x_3$|\n",
    "|$3$|$x_1y_2-x_2y_1$|$y_1-y_2$|$x_2-x_1$|"
   ]
  },
  {
   "cell_type": "markdown",
   "id": "35122190-22ee-4795-b9ad-75038ebb9f3f",
   "metadata": {
    "slideshow": {
     "slide_type": "slide"
    }
   },
   "source": [
    "De esta manera, la matriz $\\mathbf{K}$ se puede calcular usando:\n",
    "\n",
    "$$\\mathbf{K}^{(e)}= \\int\\limits_{A^{(e)}} \\dfrac {K} {4\\left(A^{(e)}\\right)^2}\\left( b_ib_j+c_ic_j \\right) dA$$\n",
    "\n",
    "Con $i=1,2,3$ y $j= 1,2,3$"
   ]
  },
  {
   "cell_type": "markdown",
   "id": "66ce1bc3-e9a6-4329-a1d0-8f490f55949e",
   "metadata": {
    "slideshow": {
     "slide_type": "slide"
    }
   },
   "source": [
    "Como todos los términos de la integral son constantes (no dependen ni de $x$ ni de $y$) tenemos:\n",
    "\n",
    "$$\\mathbf{K}^{(e)}= \\dfrac {K} {4 A^{(e)}} \\begin{bmatrix} b_1b_1+c_1c_1 & b_1b_2+c_1c_2 & b_1b_3+c_1c_3 \\\\ b_2b_1+c_2c_1 & b_2b_2+c_2c_2 & b_2b_3+c_2c_3 \\\\ b_3b_1+c_3c_1 & b_3b_2+c_3c_2 & b_3b_3+c_3c_3 \\end{bmatrix}$$"
   ]
  },
  {
   "cell_type": "markdown",
   "id": "6073ac88-4f2a-4635-9e2f-5248ff82d1b4",
   "metadata": {
    "slideshow": {
     "slide_type": "slide"
    }
   },
   "source": [
    "Los componentes del vector de carga $\\mathbf{F}$ resultan de dos integrales. Como, por ser un elemento lineal, $N_i=L_i$, la primera integral (generación) se puede escribir directamente como:\n",
    "\n",
    "$$\\mathbf{F}_Q^{(e)} = Q \\int\\limits_{A^{(e)}} \\begin{bmatrix} N_1^{(e)} \\\\ N_2^{(e)} \\\\ N_3^{(e)}\\end{bmatrix}dA = Q \\int\\limits_{A} \\begin{bmatrix} L_1^1L_2^0L_3^0\\\\ L_1^0L_2^1L_3^0 \\\\ L_1^0L_2^0L_3^1\\end{bmatrix} dA = \\dfrac {QA^{(e)}} {3} \\begin{bmatrix} 1 \\\\ 1 \\\\ 1 \\end{bmatrix}$$"
   ]
  },
  {
   "cell_type": "markdown",
   "id": "e6c6ae08-92e4-4270-aba9-e4ba1629a316",
   "metadata": {
    "slideshow": {
     "slide_type": "slide"
    }
   },
   "source": [
    "La segunda integral da cuenta de la condición de frontera en la superficie $\\Gamma_B$, que está compuesta de cada uno de los lados del elemento. La integral depende de cual lado este sometido a el flujo de calor $q$. Si asumimos que el flujo de calor es constante en toda la superficie:\n",
    "\n",
    "$$\\mathbf{F}_{q_{1-2}}^{(e)} = -q \\int\\limits_{\\Gamma_B^{(e)}} \\begin{bmatrix} N_1^{(e)} \\\\ N_2^{(e)} \\\\ N_3^{(e)}\\end{bmatrix} dS = -q \\int\\limits_{\\Gamma_B^{(e)}} \\begin{bmatrix}  L_1^1L_2^0 \\\\ L_1^0L_2^1 \\\\ 0\\end{bmatrix} dS = -\\dfrac {q\\ell_{1-2}^{(e)}} {2} \\begin{bmatrix}  1 \\\\ 1 \\\\ 0\\end{bmatrix}$$"
   ]
  },
  {
   "cell_type": "markdown",
   "id": "513d7baf-2c82-43d2-9c07-40de87201059",
   "metadata": {
    "slideshow": {
     "slide_type": "slide"
    }
   },
   "source": [
    "De manera similar:\n",
    "\n",
    "$$\\mathbf{F}_{q_{2-3}}^{(e)} = -\\dfrac {q\\ell_{2-3}^{(e)}} {2} \\begin{bmatrix}  0 \\\\ 1 \\\\ 1\\end{bmatrix}$$\n",
    "\n",
    "$$\\mathbf{F}_{q_{3-1}}^{(e)} = -\\dfrac {q\\ell_{3-1}^{(e)}} {2} \\begin{bmatrix}  1 \\\\ 0 \\\\ 1\\end{bmatrix}$$"
   ]
  },
  {
   "cell_type": "markdown",
   "id": "e3d7ff0e-cedf-4571-8ade-ba8c37758de9",
   "metadata": {
    "slideshow": {
     "slide_type": "slide"
    }
   },
   "source": [
    "Así:\n",
    "\n",
    "$$\\mathbf{F}^{(e)} = \\mathbf{F}_Q^{(e)} + \\mathbf{F}_{q_{1-2}}^{(e)} + \\mathbf{F}_{q_{2-3}}^{(e)} + \\mathbf{F}_{q_{3-1}}^{(e)}$$"
   ]
  }
 ],
 "metadata": {
  "kernelspec": {
   "display_name": "Python 3 (ipykernel)",
   "language": "python",
   "name": "python3"
  },
  "language_info": {
   "codemirror_mode": {
    "name": "ipython",
    "version": 3
   },
   "file_extension": ".py",
   "mimetype": "text/x-python",
   "name": "python",
   "nbconvert_exporter": "python",
   "pygments_lexer": "ipython3",
   "version": "3.11.3"
  }
 },
 "nbformat": 4,
 "nbformat_minor": 5
}
