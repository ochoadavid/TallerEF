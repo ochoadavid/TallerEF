{
 "cells": [
  {
   "cell_type": "code",
   "execution_count": 1,
   "id": "6b22b2cd-d2a8-486a-94f5-6f3fb0618630",
   "metadata": {},
   "outputs": [],
   "source": [
    "import numpy as np\n",
    "import matplotlib.pyplot as plt\n",
    "from elemento2D import ElTriTC"
   ]
  },
  {
   "cell_type": "markdown",
   "id": "7a651917-4b86-4a10-9e9e-69b6e6b89904",
   "metadata": {},
   "source": [
    "Declaramos dos elementos usando la siguiente definición:\n",
    "\n",
    "__ElTriTC(x, y, n, k, h12=0, h23=0, h31=0, q12=0, q23=0, q31=0, Q=0)__\n",
    "\n",
    "* __x__: es el vector de las coordenadas $x$ ($m$).\n",
    "* __y__: es el vector de las coordenadas $y$ ($m$).\n",
    "* __n__: son los números de nodos (números enteros, empezando en 1).\n",
    "\n",
    "Los siguientes parámetros son optativos (si el fenómeno no existe podemos dejar que tomen el valor por defecto, 0.\n",
    "* __h12__ constante de convección del lado 12 ($W/m^2°C$).\n",
    "* __h23__ constante de convección del lado 23 ($W/m^2°C$).\n",
    "* __h31__ constante de convección del lado 31 ($W/m^2°C$).\n",
    "* __q12__ flujo de calor conocido del lado 12 ($W/m^2$).\n",
    "* __q23__ flujo de calor conocido del lado 23 ($W/m^2$).\n",
    "* __q31__ flujo de calor conocido del lado 31 ($W/m^2$).\n",
    "* __Q__ generación de calor en el elemento, promedio o constante ($W/m^3$).\n",
    "\n",
    "En el caso de los problemas con convección la __qxx__ correspondiente al lado toma el valor de: $q = hT_{\\infty}$\n"
   ]
  },
  {
   "cell_type": "markdown",
   "id": "6edb8c2b-6120-45f0-aa75-118b6848135b",
   "metadata": {},
   "source": [
    "Damos de alta dos elementos."
   ]
  },
  {
   "cell_type": "code",
   "execution_count": 2,
   "id": "86b005cb-e415-4cc7-8bd1-452757f78c37",
   "metadata": {},
   "outputs": [],
   "source": [
    "e01 = ElTriTC([0,3,0],[0,0,3],[1,2,3],50,q31=25,Q=40)\n",
    "e02 = ElTriTC([0,3,3],[3,3,0],[3,4,2],50,Q=40)"
   ]
  },
  {
   "cell_type": "markdown",
   "id": "1fa1eaaa-2b32-475c-b63e-af3b63f80784",
   "metadata": {},
   "source": [
    "Graficamos los elementos para verificar la información"
   ]
  },
  {
   "cell_type": "code",
   "execution_count": 3,
   "id": "a0f00f82-2a2e-4557-b709-906a31978a0a",
   "metadata": {},
   "outputs": [
    {
     "data": {
      "image/png": "[encoded data removed]",
      "text/plain": [
       "<Figure size 640x480 with 1 Axes>"
      ]
     },
     "metadata": {},
     "output_type": "display_data"
    }
   ],
   "source": [
    "plt.figure()\n",
    "e01.Grafica()\n",
    "e02.Grafica()\n",
    "plt.grid()\n",
    "plt.axis('equal')\n",
    "plt.show()"
   ]
  },
  {
   "cell_type": "markdown",
   "id": "be5e0349-7ee6-4277-8425-28c7749464bd",
   "metadata": {},
   "source": [
    "La matriz de conductividad del primer elemento es:"
   ]
  },
  {
   "cell_type": "code",
   "execution_count": 4,
   "id": "ef981820-cf90-479b-89be-809648d9eb2e",
   "metadata": {},
   "outputs": [
    {
     "data": {
      "text/plain": [
       "array([[ 50., -25., -25.],\n",
       "       [-25.,  25.,   0.],\n",
       "       [-25.,   0.,  25.]])"
      ]
     },
     "execution_count": 4,
     "metadata": {},
     "output_type": "execute_result"
    }
   ],
   "source": [
    "e01.MatrizK()"
   ]
  },
  {
   "cell_type": "markdown",
   "id": "df38c65d-bfeb-46e2-b729-d58326834396",
   "metadata": {},
   "source": [
    "Para ensamblar usamos `expNodos` con el número total de modos y sumamos las matrices:"
   ]
  },
  {
   "cell_type": "code",
   "execution_count": 5,
   "id": "bbb1b571-0f00-42bf-b6b3-d2169d03d4a1",
   "metadata": {},
   "outputs": [
    {
     "data": {
      "text/plain": [
       "array([[ 50., -25., -25.,   0.],\n",
       "       [-25.,  50.,   0., -25.],\n",
       "       [-25.,   0.,  50., -25.],\n",
       "       [  0., -25., -25.,  50.]])"
      ]
     },
     "execution_count": 5,
     "metadata": {},
     "output_type": "execute_result"
    }
   ],
   "source": [
    "K = e01.MatrizK(expNodos=4)+e02.MatrizK(expNodos=4)\n",
    "K"
   ]
  },
  {
   "cell_type": "markdown",
   "id": "ca2a8b09-9dca-470d-a7d3-35cfb46a2a26",
   "metadata": {},
   "source": [
    "De la misma manera para el vector fuerza:"
   ]
  },
  {
   "cell_type": "code",
   "execution_count": 6,
   "id": "01242552-772a-4cab-ac8d-f677bb596705",
   "metadata": {},
   "outputs": [
    {
     "data": {
      "text/plain": [
       "array([97.5, 60. , 97.5])"
      ]
     },
     "execution_count": 6,
     "metadata": {},
     "output_type": "execute_result"
    }
   ],
   "source": [
    "e01.VectorF()"
   ]
  },
  {
   "cell_type": "code",
   "execution_count": 7,
   "id": "df39722a-12a2-4611-ae4b-a2ba8dc156a3",
   "metadata": {},
   "outputs": [],
   "source": [
    "F = e01.VectorF(expNodos=4)+e02.VectorF(expNodos=4)"
   ]
  },
  {
   "cell_type": "markdown",
   "id": "dda5507b-2ad3-4a6b-a460-1bcf95dc3099",
   "metadata": {},
   "source": [
    "Imponemos las condiciones de frontera de Dirichlet (temperatura conocida)."
   ]
  },
  {
   "cell_type": "code",
   "execution_count": 8,
   "id": "2f503cf2-d703-4505-8b9d-23c6638fc780",
   "metadata": {},
   "outputs": [
    {
     "data": {
      "text/plain": [
       "array([[ 50., -25., -25.,   0.],\n",
       "       [  0.,   1.,   0.,   0.],\n",
       "       [  0.,   0.,   1.,   0.],\n",
       "       [  0., -25., -25.,  50.]])"
      ]
     },
     "execution_count": 8,
     "metadata": {},
     "output_type": "execute_result"
    }
   ],
   "source": [
    "K[1] = [0,1,0,0]\n",
    "K[2] = [0,0,1,0]\n",
    "K"
   ]
  },
  {
   "cell_type": "code",
   "execution_count": 9,
   "id": "31c53af6-bbfa-4cb2-b103-e61e8edebe38",
   "metadata": {},
   "outputs": [
    {
     "data": {
      "text/plain": [
       "array([ 97.5, 300. , 300. ,  60. ])"
      ]
     },
     "execution_count": 9,
     "metadata": {},
     "output_type": "execute_result"
    }
   ],
   "source": [
    "F[1] = 300\n",
    "F[2] = 300\n",
    "F"
   ]
  },
  {
   "cell_type": "code",
   "execution_count": 10,
   "id": "efb66588-5268-4fc7-9ad4-e7a341861c89",
   "metadata": {},
   "outputs": [
    {
     "data": {
      "text/plain": [
       "array([301.95, 300.  , 300.  , 301.2 ])"
      ]
     },
     "execution_count": 10,
     "metadata": {},
     "output_type": "execute_result"
    }
   ],
   "source": [
    "np.linalg.solve(K,F)"
   ]
  },
  {
   "cell_type": "code",
   "execution_count": 11,
   "id": "ed7abab2-a2de-4c3b-afff-9fbbdd636c77",
   "metadata": {},
   "outputs": [],
   "source": [
    "e01.out_xlsx('e01.xlsx', 4)\n",
    "e02.out_xlsx('e02.xlsx', 4)"
   ]
  }
 ],
 "metadata": {
  "kernelspec": {
   "display_name": "Python 3 (ipykernel)",
   "language": "python",
   "name": "python3"
  },
  "language_info": {
   "codemirror_mode": {
    "name": "ipython",
    "version": 3
   },
   "file_extension": ".py",
   "mimetype": "text/x-python",
   "name": "python",
   "nbconvert_exporter": "python",
   "pygments_lexer": "ipython3",
   "version": "3.11.3"
  }
 },
 "nbformat": 4,
 "nbformat_minor": 5
}
