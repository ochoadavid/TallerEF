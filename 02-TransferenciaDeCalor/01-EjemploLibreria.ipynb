{
 "cells": [
  {
   "cell_type": "markdown",
   "metadata": {},
   "source": [
    "# Solución usando librería"
   ]
  },
  {
   "cell_type": "markdown",
   "metadata": {},
   "source": [
    "Importamos las librerías necesarias"
   ]
  },
  {
   "cell_type": "code",
   "execution_count": 1,
   "metadata": {},
   "outputs": [],
   "source": [
    "import numpy as np\n",
    "import sympy as sp\n",
    "import matplotlib.pyplot as plt\n",
    "sp.init_printing()\n",
    "\n",
    "## Función para mejorar la presentación de los arreglos de numpy (matrices)\n",
    "pp = sp.Matrix"
   ]
  },
  {
   "cell_type": "markdown",
   "metadata": {},
   "source": [
    "La librería `elemento` puede ser importada de igual manera, estando el archivo en este directorio"
   ]
  },
  {
   "cell_type": "code",
   "execution_count": 2,
   "metadata": {},
   "outputs": [],
   "source": [
    "import elemento1D as el"
   ]
  },
  {
   "cell_type": "markdown",
   "metadata": {},
   "source": [
    "Declaramos el primer elemento:"
   ]
  },
  {
   "cell_type": "code",
   "execution_count": 3,
   "metadata": {},
   "outputs": [
    {
     "data": {
      "text/latex": [
       "$\\displaystyle \\left( \\left[\\begin{matrix}\\frac{K}{h} + h_{1} & - \\frac{K}{h}\\\\- \\frac{K}{h} & \\frac{K}{h}\\end{matrix}\\right], \\  \\left[\\begin{matrix}Tinf_{1} h_{1}\\\\0\\end{matrix}\\right]\\right)$"
      ],
      "text/plain": [
       "⎛⎡K       -K ⎤            ⎞\n",
       "⎜⎢─ + h₁  ───⎥            ⎟\n",
       "⎜⎢h        h ⎥  ⎡Tinf₁⋅h₁⎤⎟\n",
       "⎜⎢           ⎥, ⎢        ⎥⎟\n",
       "⎜⎢ -K      K ⎥  ⎣   0    ⎦⎟\n",
       "⎜⎢ ───     ─ ⎥            ⎟\n",
       "⎝⎣  h      h ⎦            ⎠"
      ]
     },
     "execution_count": 3,
     "metadata": {},
     "output_type": "execute_result"
    }
   ],
   "source": [
    "e1 = el.Elemento1D(1, 'TC', x=[0.0,0.05], nodos_globales=[1,2], numero_nodos=3, K=[40,50], h1=100, Tinf1=400)\n",
    "e1.out_model()"
   ]
  },
  {
   "cell_type": "markdown",
   "metadata": {},
   "source": [
    "Declaramos el segundo elemento:"
   ]
  },
  {
   "cell_type": "code",
   "execution_count": 4,
   "metadata": {},
   "outputs": [
    {
     "data": {
      "text/latex": [
       "$\\displaystyle \\left( \\left[\\begin{matrix}\\frac{K}{h} & - \\frac{K}{h}\\\\- \\frac{K}{h} & \\frac{K}{h}\\end{matrix}\\right], \\  \\left[\\begin{matrix}0\\\\0\\end{matrix}\\right]\\right)$"
      ],
      "text/plain": [
       "⎛⎡ K   -K ⎤     ⎞\n",
       "⎜⎢ ─   ───⎥     ⎟\n",
       "⎜⎢ h    h ⎥  ⎡0⎤⎟\n",
       "⎜⎢        ⎥, ⎢ ⎥⎟\n",
       "⎜⎢-K    K ⎥  ⎣0⎦⎟\n",
       "⎜⎢───   ─ ⎥     ⎟\n",
       "⎝⎣ h    h ⎦     ⎠"
      ]
     },
     "execution_count": 4,
     "metadata": {},
     "output_type": "execute_result"
    }
   ],
   "source": [
    "e2 = el.Elemento1D(1, 'TC', x=[0.05,0.1], nodos_globales=[2,3], numero_nodos=3, K=[50,60])\n",
    "e2.out_model()"
   ]
  },
  {
   "cell_type": "markdown",
   "metadata": {},
   "source": [
    "Para verificar, podemos graficar los elementos."
   ]
  },
  {
   "cell_type": "code",
   "execution_count": 5,
   "metadata": {},
   "outputs": [
    {
     "data": {
      "image/png": "[encoded data removed]",
      "text/plain": [
       "<Figure size 600x200 with 1 Axes>"
      ]
     },
     "metadata": {},
     "output_type": "display_data"
    }
   ],
   "source": [
    "plt.figure(figsize=(6,2))\n",
    "e1.Grafica()\n",
    "e2.Grafica()\n",
    "plt.gca().axis('off')\n",
    "plt.gca().axis('equal')\n",
    "plt.show()"
   ]
  },
  {
   "cell_type": "markdown",
   "metadata": {},
   "source": [
    "Ensamblamos las matrices usando `extend=True`"
   ]
  },
  {
   "cell_type": "code",
   "execution_count": 6,
   "metadata": {},
   "outputs": [
    {
     "data": {
      "text/latex": [
       "$\\displaystyle \\left[\\begin{matrix}1000.0 & -900.0 & 0\\\\-900.0 & 2000.0 & -1100.0\\\\0 & -1100.0 & 1100.0\\end{matrix}\\right]$"
      ],
      "text/plain": [
       "⎡1000.0  -900.0      0   ⎤\n",
       "⎢                        ⎥\n",
       "⎢-900.0  2000.0   -1100.0⎥\n",
       "⎢                        ⎥\n",
       "⎣  0     -1100.0  1100.0 ⎦"
      ]
     },
     "execution_count": 6,
     "metadata": {},
     "output_type": "execute_result"
    }
   ],
   "source": [
    "M = e1.out_matrix(extend=True) + e2.out_matrix(extend=True)\n",
    "pp(M)"
   ]
  },
  {
   "cell_type": "markdown",
   "metadata": {},
   "source": [
    "El vector fuerza:"
   ]
  },
  {
   "cell_type": "code",
   "execution_count": 7,
   "metadata": {},
   "outputs": [
    {
     "name": "stdout",
     "output_type": "stream",
     "text": [
      "Matrix([[40000.0000000000], [0]])\n"
     ]
    },
    {
     "data": {
      "text/latex": [
       "$\\displaystyle \\left[\\begin{matrix}40000.0\\\\0\\\\0\\end{matrix}\\right]$"
      ],
      "text/plain": [
       "⎡40000.0⎤\n",
       "⎢       ⎥\n",
       "⎢   0   ⎥\n",
       "⎢       ⎥\n",
       "⎣   0   ⎦"
      ]
     },
     "execution_count": 7,
     "metadata": {},
     "output_type": "execute_result"
    }
   ],
   "source": [
    "print(e1.out_force())\n",
    "F = e1.out_force(extend=True) + e2.out_force(extend=True)\n",
    "pp(F)"
   ]
  },
  {
   "cell_type": "markdown",
   "metadata": {},
   "source": [
    "Aplicamos las condiciones de frontera de Dirichlet (temperatura conocida) substituyendo la línea\n",
    "correspondiente al valor conocido con el correspondiente vector de la matriz unitiaria colocado\n",
    "en el renglón de la incógnita conocida."
   ]
  },
  {
   "cell_type": "code",
   "execution_count": 8,
   "metadata": {},
   "outputs": [
    {
     "data": {
      "text/latex": [
       "$\\displaystyle \\left[\\begin{matrix}1000.0 & -900.0 & 0\\\\-900.0 & 2000.0 & -1100.0\\\\0 & 0 & 1.0\\end{matrix}\\right]$"
      ],
      "text/plain": [
       "⎡1000.0  -900.0     0   ⎤\n",
       "⎢                       ⎥\n",
       "⎢-900.0  2000.0  -1100.0⎥\n",
       "⎢                       ⎥\n",
       "⎣  0       0       1.0  ⎦"
      ]
     },
     "execution_count": 8,
     "metadata": {},
     "output_type": "execute_result"
    }
   ],
   "source": [
    "# Diriclhet\n",
    "Md = M.copy()\n",
    "Fd = F.copy()\n",
    "\n",
    "Md[2] = np.array([0,0,1])\n",
    "Fd[2] = 39.18\n",
    "\n",
    "pp(Md)"
   ]
  },
  {
   "cell_type": "code",
   "execution_count": 9,
   "metadata": {},
   "outputs": [
    {
     "data": {
      "text/latex": [
       "$\\displaystyle \\left[\\begin{matrix}40000.0\\\\0\\\\39.18\\end{matrix}\\right]$"
      ],
      "text/plain": [
       "⎡40000.0⎤\n",
       "⎢       ⎥\n",
       "⎢   0   ⎥\n",
       "⎢       ⎥\n",
       "⎣ 39.18 ⎦"
      ]
     },
     "execution_count": 9,
     "metadata": {},
     "output_type": "execute_result"
    }
   ],
   "source": [
    "pp(Fd)"
   ]
  },
  {
   "cell_type": "markdown",
   "metadata": {},
   "source": [
    "Resolvemos usando `numpy`:"
   ]
  },
  {
   "cell_type": "code",
   "execution_count": 10,
   "metadata": {},
   "outputs": [
    {
     "data": {
      "text/latex": [
       "$\\displaystyle \\left[\\begin{matrix}99.8220168067227\\\\66.4689075630252\\\\39.18\\end{matrix}\\right]$"
      ],
      "text/plain": [
       "⎡99.8220168067227⎤\n",
       "⎢                ⎥\n",
       "⎢66.4689075630252⎥\n",
       "⎢                ⎥\n",
       "⎣     39.18      ⎦"
      ]
     },
     "execution_count": 10,
     "metadata": {},
     "output_type": "execute_result"
    }
   ],
   "source": [
    "T = np.linalg.solve(Md, Fd)\n",
    "pp(T)"
   ]
  },
  {
   "cell_type": "markdown",
   "metadata": {},
   "source": [
    "Para conocer el flujo de calor en el extremo derecho, podemos multiplicar nuestra solución\n",
    "por las temperaturas obtenidas."
   ]
  },
  {
   "cell_type": "code",
   "execution_count": 11,
   "metadata": {},
   "outputs": [
    {
     "data": {
      "text/latex": [
       "$\\displaystyle \\left[\\begin{matrix}40000.0\\\\2.21405116462847 \\cdot 10^{-11}\\\\-30017.7983193277\\end{matrix}\\right]$"
      ],
      "text/plain": [
       "⎡      40000.0       ⎤\n",
       "⎢                    ⎥\n",
       "⎢2.21405116462847e-11⎥\n",
       "⎢                    ⎥\n",
       "⎣ -30017.7983193277  ⎦"
      ]
     },
     "execution_count": 11,
     "metadata": {},
     "output_type": "execute_result"
    }
   ],
   "source": [
    "pp(M@T)"
   ]
  }
 ],
 "metadata": {
  "julynter-results": {
   "filteredId": [],
   "filteredIndividual": [],
   "filteredRestart": [],
   "filteredType": [],
   "hash": "0ad5fc8728a7610e8ddc681300215c5d648db7c1",
   "visible": [
    {
     "cellId": "group",
     "hash": "19d3d3d153f22e318cbe061df9e685ba5165b0aa",
     "reason": "This groups other lint messages",
     "reportId": "group",
     "reportType": "confusenotebook",
     "suggestion": null,
     "text": "Confuse Notebook"
    },
    {
     "cellId": 0,
     "hash": "cdc3a735f50840557a6e646282764015ca843713",
     "reason": "A markdown cell at the beginning of the notebook can provide a human-friendly title with no constraints and introduce the notebook, indicating its purpose and external requirements.",
     "reportId": "c4",
     "reportType": "confusenotebook",
     "suggestion": "Please consider adding a markdown cell to describe the notebook.",
     "text": "The first cell of the notebook is not a markdown cell"
    },
    {
     "cellId": 8,
     "hash": "9add5ef77a41d9a027e4165cfc23edfd47a69787",
     "reason": "A markdown cell at the end of the notebook can conclude it, presenting a summary of the obtained results.",
     "reportId": "c5",
     "reportType": "confusenotebook",
     "suggestion": "Please consider adding a markdown cell to conclude the notebook.",
     "text": "The last cell of the notebook is not a markdown cell"
    },
    {
     "cellId": "group",
     "hash": "d6fbc9d2bdd580e18ed0bc5805dc26db323d6f5f",
     "reason": "This groups other lint messages",
     "reportId": "group",
     "reportType": "import",
     "suggestion": null,
     "text": "Import"
    },
    {
     "cellId": 0,
     "hash": "36307e802208ddfb4d8adcd71af80259f2b83bd9",
     "reason": "Using a requirements file with pinned versions for all imported modules increases the reproducibility of the notebook.",
     "reportId": "i2",
     "reportType": "import",
     "suggestion": "Please consider adding them to guarantee the reproducibility.",
     "text": "Module numpy was imported by Cell 0, but it is not in the requirements file"
    },
    {
     "cellId": 0,
     "hash": "e683af8c392c2816372690c910d28037e03c955b",
     "reason": "Using a requirements file with pinned versions for all imported modules increases the reproducibility of the notebook.",
     "reportId": "i2",
     "reportType": "import",
     "suggestion": "Please consider adding them to guarantee the reproducibility.",
     "text": "Module sympy was imported by Cell 0, but it is not in the requirements file"
    },
    {
     "cellId": 0,
     "hash": "a4711c01393592d086dcd995c6a18d2f71a28b89",
     "reason": "Using a requirements file with pinned versions for all imported modules increases the reproducibility of the notebook.",
     "reportId": "i2",
     "reportType": "import",
     "suggestion": "Please consider adding them to guarantee the reproducibility.",
     "text": "Module matplotlib was imported by Cell 0, but it is not in the requirements file"
    },
    {
     "cellId": 1,
     "hash": "2ee25ccd19fefff1c87488a8703f0ccfcf2f870c",
     "reason": "Imports at the beginning of the notebook allow for a quick failure in the case of a non-installed dependency. It prevents users from stopping their executions for installing dependencies. Additionally, imports in the middle might reduce notebooks' readability by taking the attention from the logic to the import constructs.",
     "reportId": "i1",
     "reportType": "import",
     "suggestion": "Please consider moving the import to the first cell of the notebook.",
     "text": "Cell 1 has imports but it is not the first cell"
    }
   ]
  },
  "kernelspec": {
   "display_name": "Python 3 (ipykernel)",
   "language": "python",
   "name": "python3"
  },
  "language_info": {
   "codemirror_mode": {
    "name": "ipython",
    "version": 3
   },
   "file_extension": ".py",
   "mimetype": "text/x-python",
   "name": "python",
   "nbconvert_exporter": "python",
   "pygments_lexer": "ipython3",
   "version": "3.11.3"
  }
 },
 "nbformat": 4,
 "nbformat_minor": 4
}
