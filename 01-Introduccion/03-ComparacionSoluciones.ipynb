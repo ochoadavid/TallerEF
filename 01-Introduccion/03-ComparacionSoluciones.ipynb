{
 "cells": [
  {
   "cell_type": "markdown",
   "metadata": {
    "slideshow": {
     "slide_type": "slide"
    }
   },
   "source": [
    "## Comparación entre las dos soluciones"
   ]
  },
  {
   "cell_type": "markdown",
   "metadata": {
    "slideshow": {
     "slide_type": "slide"
    }
   },
   "source": [
    "La solución analítica nos dio (evaluando en $x=0$, $x=L/2$ y $x=L$):\n",
    "\n",
    "$$ T\\big{|}_{x=0} = T_L + \\frac {Q}{2K} (L^2 - (0)^2) + \\frac {q}{K}(L-(0)) = \\frac {qL}{K} + \\frac {QL^2}{2K} + T_L \\ \\checkmark $$  "
   ]
  },
  {
   "cell_type": "markdown",
   "metadata": {
    "slideshow": {
     "slide_type": "slide"
    }
   },
   "source": [
    "$$ T\\big{|}_{x=L/2} = T_L + \\frac {Q}{2K} (L^2 - (L/2)^2) + \\frac {q}{K}(L-(L/2)) = \\frac {qL}{2K} + \\frac {3QL^2}{8K} + T_L \\ \\checkmark $$  "
   ]
  },
  {
   "cell_type": "markdown",
   "metadata": {
    "slideshow": {
     "slide_type": "slide"
    }
   },
   "source": [
    "$$ T\\big{|}_{x=L} = T_L + \\frac {Q}{2K} (L^2 - L^2) + \\frac {q}{K}(L-L) = T_L \\ \\checkmark $$  "
   ]
  },
  {
   "cell_type": "markdown",
   "metadata": {
    "slideshow": {
     "slide_type": "slide"
    }
   },
   "source": [
    "Para comparar los resultados analíticos y usando __MEF__ usaremos los siguientes valores:\n",
    "\n",
    "$$ L = 3\\,m $$\n",
    "\n",
    "$$ K = 50\\,\\left(\\frac {W} {m\\cdot K}\\right) $$\n",
    "\n",
    "$$ q = 25\\,\\frac{W}{m^2} $$\n",
    "\n",
    "$$ Q = 40\\,\\frac{W}{m^3} $$\n",
    "\n",
    "$$ T_L = 300\\,K $$"
   ]
  },
  {
   "cell_type": "markdown",
   "metadata": {
    "slideshow": {
     "slide_type": "slide"
    }
   },
   "source": [
    "De manera que: \n",
    "\n",
    "$$ T(x) = 300\\,K + \\frac {40\\,\\frac{W}{m^3}}{2(50\\,\\left(\\frac {W} {m\\cdot K}\\right))} ((3\\,m)^2 - x^2) + \\frac {25\\,\\frac{W}{m^2}}{50\\,\\left(\\frac {W} {m\\cdot K}\\right)}(3\\,m-x) $$"
   ]
  },
  {
   "cell_type": "markdown",
   "metadata": {
    "slideshow": {
     "slide_type": "slide"
    }
   },
   "source": [
    "$$ a_1 = \\frac {25\\,\\frac{W}{m^2}(3\\,m)} {50\\,\\left(\\frac {W} {m\\cdot K}\\right)} + \\frac {40\\,\\frac{W}{m^3}(3\\,m)^2} {2(50\\,\\left(\\frac {W} {m\\cdot K}\\right))} + 300\\,K = 305.1\\,K$$"
   ]
  },
  {
   "cell_type": "markdown",
   "metadata": {
    "slideshow": {
     "slide_type": "slide"
    }
   },
   "source": [
    "$$a_2 = \\frac {25\\,\\frac{W}{m^2}(3\\,m)} {2(50\\,\\left(\\frac {W} {m\\cdot K}\\right))} + \\frac {3(40\\,\\frac{W}{m^3})(3\\,m)^2} {8(50\\,\\left(\\frac {W} {m\\cdot K}\\right))} + 300\\,K = 303.45\\,K $$"
   ]
  },
  {
   "cell_type": "markdown",
   "metadata": {
    "slideshow": {
     "slide_type": "slide"
    }
   },
   "source": [
    "$$a_3 = 300\\,K$$"
   ]
  },
  {
   "cell_type": "markdown",
   "metadata": {
    "slideshow": {
     "slide_type": "slide"
    }
   },
   "source": [
    "## Gráficos de las soluciones"
   ]
  },
  {
   "cell_type": "code",
   "execution_count": 1,
   "metadata": {
    "slideshow": {
     "slide_type": "slide"
    }
   },
   "outputs": [],
   "source": [
    "# Importar librerias utilizadas\n",
    "# numpy <- Álgebra lineal\n",
    "# matplotlib.pyplot <- Gráficas\n",
    "import numpy as np\n",
    "import matplotlib.pyplot as plt\n",
    "%matplotlib inline"
   ]
  },
  {
   "cell_type": "code",
   "execution_count": 2,
   "metadata": {
    "slideshow": {
     "slide_type": "slide"
    }
   },
   "outputs": [],
   "source": [
    "# Para la solución analítica hacemos una variable t que va de 0 a 3,\n",
    "# con 50 valores intermedios (0.00, 0.06, 0.12, ...., 3.00)\n",
    "# y calculamos T para estos puntos\n",
    "x = np.linspace(0,3,50)\n",
    "T = 300 + 4*(3**2 - x**2)/(2*5) + (3 - x)/2"
   ]
  },
  {
   "cell_type": "code",
   "execution_count": 3,
   "metadata": {
    "slideshow": {
     "slide_type": "slide"
    }
   },
   "outputs": [],
   "source": [
    "# Para la solución usando MEF tomamos tres puntos (0.00, 1.50, 3.00)\n",
    "# y los tres valores conocidos de T obtenidos arriba (305.1,303.45,300)\n",
    "x_mef = [0,1.5,3.0]\n",
    "T_mef = [305.1,303.45,300]"
   ]
  },
  {
   "cell_type": "code",
   "execution_count": 4,
   "metadata": {
    "slideshow": {
     "slide_type": "slide"
    }
   },
   "outputs": [
    {
     "data": {
      "image/png": "[encoded data removed]",
      "text/plain": [
       "<Figure size 720x432 with 1 Axes>"
      ]
     },
     "metadata": {
      "needs_background": "light"
     },
     "output_type": "display_data"
    }
   ],
   "source": [
    "# Declaramos el tamaño que queremos que tenga la figura (10,6)\n",
    "plt.figure(figsize=(10,6))\n",
    "# hacemos la gráfica de la solución analítica\n",
    "plt.plot(x,T,label='Solución\\nAnalítica')\n",
    "# la gráfica de la solución usando MEF en linea quebrada '--', \n",
    "# roja 'R' y con puntos en los nodos 'o' -> '--ro'\n",
    "plt.plot(x_mef,T_mef,'--ro', label='MEF')\n",
    "# etiquetas de los ejes\n",
    "plt.xlabel('Posición $x (m)$')\n",
    "plt.ylabel('Temperatura $T (K)$')\n",
    "# muestra el recuadro para identificar las soluciones\n",
    "plt.legend()\n",
    "# presenta la figura\n",
    "plt.show()"
   ]
  }
 ],
 "metadata": {
  "celltoolbar": "Slideshow",
  "kernelspec": {
   "display_name": "Python 3",
   "language": "python",
   "name": "python3"
  },
  "language_info": {
   "codemirror_mode": {
    "name": "ipython",
    "version": 3
   },
   "file_extension": ".py",
   "mimetype": "text/x-python",
   "name": "python",
   "nbconvert_exporter": "python",
   "pygments_lexer": "ipython3",
   "version": "3.7.10"
  }
 },
 "nbformat": 4,
 "nbformat_minor": 4
}
