{
 "cells": [
  {
   "cell_type": "markdown",
   "metadata": {
    "slideshow": {
     "slide_type": "slide"
    }
   },
   "source": [
    "# Solución usando el Método de los Elementos Finitos"
   ]
  },
  {
   "cell_type": "markdown",
   "metadata": {
    "slideshow": {
     "slide_type": "slide"
    }
   },
   "source": [
    "Hay dos métodos para formular y resolver las ecuaciones diferenciales usando MEF. Históricamente se desarrollo primero el método conocido como Rayleigh-Ritz y después el propuesto por Galerkin. Otros métodos son pesos constantes, mínimos cuadrados. Todos estos métodos son aplicaciones particulares del método de residuos ponderados."
   ]
  },
  {
   "cell_type": "markdown",
   "metadata": {
    "slideshow": {
     "slide_type": "slide"
    }
   },
   "source": [
    "## División del dominio\n",
    "\n",
    "Independientemente de que método será utilizado el primer paso es definir una malla en el intervalo $0\\le x \\le L$, consistiendo de un número finito de intervalos no sobrepuestos, donde cada subintervalo será llamado __elemento__ y cada extremo de los subintervalos será llamado __nodo__. \n",
    "\n",
    "$$ e_k = \\{ x:x_k \\le x \\le x_{k+1} \\}$$"
   ]
  },
  {
   "cell_type": "markdown",
   "metadata": {
    "slideshow": {
     "slide_type": "slide"
    }
   },
   "source": [
    "![Elementos](Imagenes/Elementos.png)"
   ]
  },
  {
   "cell_type": "markdown",
   "metadata": {
    "slideshow": {
     "slide_type": "slide"
    }
   },
   "source": [
    "## Solución propuesta\n",
    "\n",
    "Para cada uno de estos elementos la distribución de temperatura será aproximada utilizando funciones conocidas predeterminadas dependientes de la variable $x$, que llamaremos \"_funciones de forma_\" $\\phi_j(x)$ y una serie de parámetros desconocidos correspondientes $a_j$."
   ]
  },
  {
   "cell_type": "markdown",
   "metadata": {
    "slideshow": {
     "slide_type": "slide"
    }
   },
   "source": [
    "Así, definimos un subintervalo $e_k$, junto con una serie de funciones $\\phi_j(x)$ y el mismo número de parámetros $a_j$ de tal manera que, si los parámetros $a_j$ son conocidos podremos obtener una aproximación de la función $T(x)$ haciendo:\n",
    "\n",
    "$$T(x) \\approx a_1 \\phi_1 (x) + a_2 \\phi_2 (x) + ... + a_{n+1} \\phi_{n+1} (x) $$"
   ]
  },
  {
   "cell_type": "markdown",
   "metadata": {
    "slideshow": {
     "slide_type": "slide"
    }
   },
   "source": [
    "$$T(x) \\approx \\sum_{i=0}^{n+1} a_i \\phi_i (x) $$"
   ]
  },
  {
   "cell_type": "markdown",
   "metadata": {
    "slideshow": {
     "slide_type": "slide"
    }
   },
   "source": [
    "## Residuos ponderados\n",
    "\n",
    "Normalmente esto no nos va permitir obtener una solución exacta, por lo que tendremos que en nuestra ecuación diferencial original:\n",
    "\n",
    "$$0 = -K \\frac {d^2 T} {dx^2} - Q $$\n",
    "\n",
    "Tendremos una diferencia o __residual__ ($R(T, x)$):\n",
    "\n",
    "$$R(T, x) = -K \\frac {d^2 T} {dx^2} - Q $$"
   ]
  },
  {
   "cell_type": "markdown",
   "metadata": {
    "slideshow": {
     "slide_type": "slide"
    }
   },
   "source": [
    "La solución exacta $T^*$ cumple la siguiente ecuación:\n",
    "\n",
    "$$R(T^*, x) = 0 $$"
   ]
  },
  {
   "cell_type": "markdown",
   "metadata": {
    "slideshow": {
     "slide_type": "slide"
    }
   },
   "source": [
    "Como $T^* \\ne T$, no podemos forzar el residual a desaparecer en todo punto $x$, sin importar que tan pequeña hagamos la malla. La idea de los _residuos ponderados_ es que podemos multiplicar los residuos por una \"ponderación\" (o peso) y forzar la ecuación a volverse cero. Es decir:\n",
    "\n",
    "$$\\int_0^L W(x)R(T, x)dx=0$$"
   ]
  },
  {
   "cell_type": "markdown",
   "metadata": {
    "slideshow": {
     "slide_type": "slide"
    }
   },
   "source": [
    "Donde $W(x)$ es una función de ponderación. Seleccionando funciones para $W(x)$ reemplazando las en esta ecuación podemos generar varios sistemas de ecuaciones dependientes de los parámetros $a_i$ que van a determinar una aproximación $T$ en la forma de sumas finitas. Esta solución va a satisfacer la ecuación diferencial en \"promedio\" o como una \"integral\". "
   ]
  },
  {
   "cell_type": "markdown",
   "metadata": {
    "slideshow": {
     "slide_type": "slide"
    }
   },
   "source": [
    "## Galerkin\n",
    "\n",
    "El tipo de función seleccionada para $W()$, depende del tipo de técnica de residuales seleccionado. En el procedimiento de Galerkin, los pesos son establecidos como la misma función de peso $\\phi(x)$, de tal manera que:\n",
    "\n",
    "$$W_i(x)=\\phi_i(x)$$"
   ]
  },
  {
   "cell_type": "markdown",
   "metadata": {
    "slideshow": {
     "slide_type": "slide"
    }
   },
   "source": [
    "Una de las ventajas del método de Galerkin es que, como consecuencia de tener el mismo número de parámetros $a_i$ que funciones, el sistema lineal producido tenga el mismo numero de ecuaciones que de incógnitas."
   ]
  },
  {
   "cell_type": "markdown",
   "metadata": {
    "slideshow": {
     "slide_type": "slide"
    }
   },
   "source": [
    "La manera de seleccionar las funciones a ser utilizadas como funciones de forma $\\phi(x)$ es lo que define el método de los elementos finitos. Para motivos de este curso utilizaremos sólo las funciones más simples (lineales, cuadráticas y cúbicas) pero otras funciones (mayor orden, trascendentales) se pueden utilizar, aunque normalmente tienen una demanda mayor de recursos computacionales. "
   ]
  },
  {
   "cell_type": "markdown",
   "metadata": {
    "slideshow": {
     "slide_type": "slide"
    }
   },
   "source": [
    "Ahora queremos evaluar la integral con de nuestra ecuación diferencial con las correspondientes funciones de forma:\n",
    "\n",
    "$$\\int_0^L \\phi(x)\\left[ -K \\frac {d^2 T} {dx^2} - Q \\right]dx=0$$"
   ]
  },
  {
   "cell_type": "markdown",
   "metadata": {
    "slideshow": {
     "slide_type": "slide"
    }
   },
   "source": [
    "La opción de utilizar funciones lineales para $\\phi(x)$ parece atractiva, sin embargo en ese caso tendríamos que las segundas derivadas se hacen cero en el interior de los intervalos y no están definidas en los nodos. "
   ]
  },
  {
   "cell_type": "markdown",
   "metadata": {
    "slideshow": {
     "slide_type": "slide"
    }
   },
   "source": [
    "![Funciones Lineales](Imagenes/FuncLineales.png)"
   ]
  },
  {
   "cell_type": "markdown",
   "metadata": {
    "slideshow": {
     "slide_type": "slide"
    }
   },
   "source": [
    "## Formulación débil\n",
    "\n",
    "Para poder resolver esta dificultad utilizamos la integración por partes para el primer elemento de la suma, usando:\n",
    "\n",
    "$$ \\int u \\cdot dv = u \\cdot v - \\int v \\cdot du $$\n",
    "\n",
    "$$ u = \\phi(x) $$\n",
    "\n",
    "$$ dv = \\frac {d^2 T} {dx^2} $$\n",
    "\n",
    "$$\\int_0^L \\phi(x)\\left[ -K \\frac {d^2 T} {dx^2}  \\right]dx= - K\\phi\\dfrac {dT}{dx}\\Big|_0^L + \\int_0^L K \\frac {d\\phi}{dx} \\frac{dT}{dx} dx $$"
   ]
  },
  {
   "cell_type": "markdown",
   "metadata": {
    "slideshow": {
     "slide_type": "slide"
    }
   },
   "source": [
    "De manera que la ecuación queda:\n",
    "\n",
    "$$\\int_0^L K \\frac {d\\phi}{dx} \\frac{dT}{dx} dx -\\int_0^L \\phi(x)Q dx - K\\phi\\dfrac {dT}{dx}\\Big|_0^L = 0$$"
   ]
  },
  {
   "cell_type": "markdown",
   "metadata": {
    "slideshow": {
     "slide_type": "slide"
    }
   },
   "source": [
    "Esto se conoce como la formulación _\"débil\"_ (_\"weak\"_ formulation) ya que la necesidad de la existencia de la segunda derivada se a relajado: ya no es necesario que exista, ni que esté definida en todos los puntos. \n",
    "\n",
    "Esto se logró usando la integración por partes."
   ]
  },
  {
   "cell_type": "markdown",
   "metadata": {
    "slideshow": {
     "slide_type": "slide"
    }
   },
   "source": [
    "Recordemos que estamos aproximando la temperatura usando:\n",
    "\n",
    "$$T(x) \\approx \\sum_{j=0}^{n+1} a_j \\phi_j (x) $$"
   ]
  },
  {
   "cell_type": "markdown",
   "metadata": {
    "slideshow": {
     "slide_type": "slide"
    }
   },
   "source": [
    "Así, podemos reescribir la ecuación usando sumatorias:\n",
    "\n",
    "\n",
    "$$\\sum_{j=1}^{n+1}\\int_0^L K \\frac {d\\phi_i}{dx} \\frac{d\\phi_j}{dx}a_j dx -\\int_0^L \\phi_i Q dx - K\\phi_i \\dfrac {dT}{dx}\\Big|_0^L = 0$$\n",
    "\n",
    "$$i = 1, 2, ..., n+1$$"
   ]
  },
  {
   "cell_type": "markdown",
   "metadata": {
    "slideshow": {
     "slide_type": "slide"
    }
   },
   "source": [
    "Resulta importante hacer notar que en esta ecuación las condiciones de frontera para la primera derivada $ dT / dx $ han sido incorporadas automáticamente. Según las condiciones utilizaremos los valores establecidos o $0$."
   ]
  },
  {
   "cell_type": "markdown",
   "metadata": {
    "slideshow": {
     "slide_type": "slide"
    }
   },
   "source": [
    "La ventaja del método de Galerkin es que, en lugar de tener que determinar el valor de $T(x)$ para todos los valores de $x$ en el dominio, sólo necesitamos determinar una serie de parámetros $a_i, \\,i=1,2,...,n+1$ (número finito) para obtener una solución (aproximada) de la ecuación diferencial."
   ]
  },
  {
   "cell_type": "markdown",
   "metadata": {
    "slideshow": {
     "slide_type": "slide"
    }
   },
   "source": [
    "Para mostrar este procedimiento, discretizaremos nuestro problema en dos elementos de igual longitud. Así, tres puntos definirán la temperatura para todo el dominio. El primero $x = x_i = 0$, el segundo $x = x_2 = L/2$ y el tercero $x = x_3 = L$\n",
    "\n",
    "![Dos Elementos](Imagenes/DosElementos.png)"
   ]
  },
  {
   "cell_type": "markdown",
   "metadata": {
    "slideshow": {
     "slide_type": "slide"
    }
   },
   "source": [
    "Si asumimos que la variación de $\\phi(x)$ entre los nodos es lineal para cada elemento $e_i$ podemos convenientemente expresar la variable dependiente $T(x)$ como:\n",
    "\n",
    "$$T(x)=\\phi_i(x)a_i+\\phi_{i+1}(x)a_{i+1}$$ \n",
    "\n",
    "para el intervalo $x_i\\le x\\le x_{i+1}$"
   ]
  },
  {
   "cell_type": "markdown",
   "metadata": {
    "slideshow": {
     "slide_type": "slide"
    }
   },
   "source": [
    "Las funciones $\\phi_i$ son escogidas de tal manera que $\\phi_i(x_i) = 1$ y $\\phi_i(x_{i+1}) = 0$ y viceversa $\\phi_{i+1}(x_i) = 0$ y $\\phi_{i+1}(x_{i+1}) = 1$, así las funciones (lineales) son:\n",
    "\n",
    "$$\\phi_i(x)=\\dfrac {x_{i+1} - x} {x_{i+1} - x_i}$$\n",
    "\n",
    "$$\\phi_{i+1}(x)=\\dfrac {x - x_i} {x_{i+1} - x_i}$$"
   ]
  },
  {
   "cell_type": "markdown",
   "metadata": {
    "slideshow": {
     "slide_type": "slide"
    }
   },
   "source": [
    "Y, por lo tanto, los parámetros $a_i$ serán las temperaturas en los nodos, esto es, $a_i = T(x_i) = T_i$."
   ]
  },
  {
   "cell_type": "markdown",
   "metadata": {
    "slideshow": {
     "slide_type": "slide"
    }
   },
   "source": [
    "Las derivadas de estas funciones pueden ser calculadas fácilmente:\n",
    "\n",
    "$$\\frac {d\\phi_i}{dx} = - \\dfrac {1} {x_{i+1} - x_i}$$\n",
    "\n",
    "$$\\frac {d\\phi_{i+1}}{dx}= \\dfrac {1} {x_{i+1} - x_i}$$"
   ]
  },
  {
   "cell_type": "markdown",
   "metadata": {
    "slideshow": {
     "slide_type": "slide"
    }
   },
   "source": [
    "## Formulación matricial\n",
    "\n",
    "Usar la forma matricial nos permite expresar esto de una manera mas sencilla:\n",
    "\n",
    "$$T(x) = \\phi a$$\n",
    "\n",
    "donde \n",
    "\n",
    "$$\\phi = \\begin{bmatrix} \\phi_i & \\phi_{i+1} \\end{bmatrix}$$\n",
    "\n",
    "$$a = \\begin{bmatrix} a_i \\\\ a_{i+1} \\end{bmatrix}$$"
   ]
  },
  {
   "cell_type": "markdown",
   "metadata": {
    "slideshow": {
     "slide_type": "slide"
    }
   },
   "source": [
    "Y, por lo tanto:\n",
    "\n",
    "$$ \\frac {dT}{dx} = \\frac {d}{dx} \\phi a = \\begin{bmatrix}\\frac {d\\phi_i}{dx} & \\frac {d\\phi_{i+1}}{dx} \\end{bmatrix}\\begin{bmatrix} a_i \\\\ a_{i+1} \\end{bmatrix}$$ "
   ]
  },
  {
   "cell_type": "markdown",
   "metadata": {
    "slideshow": {
     "slide_type": "slide"
    }
   },
   "source": [
    "Lo que, substituyendo, queda:\n",
    "\n",
    "$$ \\frac {d}{dx} \\phi= \\begin{bmatrix}- \\dfrac {1} {x_{i+1} - x_i} & \\dfrac {1} {x_{i+1} - x_i} \\end{bmatrix}$$ "
   ]
  },
  {
   "cell_type": "markdown",
   "metadata": {
    "slideshow": {
     "slide_type": "slide"
    }
   },
   "source": [
    "Así, queremos usar estas expresiones para:\n",
    "\n",
    "$$\\sum_{j=1}^{2}K \\left[ \\int_0^{L/2} \\frac {d\\phi_1}{dx} \\frac{d\\phi_j}{dx} dx \\right]a_j -\\int_0^{L/2} \\phi_1 Q dx - K\\phi_1 \\dfrac {dT}{dx}\\Big|_{x=0}^{x = L/2} = 0$$\n",
    "\n",
    "\n",
    "$$\\sum_{j=1}^{2}K \\left[\\int_{L/2}^{L} \\frac {d\\phi_2}{dx} \\frac{d\\phi_j}{dx}dx\\right]a_j  -\\int_{L/2}^{L} \\phi_2 Q dx - K\\phi_2 \\dfrac {dT}{dx}\\Big|_{x=L/2}^{x = L} = 0$$"
   ]
  },
  {
   "cell_type": "markdown",
   "metadata": {
    "slideshow": {
     "slide_type": "slide"
    }
   },
   "source": [
    "Que en la forma matricial queda:\n",
    "\n",
    "$$K \\left[ \\int_0^{L/2} \\left[ \\frac {d}{dx}\\phi \\right] ^T \\left[ \\frac {d}{dx}\\phi \\right] dx \\right] a - Q \\int_0^{L/2} \\phi^T dx - \\begin{bmatrix}q \\\\ 0 \\end{bmatrix} = 0$$\n",
    "\n",
    "__Nota__: No es evidente en este punto porque el segundo valor del vector $\\begin{bmatrix}q \\\\ 0 \\end{bmatrix}$ es cero, pero por el momento diremos que si no hay un flujo externo en un nodo colocaremos este valor como $0$."
   ]
  },
  {
   "cell_type": "markdown",
   "metadata": {
    "slideshow": {
     "slide_type": "slide"
    }
   },
   "source": [
    "Remplazamos:\n",
    "\n",
    "$$ \\phi = \\begin{bmatrix} 1-\\frac {2x} {L} & \\frac {2x} {L} \\end{bmatrix}$$\n",
    "\n",
    "y\n",
    "\n",
    "$$ \\dfrac {d}{dx}\\phi = \\begin{bmatrix} -\\frac {2} {L} & \\frac {2} {L} \\end{bmatrix}$$"
   ]
  },
  {
   "cell_type": "markdown",
   "metadata": {
    "slideshow": {
     "slide_type": "slide"
    }
   },
   "source": [
    "Al substituir en la primera integral:\n",
    "\n",
    "$$ \\int_0^{L/2} \\left[ \\frac {d}{dx}\\phi \\right] ^T \\left[ \\frac {d}{dx}\\phi \\right] dx = \\int_0^{L/2} \\left[\\begin{bmatrix} -\\frac {2} {L} & \\frac {2} {L} \\end{bmatrix} \\begin{bmatrix} -\\frac {2} {L} \\\\ \\frac {2} {L} \\end{bmatrix} \\right] dx$$\n",
    "\n",
    "$$= \\int_0^{L/2} \\begin{bmatrix} \\frac {4} {L^2} & -\\frac {4} {L^2} \\\\ -\\frac {4} {L^2} & \\frac {4} {L^2} \\end{bmatrix}  dx$$\n",
    "\n",
    "$$= \\frac {4} {L^2} \\begin{bmatrix} 1 & -1 \\\\ -1 & 1 \\end{bmatrix} \\int_0^{L/2} dx$$\n",
    "$$= \\frac {2} {L} \\begin{bmatrix} 1 & -1 \\\\ -1 & 1 \\end{bmatrix}$$"
   ]
  },
  {
   "cell_type": "markdown",
   "metadata": {
    "slideshow": {
     "slide_type": "slide"
    }
   },
   "source": [
    "La segunda integral:\n",
    "\n",
    "$$\\int_0^{L/2} \\phi^T dx = \\int_0^{L/2} \\begin{bmatrix} 1-\\frac {2x} {L} \\\\ \\frac {2x} {L} \\end{bmatrix} dx$$\n",
    "\n",
    "$$ \\begin{bmatrix} x-\\frac {x^2} {L} \\\\ \\frac {x^2} {L} \\end{bmatrix} \\Big{|}_0^{L/2} = \\begin{bmatrix} (L/2)-\\frac {(L/2)^2} {L} \\\\ \\frac {(L/2)^2} {L} \\end{bmatrix} = \\frac {L} {4} \\begin{bmatrix} 1 \\\\ 1 \\end{bmatrix}$$"
   ]
  },
  {
   "cell_type": "markdown",
   "metadata": {
    "slideshow": {
     "slide_type": "slide"
    }
   },
   "source": [
    "Juntando las integrales pasadas obtenemos:\n",
    "\n",
    "$$\\dfrac{2K}{L} \\begin{bmatrix} 1 & -1 \\\\ -1 & 1 \\end{bmatrix}\\begin{bmatrix} a_1 \\\\ a_2 \\end{bmatrix} - \\dfrac{QL}{4} \\begin{bmatrix} 1 \\\\ 1 \\end{bmatrix} - \\begin{bmatrix} q \\\\ 0 \\end{bmatrix} = \\begin{bmatrix} 0 \\\\ 0 \\end{bmatrix}$$"
   ]
  },
  {
   "cell_type": "markdown",
   "metadata": {
    "slideshow": {
     "slide_type": "slide"
    }
   },
   "source": [
    "Siguiendo el mismo procedimiento para el segundo elemento, obtenemos:\n",
    "\n",
    "$$\\dfrac{2K}{L} \\begin{bmatrix} 1 & -1 \\\\ -1 & 1 \\end{bmatrix}\\begin{bmatrix} a_2 \\\\ a_3 \\end{bmatrix} - \\dfrac{QL}{4} \\begin{bmatrix} 1 \\\\ 1 \\end{bmatrix} - \\begin{bmatrix} 0 \\\\ 0 \\end{bmatrix} = \\begin{bmatrix} 0 \\\\ 0 \\end{bmatrix}$$"
   ]
  },
  {
   "cell_type": "markdown",
   "metadata": {
    "slideshow": {
     "slide_type": "slide"
    }
   },
   "source": [
    "Estas expresiones son _ensambladas_ juntado aquellas que se refieren a los mismos coeficientes y funciones de peso:\n",
    "\n",
    "$$\\dfrac{2K}{L} \\begin{bmatrix} 1 & -1 & 0 \\\\ -1 & 2 & -1 \\\\ 0 & -1 & 1 \\end{bmatrix}\\begin{bmatrix} a_1 \\\\ a_2 \\\\ a_3 \\end{bmatrix} =  \\begin{bmatrix} q \\\\ 0 \\\\ 0 \\end{bmatrix} + \\dfrac{QL}{4} \\begin{bmatrix} 1 \\\\ 2 \\\\ 1 \\end{bmatrix}$$"
   ]
  },
  {
   "cell_type": "markdown",
   "metadata": {
    "slideshow": {
     "slide_type": "slide"
    }
   },
   "source": [
    "## Solución\n",
    "\n",
    "Como ya conocemos la temperatura para $T(L) = a_3 = T_L$, podemos eliminar los valores correspondientes (y una ecuación), reduciendo el problema a la solución simultanea de dos ecuaciones con dos incógnitas:\n",
    "\n",
    "$$ a_1 - a_2 = \\frac {qL} {2K} + \\frac {QL^2} {8K}$$\n",
    "\n",
    "$$ - a_1 + 2 a_2 = \\frac {QL^2} {4K} +  T_L $$"
   ]
  },
  {
   "cell_type": "markdown",
   "metadata": {
    "slideshow": {
     "slide_type": "slide"
    }
   },
   "source": [
    "Para resolverlo, podemos sumar las dos ecuaciones:\n",
    "\n",
    "$$ a_1 - a_2 - a_1 + 2 a_2 = \\frac {qL} {2K} + \\frac {QL^2} {8K} + \\frac {QL^2} {4K} +  T_L$$\n",
    "\n",
    "$$ a_2 = \\frac {qL} {2K} + \\frac {3QL^2} {8K} +  T_L $$"
   ]
  },
  {
   "cell_type": "markdown",
   "metadata": {
    "slideshow": {
     "slide_type": "slide"
    }
   },
   "source": [
    "Y, para obtener $a_1$ substituimos este valor en alguna de las ecuaciones:\n",
    "\n",
    "$$ a_1 - (\\frac {qL} {2K} + \\frac {3QL^2} {8K} +  T_L) = \\frac {qL} {2K} + \\frac {QL^2} {8K}$$\n",
    "\n",
    "$$a_1 = \\frac {qL} {K} + \\frac {QL^2} {2K} + T_L$$"
   ]
  },
  {
   "cell_type": "markdown",
   "metadata": {
    "slideshow": {
     "slide_type": "slide"
    }
   },
   "source": [
    "Así, la solución de $a_1$, $a_2$ y $a_3$ resulta:\n",
    "\n",
    "$$a_1 = \\frac {qL} {K} + \\frac {QL^2} {2K} + T_L$$\n",
    "\n",
    "$$a_2 = \\frac {qL} {2K} + \\frac {3QL^2} {8K} + T_L$$\n",
    "\n",
    "$$a_3 = T_L$$"
   ]
  },
  {
   "cell_type": "markdown",
   "metadata": {
    "slideshow": {
     "slide_type": "slide"
    }
   },
   "source": [
    "Estas deberán ser substituidas en la ecuación (aproximada) de $T(x)$:\n",
    "\n",
    "$$T(x) \\approx a_1 \\phi_1 (x) + a_2 \\phi_2 (x) + a_3 \\phi_3 (x) $$\n",
    "\n",
    "$$T(x) \\approx \\left(\\frac {qL} {K} + \\frac {QL^2} {2K} + T_L \\right) \\phi_1 (x) + \\left( \\frac {qL} {2K} + \\frac {3QL^2} {8K} + T_L \\right) \\phi_2 (x) + T_L \\phi_3 (x) $$"
   ]
  },
  {
   "cell_type": "markdown",
   "metadata": {
    "slideshow": {
     "slide_type": "slide"
    }
   },
   "source": [
    "Observese que la solución de la matriz ($a_1$, $a_2$ y $a_3$) nos permite conocer, en realidad, la solución de la función $T(x)$ para en tres puntos específicos. Esto es así por la forma en que fueron utilizadas las funciones de forma ($\\phi_1 (x)$, $\\phi_2 (x)$ y $\\phi_3 (x)$)."
   ]
  }
 ],
 "metadata": {
  "celltoolbar": "Slideshow",
  "kernelspec": {
   "display_name": "Python 3 (ipykernel)",
   "language": "python",
   "name": "python3"
  },
  "language_info": {
   "codemirror_mode": {
    "name": "ipython",
    "version": 3
   },
   "file_extension": ".py",
   "mimetype": "text/x-python",
   "name": "python",
   "nbconvert_exporter": "python",
   "pygments_lexer": "ipython3",
   "version": "3.11.3"
  }
 },
 "nbformat": 4,
 "nbformat_minor": 4
}
