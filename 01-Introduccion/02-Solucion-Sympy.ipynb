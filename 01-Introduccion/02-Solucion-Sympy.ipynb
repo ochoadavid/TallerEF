{
 "cells": [
  {
   "cell_type": "markdown",
   "metadata": {},
   "source": [
    "# Solución usando MEF y Sympy"
   ]
  },
  {
   "cell_type": "markdown",
   "metadata": {},
   "source": [
    "Importamos las librería Sympy"
   ]
  },
  {
   "cell_type": "code",
   "execution_count": 1,
   "metadata": {},
   "outputs": [],
   "source": [
    "import sympy as sp\n",
    "sp.init_printing(use_unicode=True)"
   ]
  },
  {
   "cell_type": "markdown",
   "metadata": {},
   "source": [
    "Declaramos las variables necesarias"
   ]
  },
  {
   "cell_type": "code",
   "execution_count": 2,
   "metadata": {},
   "outputs": [],
   "source": [
    "x, he, L, K, Q, q, T_1, T_2, T_3, T_L = sp.symbols('x, h^{(e)}, L, K, Q, q, T_1, T_2, T_3, T_L')"
   ]
  },
  {
   "cell_type": "markdown",
   "metadata": {},
   "source": [
    "Construimos un vector con las funciones de forma\n",
    "\n",
    "__Nota__: En este caso estoy substituyendo el tamaño del elemento $h^{(e)}$ por $L/2$, pues los dos elementos tienen el mismo tamaño."
   ]
  },
  {
   "cell_type": "code",
   "execution_count": 3,
   "metadata": {},
   "outputs": [
    {
     "data": {
      "text/latex": [
       "$\\displaystyle \\left[\\begin{matrix}1 - \\frac{2 x}{L} & \\frac{2 x}{L}\\end{matrix}\\right]$"
      ],
      "text/plain": [
       "⎡    2⋅x  2⋅x⎤\n",
       "⎢1 - ───  ───⎥\n",
       "⎣     L    L ⎦"
      ]
     },
     "execution_count": 3,
     "metadata": {},
     "output_type": "execute_result"
    }
   ],
   "source": [
    "N = sp.Matrix([1-x/he, x/he]).T\n",
    "N = N.subs(he,L/2)\n",
    "N"
   ]
  },
  {
   "cell_type": "markdown",
   "metadata": {},
   "source": [
    "La derivada de dicho vector"
   ]
  },
  {
   "cell_type": "code",
   "execution_count": 4,
   "metadata": {},
   "outputs": [
    {
     "data": {
      "text/latex": [
       "$\\displaystyle \\left[\\begin{matrix}- \\frac{2}{L} & \\frac{2}{L}\\end{matrix}\\right]$"
      ],
      "text/plain": [
       "⎡-2   2⎤\n",
       "⎢───  ─⎥\n",
       "⎣ L   L⎦"
      ]
     },
     "execution_count": 4,
     "metadata": {},
     "output_type": "execute_result"
    }
   ],
   "source": [
    "dN= sp.diff(N, x)\n",
    "dN.subs(he,L/2)"
   ]
  },
  {
   "cell_type": "markdown",
   "metadata": {},
   "source": [
    "Para el primer elemento, las incóginitas son $T_1$ y $T_2$."
   ]
  },
  {
   "cell_type": "code",
   "execution_count": 5,
   "metadata": {},
   "outputs": [
    {
     "data": {
      "text/latex": [
       "$\\displaystyle \\left[\\begin{matrix}T_{1}\\\\T_{2}\\end{matrix}\\right]$"
      ],
      "text/plain": [
       "⎡T₁⎤\n",
       "⎢  ⎥\n",
       "⎣T₂⎦"
      ]
     },
     "execution_count": 5,
     "metadata": {},
     "output_type": "execute_result"
    }
   ],
   "source": [
    "T = sp.Matrix([T_1, T_2])\n",
    "T"
   ]
  },
  {
   "cell_type": "markdown",
   "metadata": {},
   "source": [
    "Las ecuaciones de comportamiento (nótese que que fueron igualadas a cero):"
   ]
  },
  {
   "cell_type": "code",
   "execution_count": 6,
   "metadata": {},
   "outputs": [
    {
     "data": {
      "text/latex": [
       "$\\displaystyle \\left[\\begin{matrix}\\frac{2 K T_{1}}{L} - \\frac{2 K T_{2}}{L} - \\frac{L Q}{4} - q\\\\- \\frac{2 K T_{1}}{L} + \\frac{2 K T_{2}}{L} - \\frac{L Q}{4}\\end{matrix}\\right]$"
      ],
      "text/plain": [
       "⎡2⋅K⋅T₁   2⋅K⋅T₂   L⋅Q    ⎤\n",
       "⎢────── - ────── - ─── - q⎥\n",
       "⎢  L        L       4     ⎥\n",
       "⎢                         ⎥\n",
       "⎢   2⋅K⋅T₁   2⋅K⋅T₂   L⋅Q ⎥\n",
       "⎢ - ────── + ────── - ─── ⎥\n",
       "⎣     L        L       4  ⎦"
      ]
     },
     "execution_count": 6,
     "metadata": {},
     "output_type": "execute_result"
    }
   ],
   "source": [
    "eq1 = K * sp.integrate(dN.T * dN, (x, 0, L/2)) * T - Q * sp.integrate(N.T, (x, 0, L/2)) - sp.Matrix([q,0])\n",
    "eq1"
   ]
  },
  {
   "cell_type": "markdown",
   "metadata": {},
   "source": [
    "El segundo elemento tiene como incógnitas $T_2$ y $T_3$."
   ]
  },
  {
   "cell_type": "code",
   "execution_count": 7,
   "metadata": {},
   "outputs": [
    {
     "data": {
      "text/latex": [
       "$\\displaystyle \\left[\\begin{matrix}T_{2}\\\\T_{3}\\end{matrix}\\right]$"
      ],
      "text/plain": [
       "⎡T₂⎤\n",
       "⎢  ⎥\n",
       "⎣T₃⎦"
      ]
     },
     "execution_count": 7,
     "metadata": {},
     "output_type": "execute_result"
    }
   ],
   "source": [
    "T = sp.Matrix([T_2, T_3])\n",
    "T"
   ]
  },
  {
   "cell_type": "markdown",
   "metadata": {},
   "source": [
    "Las ecuaciones serían:"
   ]
  },
  {
   "cell_type": "code",
   "execution_count": 8,
   "metadata": {},
   "outputs": [
    {
     "data": {
      "text/latex": [
       "$\\displaystyle \\left[\\begin{matrix}\\frac{2 K T_{2}}{L} - \\frac{2 K T_{3}}{L} - \\frac{L Q}{4}\\\\- \\frac{2 K T_{2}}{L} + \\frac{2 K T_{3}}{L} - \\frac{L Q}{4}\\end{matrix}\\right]$"
      ],
      "text/plain": [
       "⎡ 2⋅K⋅T₂   2⋅K⋅T₃   L⋅Q ⎤\n",
       "⎢ ────── - ────── - ─── ⎥\n",
       "⎢   L        L       4  ⎥\n",
       "⎢                       ⎥\n",
       "⎢  2⋅K⋅T₂   2⋅K⋅T₃   L⋅Q⎥\n",
       "⎢- ────── + ────── - ───⎥\n",
       "⎣    L        L       4 ⎦"
      ]
     },
     "execution_count": 8,
     "metadata": {},
     "output_type": "execute_result"
    }
   ],
   "source": [
    "eq2 = K * sp.integrate(dN.T * dN, (x, 0, L/2)) *T - Q * sp.integrate(N.T, (x, 0, L/2)) - sp.Matrix([0,0])\n",
    "eq2"
   ]
  },
  {
   "cell_type": "markdown",
   "metadata": {},
   "source": [
    "El sistema de ecuaciones tiene una ecuación por incógnita:"
   ]
  },
  {
   "cell_type": "code",
   "execution_count": 9,
   "metadata": {},
   "outputs": [
    {
     "data": {
      "text/latex": [
       "$\\displaystyle \\left[\\begin{matrix}0\\\\0\\\\0\\end{matrix}\\right]$"
      ],
      "text/plain": [
       "⎡0⎤\n",
       "⎢ ⎥\n",
       "⎢0⎥\n",
       "⎢ ⎥\n",
       "⎣0⎦"
      ]
     },
     "execution_count": 9,
     "metadata": {},
     "output_type": "execute_result"
    }
   ],
   "source": [
    "eq = sp.Matrix([0,0,0])\n",
    "eq"
   ]
  },
  {
   "cell_type": "markdown",
   "metadata": {},
   "source": [
    "Colocamos las ecuaciones en el sistema de ecuaciones"
   ]
  },
  {
   "cell_type": "code",
   "execution_count": 10,
   "metadata": {},
   "outputs": [
    {
     "data": {
      "text/latex": [
       "$\\displaystyle \\left[\\begin{matrix}\\frac{2 K T_{1}}{L} - \\frac{2 K T_{2}}{L} - \\frac{L Q}{4} - q\\\\- \\frac{2 K T_{1}}{L} + \\frac{4 K T_{2}}{L} - \\frac{2 K T_{3}}{L} - \\frac{L Q}{2}\\\\- \\frac{2 K T_{2}}{L} + \\frac{2 K T_{3}}{L} - \\frac{L Q}{4}\\end{matrix}\\right]$"
      ],
      "text/plain": [
       "⎡   2⋅K⋅T₁   2⋅K⋅T₂   L⋅Q        ⎤\n",
       "⎢   ────── - ────── - ─── - q    ⎥\n",
       "⎢     L        L       4         ⎥\n",
       "⎢                                ⎥\n",
       "⎢  2⋅K⋅T₁   4⋅K⋅T₂   2⋅K⋅T₃   L⋅Q⎥\n",
       "⎢- ────── + ────── - ────── - ───⎥\n",
       "⎢    L        L        L       2 ⎥\n",
       "⎢                                ⎥\n",
       "⎢      2⋅K⋅T₂   2⋅K⋅T₃   L⋅Q     ⎥\n",
       "⎢    - ────── + ────── - ───     ⎥\n",
       "⎣        L        L       4      ⎦"
      ]
     },
     "execution_count": 10,
     "metadata": {},
     "output_type": "execute_result"
    }
   ],
   "source": [
    "eq[0] = eq1[0]\n",
    "eq[1] = eq1[1] + eq2[0]\n",
    "eq[2] = eq2[1]\n",
    "eq"
   ]
  },
  {
   "cell_type": "markdown",
   "metadata": {},
   "source": [
    "En realidad, sabemos que $T_3=T_L$, por lo que podemos quitar una ecuación y quedarnos con dos."
   ]
  },
  {
   "cell_type": "code",
   "execution_count": 11,
   "metadata": {},
   "outputs": [
    {
     "data": {
      "text/latex": [
       "$\\displaystyle \\left[\\begin{matrix}\\frac{2 K T_{1}}{L} - \\frac{2 K T_{2}}{L} - \\frac{L Q}{4} - q\\\\- \\frac{2 K T_{1}}{L} + \\frac{4 K T_{2}}{L} - \\frac{2 K T_{3}}{L} - \\frac{L Q}{2}\\end{matrix}\\right]$"
      ],
      "text/plain": [
       "⎡   2⋅K⋅T₁   2⋅K⋅T₂   L⋅Q        ⎤\n",
       "⎢   ────── - ────── - ─── - q    ⎥\n",
       "⎢     L        L       4         ⎥\n",
       "⎢                                ⎥\n",
       "⎢  2⋅K⋅T₁   4⋅K⋅T₂   2⋅K⋅T₃   L⋅Q⎥\n",
       "⎢- ────── + ────── - ────── - ───⎥\n",
       "⎣    L        L        L       2 ⎦"
      ]
     },
     "execution_count": 11,
     "metadata": {},
     "output_type": "execute_result"
    }
   ],
   "source": [
    "eq_incognitas= sp.Matrix(eq[0:2])\n",
    "eq_incognitas"
   ]
  },
  {
   "cell_type": "markdown",
   "metadata": {},
   "source": [
    "Resolvemos el sistema con el comando `sp.solve`."
   ]
  },
  {
   "cell_type": "code",
   "execution_count": 12,
   "metadata": {},
   "outputs": [
    {
     "data": {
      "image/png": "[encoded data removed]",
      "text/latex": [
       "$\\displaystyle \\left\\{ T_{1} : \\frac{2 K T_{L} + L^{2} Q + 2 L q}{2 K}, \\  T_{2} : \\frac{8 K T_{L} + 3 L^{2} Q + 4 L q}{8 K}\\right\\}$"
      ],
      "text/plain": [
       "⎧               2                             2          ⎫\n",
       "⎪    2⋅K⋅T_L + L ⋅Q + 2⋅L⋅q      8⋅K⋅T_L + 3⋅L ⋅Q + 4⋅L⋅q⎪\n",
       "⎨T₁: ──────────────────────, T₂: ────────────────────────⎬\n",
       "⎪             2⋅K                          8⋅K           ⎪\n",
       "⎩                                                        ⎭"
      ]
     },
     "execution_count": 12,
     "metadata": {},
     "output_type": "execute_result"
    }
   ],
   "source": [
    "sol = sp.solve(eq_incognitas.subs({'T_3':'T_L'}), T_1, T_2)\n",
    "sol"
   ]
  }
 ],
 "metadata": {
  "kernelspec": {
   "display_name": "Python 3 (ipykernel)",
   "language": "python",
   "name": "python3"
  },
  "language_info": {
   "codemirror_mode": {
    "name": "ipython",
    "version": 3
   },
   "file_extension": ".py",
   "mimetype": "text/x-python",
   "name": "python",
   "nbconvert_exporter": "python",
   "pygments_lexer": "ipython3",
   "version": "3.11.3"
  }
 },
 "nbformat": 4,
 "nbformat_minor": 4
}
