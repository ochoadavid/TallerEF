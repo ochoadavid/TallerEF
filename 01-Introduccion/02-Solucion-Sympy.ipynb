{
 "cells": [
  {
   "cell_type": "code",
   "execution_count": 1,
   "metadata": {},
   "outputs": [],
   "source": [
    "import sympy as sp\n",
    "sp.init_printing(use_unicode=True)"
   ]
  },
  {
   "cell_type": "code",
   "execution_count": 2,
   "metadata": {},
   "outputs": [],
   "source": [
    "x, L, K, Q, q, a_1, a_2, a_3, T_L = sp.symbols('x, L, K, Q, q, a_1, a_2, a_3, T_L')"
   ]
  },
  {
   "cell_type": "code",
   "execution_count": 3,
   "metadata": {},
   "outputs": [
    {
     "data": {
      "image/png": "[encoded data removed]",
      "text/latex": [
       "$$\\left[\\begin{matrix}1 - \\frac{2 x}{L} & \\frac{2 x}{L}\\end{matrix}\\right]$$"
      ],
      "text/plain": [
       "⎡    2⋅x  2⋅x⎤\n",
       "⎢1 - ───  ───⎥\n",
       "⎣     L    L ⎦"
      ]
     },
     "execution_count": 3,
     "metadata": {},
     "output_type": "execute_result"
    }
   ],
   "source": [
    "phi = sp.Matrix([1-2*x/L, 2*x/L]).T\n",
    "phi"
   ]
  },
  {
   "cell_type": "code",
   "execution_count": 4,
   "metadata": {},
   "outputs": [
    {
     "data": {
      "image/png": "[encoded data removed]",
      "text/latex": [
       "$$\\left[\\begin{matrix}- \\frac{2}{L} & \\frac{2}{L}\\end{matrix}\\right]$$"
      ],
      "text/plain": [
       "⎡-2   2⎤\n",
       "⎢───  ─⎥\n",
       "⎣ L   L⎦"
      ]
     },
     "execution_count": 4,
     "metadata": {},
     "output_type": "execute_result"
    }
   ],
   "source": [
    "dphi= sp.diff(phi, x)\n",
    "dphi"
   ]
  },
  {
   "cell_type": "code",
   "execution_count": 5,
   "metadata": {},
   "outputs": [
    {
     "data": {
      "image/png": "[encoded data removed]",
      "text/latex": [
       "$$\\left[\\begin{matrix}a_{1}\\\\a_{2}\\end{matrix}\\right]$$"
      ],
      "text/plain": [
       "⎡a₁⎤\n",
       "⎢  ⎥\n",
       "⎣a₂⎦"
      ]
     },
     "execution_count": 5,
     "metadata": {},
     "output_type": "execute_result"
    }
   ],
   "source": [
    "a = sp.Matrix([a_1, a_2])\n",
    "a"
   ]
  },
  {
   "cell_type": "code",
   "execution_count": 6,
   "metadata": {},
   "outputs": [
    {
     "data": {
      "image/png": "[encoded data removed]",
      "text/latex": [
       "$$\\left[\\begin{matrix}\\frac{2 K a_{1}}{L} - \\frac{2 K a_{2}}{L} - \\frac{L Q}{4} - q\\\\- \\frac{2 K a_{1}}{L} + \\frac{2 K a_{2}}{L} - \\frac{L Q}{4}\\end{matrix}\\right]$$"
      ],
      "text/plain": [
       "⎡2⋅K⋅a₁   2⋅K⋅a₂   L⋅Q    ⎤\n",
       "⎢────── - ────── - ─── - q⎥\n",
       "⎢  L        L       4     ⎥\n",
       "⎢                         ⎥\n",
       "⎢   2⋅K⋅a₁   2⋅K⋅a₂   L⋅Q ⎥\n",
       "⎢ - ────── + ────── - ─── ⎥\n",
       "⎣     L        L       4  ⎦"
      ]
     },
     "execution_count": 6,
     "metadata": {},
     "output_type": "execute_result"
    }
   ],
   "source": [
    "eq1 = K * sp.integrate(dphi.T * dphi, (x, 0, L/2)) *a - Q * sp.integrate(phi.T, (x, 0, L/2)) - sp.Matrix([q,0])\n",
    "eq1"
   ]
  },
  {
   "cell_type": "code",
   "execution_count": 7,
   "metadata": {},
   "outputs": [
    {
     "data": {
      "image/png": "[encoded data removed]",
      "text/latex": [
       "$$\\left[\\begin{matrix}a_{2}\\\\a_{3}\\end{matrix}\\right]$$"
      ],
      "text/plain": [
       "⎡a₂⎤\n",
       "⎢  ⎥\n",
       "⎣a₃⎦"
      ]
     },
     "execution_count": 7,
     "metadata": {},
     "output_type": "execute_result"
    }
   ],
   "source": [
    "a = sp.Matrix([a_2, a_3])\n",
    "a"
   ]
  },
  {
   "cell_type": "code",
   "execution_count": 8,
   "metadata": {},
   "outputs": [
    {
     "data": {
      "image/png": "[encoded data removed]",
      "text/latex": [
       "$$\\left[\\begin{matrix}\\frac{2 K a_{2}}{L} - \\frac{2 K a_{3}}{L} - \\frac{L Q}{4}\\\\- \\frac{2 K a_{2}}{L} + \\frac{2 K a_{3}}{L} - \\frac{L Q}{4}\\end{matrix}\\right]$$"
      ],
      "text/plain": [
       "⎡ 2⋅K⋅a₂   2⋅K⋅a₃   L⋅Q ⎤\n",
       "⎢ ────── - ────── - ─── ⎥\n",
       "⎢   L        L       4  ⎥\n",
       "⎢                       ⎥\n",
       "⎢  2⋅K⋅a₂   2⋅K⋅a₃   L⋅Q⎥\n",
       "⎢- ────── + ────── - ───⎥\n",
       "⎣    L        L       4 ⎦"
      ]
     },
     "execution_count": 8,
     "metadata": {},
     "output_type": "execute_result"
    }
   ],
   "source": [
    "eq2 = K * sp.integrate(dphi.T * dphi, (x, 0, L/2)) *a - Q * sp.integrate(phi.T, (x, 0, L/2)) - sp.Matrix([0,0])\n",
    "eq2"
   ]
  },
  {
   "cell_type": "code",
   "execution_count": 9,
   "metadata": {},
   "outputs": [
    {
     "data": {
      "image/png": "[encoded data removed]",
      "text/latex": [
       "$$\\left[\\begin{matrix}0\\\\0\\\\0\\end{matrix}\\right]$$"
      ],
      "text/plain": [
       "⎡0⎤\n",
       "⎢ ⎥\n",
       "⎢0⎥\n",
       "⎢ ⎥\n",
       "⎣0⎦"
      ]
     },
     "execution_count": 9,
     "metadata": {},
     "output_type": "execute_result"
    }
   ],
   "source": [
    "eq = sp.Matrix([0,0,0])\n",
    "eq"
   ]
  },
  {
   "cell_type": "code",
   "execution_count": 10,
   "metadata": {},
   "outputs": [
    {
     "data": {
      "image/png": "[encoded data removed]",
      "text/latex": [
       "$$\\left[\\begin{matrix}\\frac{2 K a_{1}}{L} - \\frac{2 K a_{2}}{L} - \\frac{L Q}{4} - q\\\\- \\frac{2 K a_{1}}{L} + \\frac{4 K a_{2}}{L} - \\frac{2 K a_{3}}{L} - \\frac{L Q}{2}\\\\- \\frac{2 K a_{2}}{L} + \\frac{2 K a_{3}}{L} - \\frac{L Q}{4}\\end{matrix}\\right]$$"
      ],
      "text/plain": [
       "⎡   2⋅K⋅a₁   2⋅K⋅a₂   L⋅Q        ⎤\n",
       "⎢   ────── - ────── - ─── - q    ⎥\n",
       "⎢     L        L       4         ⎥\n",
       "⎢                                ⎥\n",
       "⎢  2⋅K⋅a₁   4⋅K⋅a₂   2⋅K⋅a₃   L⋅Q⎥\n",
       "⎢- ────── + ────── - ────── - ───⎥\n",
       "⎢    L        L        L       2 ⎥\n",
       "⎢                                ⎥\n",
       "⎢      2⋅K⋅a₂   2⋅K⋅a₃   L⋅Q     ⎥\n",
       "⎢    - ────── + ────── - ───     ⎥\n",
       "⎣        L        L       4      ⎦"
      ]
     },
     "execution_count": 10,
     "metadata": {},
     "output_type": "execute_result"
    }
   ],
   "source": [
    "eq[0] = eq1[0]\n",
    "eq[1] = eq1[1] + eq2[0]\n",
    "eq[2] = eq2[1]\n",
    "eq"
   ]
  },
  {
   "cell_type": "code",
   "execution_count": 11,
   "metadata": {},
   "outputs": [
    {
     "data": {
      "image/png": "[encoded data removed]",
      "text/latex": [
       "$$\\left[\\begin{matrix}\\frac{2 K a_{1}}{L} - \\frac{2 K a_{2}}{L} - \\frac{L Q}{4} - q\\\\- \\frac{2 K a_{1}}{L} + \\frac{4 K a_{2}}{L} - \\frac{2 K a_{3}}{L} - \\frac{L Q}{2}\\end{matrix}\\right]$$"
      ],
      "text/plain": [
       "⎡   2⋅K⋅a₁   2⋅K⋅a₂   L⋅Q        ⎤\n",
       "⎢   ────── - ────── - ─── - q    ⎥\n",
       "⎢     L        L       4         ⎥\n",
       "⎢                                ⎥\n",
       "⎢  2⋅K⋅a₁   4⋅K⋅a₂   2⋅K⋅a₃   L⋅Q⎥\n",
       "⎢- ────── + ────── - ────── - ───⎥\n",
       "⎣    L        L        L       2 ⎦"
      ]
     },
     "execution_count": 11,
     "metadata": {},
     "output_type": "execute_result"
    }
   ],
   "source": [
    "eq_incognitas= sp.Matrix(eq[0:2])\n",
    "eq_incognitas"
   ]
  },
  {
   "cell_type": "code",
   "execution_count": 18,
   "metadata": {},
   "outputs": [
    {
     "data": {
      "image/png": "[encoded data removed]",
      "text/latex": [
       "$$\\left \\{ a_{1} : \\frac{K T_{L} + \\frac{L^{2} Q}{2} + L q}{K}, \\quad a_{2} : \\frac{K T_{L} + \\frac{3 L^{2} Q}{8} + \\frac{L q}{2}}{K}\\right \\}$$"
      ],
      "text/plain": [
       "⎧             2                         2        ⎫\n",
       "⎪            L ⋅Q                    3⋅L ⋅Q   L⋅q⎪\n",
       "⎪    K⋅T_L + ──── + L⋅q      K⋅T_L + ────── + ───⎪\n",
       "⎨             2                        8       2 ⎬\n",
       "⎪a₁: ──────────────────, a₂: ────────────────────⎪\n",
       "⎪            K                        K          ⎪\n",
       "⎩                                                ⎭"
      ]
     },
     "execution_count": 18,
     "metadata": {},
     "output_type": "execute_result"
    }
   ],
   "source": [
    "sol = sp.solve(eq_incognitas.subs({'a_3':'T_L'}), a_1, a_2)\n",
    "sol"
   ]
  }
 ],
 "metadata": {
  "kernelspec": {
   "display_name": "Python 3 (ipykernel)",
   "language": "python",
   "name": "python3"
  },
  "language_info": {
   "codemirror_mode": {
    "name": "ipython",
    "version": 3
   },
   "file_extension": ".py",
   "mimetype": "text/x-python",
   "name": "python",
   "nbconvert_exporter": "python",
   "pygments_lexer": "ipython3",
   "version": "3.11.3"
  }
 },
 "nbformat": 4,
 "nbformat_minor": 4
}
